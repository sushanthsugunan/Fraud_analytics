{
  "cells": [
    {
      "cell_type": "markdown",
      "metadata": {
        "_uuid": "f6b48b406f65a0ccb6017ddb718fcb22fd2f748f",
        "id": "wEASJcW0H6nj"
      },
      "source": [
        "#  <font color=green>Credit Card Fraud Detection Project</font>\n",
        "\n"
      ]
    },
    {
      "cell_type": "markdown",
      "metadata": {
        "_uuid": "bebb0c6b9850b17b41ef79bd0b51694b09ddf05c",
        "id": "wtBOauWaH6no"
      },
      "source": [
        "## Library Imports "
      ]
    },
    {
      "cell_type": "code",
      "execution_count": null,
      "metadata": {
        "_cell_guid": "b1076dfc-b9ad-4769-8c92-a6c4dae69d19",
        "_uuid": "8f2839f25d086af736a60e9eeb907d3b93b6e0e5",
        "id": "NZGiKYbJH6np",
        "outputId": "0c2b106c-f0f9-4dca-b8b0-321472c51d6a",
        "colab": {
          "base_uri": "https://localhost:8080/",
          "height": 17
        }
      },
      "outputs": [
        {
          "output_type": "display_data",
          "data": {
            "text/html": [
              "        <script type=\"text/javascript\">\n",
              "        window.PlotlyConfig = {MathJaxConfig: 'local'};\n",
              "        if (window.MathJax) {MathJax.Hub.Config({SVG: {font: \"STIX-Web\"}});}\n",
              "        if (typeof require !== 'undefined') {\n",
              "        require.undef(\"plotly\");\n",
              "        requirejs.config({\n",
              "            paths: {\n",
              "                'plotly': ['https://cdn.plot.ly/plotly-2.8.3.min']\n",
              "            }\n",
              "        });\n",
              "        require(['plotly'], function(Plotly) {\n",
              "            window._Plotly = Plotly;\n",
              "        });\n",
              "        }\n",
              "        </script>\n",
              "        "
            ]
          },
          "metadata": {}
        }
      ],
      "source": [
        "import pandas as pd \n",
        "import numpy as np\n",
        "import matplotlib\n",
        "import matplotlib.pyplot as plt\n",
        "import seaborn as sns\n",
        "%matplotlib inline \n",
        "import plotly.graph_objs as go\n",
        "import plotly.figure_factory as ff\n",
        "from plotly import tools\n",
        "from plotly.offline import download_plotlyjs, init_notebook_mode, plot, iplot\n",
        "init_notebook_mode(connected=True)\n"
      ]
    },
    {
      "cell_type": "markdown",
      "metadata": {
        "_uuid": "b5013eda71bf92c723b2b53fedd9ccd2afbea705",
        "id": "G_6rzVeYH6ns"
      },
      "source": [
        "## Data Importing"
      ]
    },
    {
      "cell_type": "code",
      "execution_count": null,
      "metadata": {
        "_cell_guid": "79c7e3d0-c299-4dcb-8224-4455121ee9b0",
        "_uuid": "d629ff2d2480ee46fbb7e2d37f6b5fab8052498a",
        "id": "Kzlap09UH6nt"
      },
      "outputs": [],
      "source": [
        "data = pd.read_csv('/content/fraud.csv')"
      ]
    },
    {
      "cell_type": "markdown",
      "metadata": {
        "_uuid": "a8e0f5353b9aa55a72fc2a7153d242caa46468ac",
        "id": "0H4uNExLH6nv"
      },
      "source": [
        "##  PART 1 : EDA "
      ]
    },
    {
      "cell_type": "markdown",
      "metadata": {
        "id": "tBhMbxX1H6nv"
      },
      "source": [
        "### Column and Row details "
      ]
    },
    {
      "cell_type": "code",
      "execution_count": null,
      "metadata": {
        "_uuid": "1cab01ec81b074d9c43a3be71e6e4f9a623a5f6b",
        "id": "vqGUwTGVH6nw",
        "outputId": "f1d46b44-f0d8-4973-f446-598f9485f9db",
        "colab": {
          "base_uri": "https://localhost:8080/"
        }
      },
      "outputs": [
        {
          "output_type": "stream",
          "name": "stdout",
          "text": [
            "Index(['Unnamed: 0', 'trans_date_trans_time', 'cc_num', 'merchant', 'category',\n",
            "       'amt', 'first', 'last', 'gender', 'street', 'city', 'state', 'zip',\n",
            "       'lat', 'long', 'city_pop', 'job', 'dob', 'trans_num', 'unix_time',\n",
            "       'merch_lat', 'merch_long', 'is_fraud'],\n",
            "      dtype='object')\n"
          ]
        }
      ],
      "source": [
        "# column names \n",
        "print(data.columns)"
      ]
    },
    {
      "cell_type": "code",
      "execution_count": null,
      "metadata": {
        "id": "DCXoSpavH6nx",
        "outputId": "2eb4e08f-1e1b-4188-f2ce-69f8024557b4",
        "colab": {
          "base_uri": "https://localhost:8080/"
        }
      },
      "outputs": [
        {
          "output_type": "stream",
          "name": "stdout",
          "text": [
            "<class 'pandas.core.frame.DataFrame'>\n",
            "RangeIndex: 438027 entries, 0 to 438026\n",
            "Data columns (total 23 columns):\n",
            " #   Column                 Non-Null Count   Dtype  \n",
            "---  ------                 --------------   -----  \n",
            " 0   Unnamed: 0             438027 non-null  int64  \n",
            " 1   trans_date_trans_time  438027 non-null  object \n",
            " 2   cc_num                 438027 non-null  int64  \n",
            " 3   merchant               438027 non-null  object \n",
            " 4   category               438027 non-null  object \n",
            " 5   amt                    438027 non-null  float64\n",
            " 6   first                  438027 non-null  object \n",
            " 7   last                   438027 non-null  object \n",
            " 8   gender                 438027 non-null  object \n",
            " 9   street                 438027 non-null  object \n",
            " 10  city                   438027 non-null  object \n",
            " 11  state                  438027 non-null  object \n",
            " 12  zip                    438027 non-null  int64  \n",
            " 13  lat                    438027 non-null  float64\n",
            " 14  long                   438027 non-null  float64\n",
            " 15  city_pop               438027 non-null  int64  \n",
            " 16  job                    438027 non-null  object \n",
            " 17  dob                    438027 non-null  object \n",
            " 18  trans_num              438027 non-null  object \n",
            " 19  unix_time              438027 non-null  int64  \n",
            " 20  merch_lat              438027 non-null  float64\n",
            " 21  merch_long             438027 non-null  float64\n",
            " 22  is_fraud               438027 non-null  int64  \n",
            "dtypes: float64(5), int64(6), object(12)\n",
            "memory usage: 76.9+ MB\n"
          ]
        }
      ],
      "source": [
        "data.info()"
      ]
    },
    {
      "cell_type": "code",
      "execution_count": null,
      "metadata": {
        "_uuid": "792df7c23926214695d3b64f676ab51862f328b8",
        "id": "6lGV5vQTH6ny",
        "outputId": "d4ec8bea-962b-40c0-ac8c-9bd886fd6d8c",
        "colab": {
          "base_uri": "https://localhost:8080/"
        }
      },
      "outputs": [
        {
          "output_type": "execute_result",
          "data": {
            "text/plain": [
              "(438027, 23)"
            ]
          },
          "metadata": {},
          "execution_count": 39
        }
      ],
      "source": [
        "# data dimensions \n",
        "data.shape"
      ]
    },
    {
      "cell_type": "code",
      "execution_count": null,
      "metadata": {
        "id": "gEPBz1FGH6ny",
        "outputId": "ff7081f8-c204-4657-fe77-6339af016ea0",
        "colab": {
          "base_uri": "https://localhost:8080/",
          "height": 364
        }
      },
      "outputs": [
        {
          "output_type": "execute_result",
          "data": {
            "text/plain": [
              "          Unnamed: 0        cc_num            amt            zip  \\\n",
              "count  438027.000000  4.380270e+05  438027.000000  438027.000000   \n",
              "mean   219013.000000  4.196696e+17      69.506341   48813.406696   \n",
              "std    126447.647519  1.312533e+18     149.138647   26853.387633   \n",
              "min         0.000000  6.041621e+10       1.000000    1257.000000   \n",
              "25%    109506.500000  1.800429e+14       9.640000   26237.000000   \n",
              "50%    219013.000000  3.521417e+15      47.380000   48174.000000   \n",
              "75%    328519.500000  4.642255e+15      83.120000   72011.000000   \n",
              "max    438026.000000  4.992346e+18   19364.910000   99921.000000   \n",
              "\n",
              "                 lat           long      city_pop     unix_time  \\\n",
              "count  438027.000000  438027.000000  4.380270e+05  4.380270e+05   \n",
              "mean       38.541217     -90.216715  8.823665e+04  1.378870e+09   \n",
              "std         5.059488      13.717080  3.000514e+05  4.331783e+06   \n",
              "min        20.027100    -165.672300  2.300000e+01  1.371817e+09   \n",
              "25%        34.668900     -96.798000  7.410000e+02  1.375051e+09   \n",
              "50%        39.371600     -87.476900  2.408000e+03  1.378540e+09   \n",
              "75%        41.894800     -80.175200  1.968500e+04  1.382701e+09   \n",
              "max        65.689900     -67.950300  2.906700e+06  1.386327e+09   \n",
              "\n",
              "           merch_lat     merch_long       is_fraud  \n",
              "count  438027.000000  438027.000000  438027.000000  \n",
              "mean       38.540674     -90.216688       0.004438  \n",
              "std         5.094153      13.729860       0.066471  \n",
              "min        19.027422    -166.671575       0.000000  \n",
              "25%        34.756095     -96.884859       0.000000  \n",
              "50%        39.377368     -87.437281       0.000000  \n",
              "75%        41.951621     -80.252344       0.000000  \n",
              "max        66.679297     -66.952026       1.000000  "
            ],
            "text/html": [
              "\n",
              "  <div id=\"df-57910b5c-a8cf-4719-a02d-869090b26a6b\">\n",
              "    <div class=\"colab-df-container\">\n",
              "      <div>\n",
              "<style scoped>\n",
              "    .dataframe tbody tr th:only-of-type {\n",
              "        vertical-align: middle;\n",
              "    }\n",
              "\n",
              "    .dataframe tbody tr th {\n",
              "        vertical-align: top;\n",
              "    }\n",
              "\n",
              "    .dataframe thead th {\n",
              "        text-align: right;\n",
              "    }\n",
              "</style>\n",
              "<table border=\"1\" class=\"dataframe\">\n",
              "  <thead>\n",
              "    <tr style=\"text-align: right;\">\n",
              "      <th></th>\n",
              "      <th>Unnamed: 0</th>\n",
              "      <th>cc_num</th>\n",
              "      <th>amt</th>\n",
              "      <th>zip</th>\n",
              "      <th>lat</th>\n",
              "      <th>long</th>\n",
              "      <th>city_pop</th>\n",
              "      <th>unix_time</th>\n",
              "      <th>merch_lat</th>\n",
              "      <th>merch_long</th>\n",
              "      <th>is_fraud</th>\n",
              "    </tr>\n",
              "  </thead>\n",
              "  <tbody>\n",
              "    <tr>\n",
              "      <th>count</th>\n",
              "      <td>438027.000000</td>\n",
              "      <td>4.380270e+05</td>\n",
              "      <td>438027.000000</td>\n",
              "      <td>438027.000000</td>\n",
              "      <td>438027.000000</td>\n",
              "      <td>438027.000000</td>\n",
              "      <td>4.380270e+05</td>\n",
              "      <td>4.380270e+05</td>\n",
              "      <td>438027.000000</td>\n",
              "      <td>438027.000000</td>\n",
              "      <td>438027.000000</td>\n",
              "    </tr>\n",
              "    <tr>\n",
              "      <th>mean</th>\n",
              "      <td>219013.000000</td>\n",
              "      <td>4.196696e+17</td>\n",
              "      <td>69.506341</td>\n",
              "      <td>48813.406696</td>\n",
              "      <td>38.541217</td>\n",
              "      <td>-90.216715</td>\n",
              "      <td>8.823665e+04</td>\n",
              "      <td>1.378870e+09</td>\n",
              "      <td>38.540674</td>\n",
              "      <td>-90.216688</td>\n",
              "      <td>0.004438</td>\n",
              "    </tr>\n",
              "    <tr>\n",
              "      <th>std</th>\n",
              "      <td>126447.647519</td>\n",
              "      <td>1.312533e+18</td>\n",
              "      <td>149.138647</td>\n",
              "      <td>26853.387633</td>\n",
              "      <td>5.059488</td>\n",
              "      <td>13.717080</td>\n",
              "      <td>3.000514e+05</td>\n",
              "      <td>4.331783e+06</td>\n",
              "      <td>5.094153</td>\n",
              "      <td>13.729860</td>\n",
              "      <td>0.066471</td>\n",
              "    </tr>\n",
              "    <tr>\n",
              "      <th>min</th>\n",
              "      <td>0.000000</td>\n",
              "      <td>6.041621e+10</td>\n",
              "      <td>1.000000</td>\n",
              "      <td>1257.000000</td>\n",
              "      <td>20.027100</td>\n",
              "      <td>-165.672300</td>\n",
              "      <td>2.300000e+01</td>\n",
              "      <td>1.371817e+09</td>\n",
              "      <td>19.027422</td>\n",
              "      <td>-166.671575</td>\n",
              "      <td>0.000000</td>\n",
              "    </tr>\n",
              "    <tr>\n",
              "      <th>25%</th>\n",
              "      <td>109506.500000</td>\n",
              "      <td>1.800429e+14</td>\n",
              "      <td>9.640000</td>\n",
              "      <td>26237.000000</td>\n",
              "      <td>34.668900</td>\n",
              "      <td>-96.798000</td>\n",
              "      <td>7.410000e+02</td>\n",
              "      <td>1.375051e+09</td>\n",
              "      <td>34.756095</td>\n",
              "      <td>-96.884859</td>\n",
              "      <td>0.000000</td>\n",
              "    </tr>\n",
              "    <tr>\n",
              "      <th>50%</th>\n",
              "      <td>219013.000000</td>\n",
              "      <td>3.521417e+15</td>\n",
              "      <td>47.380000</td>\n",
              "      <td>48174.000000</td>\n",
              "      <td>39.371600</td>\n",
              "      <td>-87.476900</td>\n",
              "      <td>2.408000e+03</td>\n",
              "      <td>1.378540e+09</td>\n",
              "      <td>39.377368</td>\n",
              "      <td>-87.437281</td>\n",
              "      <td>0.000000</td>\n",
              "    </tr>\n",
              "    <tr>\n",
              "      <th>75%</th>\n",
              "      <td>328519.500000</td>\n",
              "      <td>4.642255e+15</td>\n",
              "      <td>83.120000</td>\n",
              "      <td>72011.000000</td>\n",
              "      <td>41.894800</td>\n",
              "      <td>-80.175200</td>\n",
              "      <td>1.968500e+04</td>\n",
              "      <td>1.382701e+09</td>\n",
              "      <td>41.951621</td>\n",
              "      <td>-80.252344</td>\n",
              "      <td>0.000000</td>\n",
              "    </tr>\n",
              "    <tr>\n",
              "      <th>max</th>\n",
              "      <td>438026.000000</td>\n",
              "      <td>4.992346e+18</td>\n",
              "      <td>19364.910000</td>\n",
              "      <td>99921.000000</td>\n",
              "      <td>65.689900</td>\n",
              "      <td>-67.950300</td>\n",
              "      <td>2.906700e+06</td>\n",
              "      <td>1.386327e+09</td>\n",
              "      <td>66.679297</td>\n",
              "      <td>-66.952026</td>\n",
              "      <td>1.000000</td>\n",
              "    </tr>\n",
              "  </tbody>\n",
              "</table>\n",
              "</div>\n",
              "      <button class=\"colab-df-convert\" onclick=\"convertToInteractive('df-57910b5c-a8cf-4719-a02d-869090b26a6b')\"\n",
              "              title=\"Convert this dataframe to an interactive table.\"\n",
              "              style=\"display:none;\">\n",
              "        \n",
              "  <svg xmlns=\"http://www.w3.org/2000/svg\" height=\"24px\"viewBox=\"0 0 24 24\"\n",
              "       width=\"24px\">\n",
              "    <path d=\"M0 0h24v24H0V0z\" fill=\"none\"/>\n",
              "    <path d=\"M18.56 5.44l.94 2.06.94-2.06 2.06-.94-2.06-.94-.94-2.06-.94 2.06-2.06.94zm-11 1L8.5 8.5l.94-2.06 2.06-.94-2.06-.94L8.5 2.5l-.94 2.06-2.06.94zm10 10l.94 2.06.94-2.06 2.06-.94-2.06-.94-.94-2.06-.94 2.06-2.06.94z\"/><path d=\"M17.41 7.96l-1.37-1.37c-.4-.4-.92-.59-1.43-.59-.52 0-1.04.2-1.43.59L10.3 9.45l-7.72 7.72c-.78.78-.78 2.05 0 2.83L4 21.41c.39.39.9.59 1.41.59.51 0 1.02-.2 1.41-.59l7.78-7.78 2.81-2.81c.8-.78.8-2.07 0-2.86zM5.41 20L4 18.59l7.72-7.72 1.47 1.35L5.41 20z\"/>\n",
              "  </svg>\n",
              "      </button>\n",
              "      \n",
              "  <style>\n",
              "    .colab-df-container {\n",
              "      display:flex;\n",
              "      flex-wrap:wrap;\n",
              "      gap: 12px;\n",
              "    }\n",
              "\n",
              "    .colab-df-convert {\n",
              "      background-color: #E8F0FE;\n",
              "      border: none;\n",
              "      border-radius: 50%;\n",
              "      cursor: pointer;\n",
              "      display: none;\n",
              "      fill: #1967D2;\n",
              "      height: 32px;\n",
              "      padding: 0 0 0 0;\n",
              "      width: 32px;\n",
              "    }\n",
              "\n",
              "    .colab-df-convert:hover {\n",
              "      background-color: #E2EBFA;\n",
              "      box-shadow: 0px 1px 2px rgba(60, 64, 67, 0.3), 0px 1px 3px 1px rgba(60, 64, 67, 0.15);\n",
              "      fill: #174EA6;\n",
              "    }\n",
              "\n",
              "    [theme=dark] .colab-df-convert {\n",
              "      background-color: #3B4455;\n",
              "      fill: #D2E3FC;\n",
              "    }\n",
              "\n",
              "    [theme=dark] .colab-df-convert:hover {\n",
              "      background-color: #434B5C;\n",
              "      box-shadow: 0px 1px 3px 1px rgba(0, 0, 0, 0.15);\n",
              "      filter: drop-shadow(0px 1px 2px rgba(0, 0, 0, 0.3));\n",
              "      fill: #FFFFFF;\n",
              "    }\n",
              "  </style>\n",
              "\n",
              "      <script>\n",
              "        const buttonEl =\n",
              "          document.querySelector('#df-57910b5c-a8cf-4719-a02d-869090b26a6b button.colab-df-convert');\n",
              "        buttonEl.style.display =\n",
              "          google.colab.kernel.accessAllowed ? 'block' : 'none';\n",
              "\n",
              "        async function convertToInteractive(key) {\n",
              "          const element = document.querySelector('#df-57910b5c-a8cf-4719-a02d-869090b26a6b');\n",
              "          const dataTable =\n",
              "            await google.colab.kernel.invokeFunction('convertToInteractive',\n",
              "                                                     [key], {});\n",
              "          if (!dataTable) return;\n",
              "\n",
              "          const docLinkHtml = 'Like what you see? Visit the ' +\n",
              "            '<a target=\"_blank\" href=https://colab.research.google.com/notebooks/data_table.ipynb>data table notebook</a>'\n",
              "            + ' to learn more about interactive tables.';\n",
              "          element.innerHTML = '';\n",
              "          dataTable['output_type'] = 'display_data';\n",
              "          await google.colab.output.renderOutput(dataTable, element);\n",
              "          const docLink = document.createElement('div');\n",
              "          docLink.innerHTML = docLinkHtml;\n",
              "          element.appendChild(docLink);\n",
              "        }\n",
              "      </script>\n",
              "    </div>\n",
              "  </div>\n",
              "  "
            ]
          },
          "metadata": {},
          "execution_count": 40
        }
      ],
      "source": [
        "# summary stats on columns \n",
        "data.describe()"
      ]
    },
    {
      "cell_type": "code",
      "execution_count": null,
      "metadata": {
        "id": "ApnTqpZBH6nz"
      },
      "outputs": [],
      "source": [
        "# capture numeric columns and non numeric columns list \n",
        "num_vars = data.columns[data.dtypes != object]\n",
        "cat_vars = data.columns[data.dtypes == object]"
      ]
    },
    {
      "cell_type": "code",
      "execution_count": null,
      "metadata": {
        "id": "b2ePf3WoH6n0",
        "outputId": "478eebce-1f20-4e49-a66f-a37cd4e928f7",
        "colab": {
          "base_uri": "https://localhost:8080/"
        }
      },
      "outputs": [
        {
          "output_type": "stream",
          "name": "stdout",
          "text": [
            "Index(['Unnamed: 0', 'cc_num', 'amt', 'zip', 'lat', 'long', 'city_pop',\n",
            "       'unix_time', 'merch_lat', 'merch_long', 'is_fraud'],\n",
            "      dtype='object')\n"
          ]
        }
      ],
      "source": [
        "# print numeric columns \n",
        "print(num_vars)"
      ]
    },
    {
      "cell_type": "code",
      "execution_count": null,
      "metadata": {
        "id": "q441FK0AH6n1",
        "outputId": "dd279b88-2253-40ac-a3de-db28ca4ebe7d",
        "colab": {
          "base_uri": "https://localhost:8080/"
        }
      },
      "outputs": [
        {
          "output_type": "stream",
          "name": "stdout",
          "text": [
            "Index(['trans_date_trans_time', 'merchant', 'category', 'first', 'last',\n",
            "       'gender', 'street', 'city', 'state', 'job', 'dob', 'trans_num'],\n",
            "      dtype='object')\n"
          ]
        }
      ],
      "source": [
        "# print categorical columns \n",
        "print(cat_vars)"
      ]
    },
    {
      "cell_type": "code",
      "execution_count": null,
      "metadata": {
        "id": "c1SuS5uQH6n2",
        "outputId": "2ceb7121-4d2e-4090-cb2f-67875894aea8",
        "colab": {
          "base_uri": "https://localhost:8080/"
        }
      },
      "outputs": [
        {
          "output_type": "execute_result",
          "data": {
            "text/plain": [
              "Unnamed: 0               0\n",
              "trans_date_trans_time    0\n",
              "cc_num                   0\n",
              "merchant                 0\n",
              "category                 0\n",
              "amt                      0\n",
              "first                    0\n",
              "last                     0\n",
              "gender                   0\n",
              "street                   0\n",
              "city                     0\n",
              "state                    0\n",
              "zip                      0\n",
              "lat                      0\n",
              "long                     0\n",
              "city_pop                 0\n",
              "job                      0\n",
              "dob                      0\n",
              "trans_num                0\n",
              "unix_time                0\n",
              "merch_lat                0\n",
              "merch_long               0\n",
              "is_fraud                 0\n",
              "dtype: int64"
            ]
          },
          "metadata": {},
          "execution_count": 44
        }
      ],
      "source": [
        "# count of  nulls in columns \n",
        "data.isnull().sum()"
      ]
    },
    {
      "cell_type": "code",
      "execution_count": null,
      "metadata": {
        "id": "XiWMK6grH6n2"
      },
      "outputs": [],
      "source": [
        "# function to get unique count per column in a data frame \n",
        "def count_unique_values(df):\n",
        "    \n",
        "    total = df.count()\n",
        "    temp = pd.DataFrame(total)\n",
        "    temp.columns = ['Total']            # Count total number of non-null values\n",
        "    \n",
        "    uniques = []\n",
        "    for col in df.columns:\n",
        "        unique = df[col].nunique()    # Get unique values for each column\n",
        "        uniques.append(unique)\n",
        "    temp['Uniques'] = uniques\n",
        "    \n",
        "    return(np.transpose(temp))"
      ]
    },
    {
      "cell_type": "code",
      "execution_count": null,
      "metadata": {
        "id": "woKiribpH6n3",
        "outputId": "4f68878b-83f3-479b-9d12-bc60879810b7",
        "colab": {
          "base_uri": "https://localhost:8080/",
          "height": 223
        }
      },
      "outputs": [
        {
          "output_type": "execute_result",
          "data": {
            "text/plain": [
              "         Unnamed: 0  trans_date_trans_time  cc_num  merchant  category  \\\n",
              "Total        438027                 438027  438027    438027    438027   \n",
              "Uniques      438027                 430529     923       693        14   \n",
              "\n",
              "            amt   first    last  gender  street  ...     lat    long  \\\n",
              "Total    438027  438027  438027  438027  438027  ...  438027  438027   \n",
              "Uniques   34344     341     471       2     923  ...     909     909   \n",
              "\n",
              "         city_pop     job     dob  trans_num  unix_time  merch_lat  \\\n",
              "Total      438027  438027  438027     438027     438027     438027   \n",
              "Uniques       834     478     909     438027     430529     432234   \n",
              "\n",
              "         merch_long  is_fraud  \n",
              "Total        438027    438027  \n",
              "Uniques      435552         2  \n",
              "\n",
              "[2 rows x 23 columns]"
            ],
            "text/html": [
              "\n",
              "  <div id=\"df-0b7c0b62-17dd-4e4f-b260-7ae717011e44\">\n",
              "    <div class=\"colab-df-container\">\n",
              "      <div>\n",
              "<style scoped>\n",
              "    .dataframe tbody tr th:only-of-type {\n",
              "        vertical-align: middle;\n",
              "    }\n",
              "\n",
              "    .dataframe tbody tr th {\n",
              "        vertical-align: top;\n",
              "    }\n",
              "\n",
              "    .dataframe thead th {\n",
              "        text-align: right;\n",
              "    }\n",
              "</style>\n",
              "<table border=\"1\" class=\"dataframe\">\n",
              "  <thead>\n",
              "    <tr style=\"text-align: right;\">\n",
              "      <th></th>\n",
              "      <th>Unnamed: 0</th>\n",
              "      <th>trans_date_trans_time</th>\n",
              "      <th>cc_num</th>\n",
              "      <th>merchant</th>\n",
              "      <th>category</th>\n",
              "      <th>amt</th>\n",
              "      <th>first</th>\n",
              "      <th>last</th>\n",
              "      <th>gender</th>\n",
              "      <th>street</th>\n",
              "      <th>...</th>\n",
              "      <th>lat</th>\n",
              "      <th>long</th>\n",
              "      <th>city_pop</th>\n",
              "      <th>job</th>\n",
              "      <th>dob</th>\n",
              "      <th>trans_num</th>\n",
              "      <th>unix_time</th>\n",
              "      <th>merch_lat</th>\n",
              "      <th>merch_long</th>\n",
              "      <th>is_fraud</th>\n",
              "    </tr>\n",
              "  </thead>\n",
              "  <tbody>\n",
              "    <tr>\n",
              "      <th>Total</th>\n",
              "      <td>438027</td>\n",
              "      <td>438027</td>\n",
              "      <td>438027</td>\n",
              "      <td>438027</td>\n",
              "      <td>438027</td>\n",
              "      <td>438027</td>\n",
              "      <td>438027</td>\n",
              "      <td>438027</td>\n",
              "      <td>438027</td>\n",
              "      <td>438027</td>\n",
              "      <td>...</td>\n",
              "      <td>438027</td>\n",
              "      <td>438027</td>\n",
              "      <td>438027</td>\n",
              "      <td>438027</td>\n",
              "      <td>438027</td>\n",
              "      <td>438027</td>\n",
              "      <td>438027</td>\n",
              "      <td>438027</td>\n",
              "      <td>438027</td>\n",
              "      <td>438027</td>\n",
              "    </tr>\n",
              "    <tr>\n",
              "      <th>Uniques</th>\n",
              "      <td>438027</td>\n",
              "      <td>430529</td>\n",
              "      <td>923</td>\n",
              "      <td>693</td>\n",
              "      <td>14</td>\n",
              "      <td>34344</td>\n",
              "      <td>341</td>\n",
              "      <td>471</td>\n",
              "      <td>2</td>\n",
              "      <td>923</td>\n",
              "      <td>...</td>\n",
              "      <td>909</td>\n",
              "      <td>909</td>\n",
              "      <td>834</td>\n",
              "      <td>478</td>\n",
              "      <td>909</td>\n",
              "      <td>438027</td>\n",
              "      <td>430529</td>\n",
              "      <td>432234</td>\n",
              "      <td>435552</td>\n",
              "      <td>2</td>\n",
              "    </tr>\n",
              "  </tbody>\n",
              "</table>\n",
              "<p>2 rows × 23 columns</p>\n",
              "</div>\n",
              "      <button class=\"colab-df-convert\" onclick=\"convertToInteractive('df-0b7c0b62-17dd-4e4f-b260-7ae717011e44')\"\n",
              "              title=\"Convert this dataframe to an interactive table.\"\n",
              "              style=\"display:none;\">\n",
              "        \n",
              "  <svg xmlns=\"http://www.w3.org/2000/svg\" height=\"24px\"viewBox=\"0 0 24 24\"\n",
              "       width=\"24px\">\n",
              "    <path d=\"M0 0h24v24H0V0z\" fill=\"none\"/>\n",
              "    <path d=\"M18.56 5.44l.94 2.06.94-2.06 2.06-.94-2.06-.94-.94-2.06-.94 2.06-2.06.94zm-11 1L8.5 8.5l.94-2.06 2.06-.94-2.06-.94L8.5 2.5l-.94 2.06-2.06.94zm10 10l.94 2.06.94-2.06 2.06-.94-2.06-.94-.94-2.06-.94 2.06-2.06.94z\"/><path d=\"M17.41 7.96l-1.37-1.37c-.4-.4-.92-.59-1.43-.59-.52 0-1.04.2-1.43.59L10.3 9.45l-7.72 7.72c-.78.78-.78 2.05 0 2.83L4 21.41c.39.39.9.59 1.41.59.51 0 1.02-.2 1.41-.59l7.78-7.78 2.81-2.81c.8-.78.8-2.07 0-2.86zM5.41 20L4 18.59l7.72-7.72 1.47 1.35L5.41 20z\"/>\n",
              "  </svg>\n",
              "      </button>\n",
              "      \n",
              "  <style>\n",
              "    .colab-df-container {\n",
              "      display:flex;\n",
              "      flex-wrap:wrap;\n",
              "      gap: 12px;\n",
              "    }\n",
              "\n",
              "    .colab-df-convert {\n",
              "      background-color: #E8F0FE;\n",
              "      border: none;\n",
              "      border-radius: 50%;\n",
              "      cursor: pointer;\n",
              "      display: none;\n",
              "      fill: #1967D2;\n",
              "      height: 32px;\n",
              "      padding: 0 0 0 0;\n",
              "      width: 32px;\n",
              "    }\n",
              "\n",
              "    .colab-df-convert:hover {\n",
              "      background-color: #E2EBFA;\n",
              "      box-shadow: 0px 1px 2px rgba(60, 64, 67, 0.3), 0px 1px 3px 1px rgba(60, 64, 67, 0.15);\n",
              "      fill: #174EA6;\n",
              "    }\n",
              "\n",
              "    [theme=dark] .colab-df-convert {\n",
              "      background-color: #3B4455;\n",
              "      fill: #D2E3FC;\n",
              "    }\n",
              "\n",
              "    [theme=dark] .colab-df-convert:hover {\n",
              "      background-color: #434B5C;\n",
              "      box-shadow: 0px 1px 3px 1px rgba(0, 0, 0, 0.15);\n",
              "      filter: drop-shadow(0px 1px 2px rgba(0, 0, 0, 0.3));\n",
              "      fill: #FFFFFF;\n",
              "    }\n",
              "  </style>\n",
              "\n",
              "      <script>\n",
              "        const buttonEl =\n",
              "          document.querySelector('#df-0b7c0b62-17dd-4e4f-b260-7ae717011e44 button.colab-df-convert');\n",
              "        buttonEl.style.display =\n",
              "          google.colab.kernel.accessAllowed ? 'block' : 'none';\n",
              "\n",
              "        async function convertToInteractive(key) {\n",
              "          const element = document.querySelector('#df-0b7c0b62-17dd-4e4f-b260-7ae717011e44');\n",
              "          const dataTable =\n",
              "            await google.colab.kernel.invokeFunction('convertToInteractive',\n",
              "                                                     [key], {});\n",
              "          if (!dataTable) return;\n",
              "\n",
              "          const docLinkHtml = 'Like what you see? Visit the ' +\n",
              "            '<a target=\"_blank\" href=https://colab.research.google.com/notebooks/data_table.ipynb>data table notebook</a>'\n",
              "            + ' to learn more about interactive tables.';\n",
              "          element.innerHTML = '';\n",
              "          dataTable['output_type'] = 'display_data';\n",
              "          await google.colab.output.renderOutput(dataTable, element);\n",
              "          const docLink = document.createElement('div');\n",
              "          docLink.innerHTML = docLinkHtml;\n",
              "          element.appendChild(docLink);\n",
              "        }\n",
              "      </script>\n",
              "    </div>\n",
              "  </div>\n",
              "  "
            ]
          },
          "metadata": {},
          "execution_count": 46
        }
      ],
      "source": [
        "# get count of unique values for dataframe \n",
        "count_unique_values(data)"
      ]
    },
    {
      "cell_type": "markdown",
      "metadata": {
        "id": "BVZq1iegH6n4"
      },
      "source": [
        "### Distributions and Correlations \n"
      ]
    },
    {
      "cell_type": "code",
      "execution_count": null,
      "metadata": {
        "id": "FmdJIAArH6n4",
        "outputId": "1907d992-7e29-4423-adee-9b4eb9244522",
        "colab": {
          "base_uri": "https://localhost:8080/",
          "height": 592
        }
      },
      "outputs": [
        {
          "output_type": "display_data",
          "data": {
            "text/plain": [
              "<Figure size 864x648 with 2 Axes>"
            ],
            "image/png": "[encoded data removed]"
          },
          "metadata": {
            "needs_background": "light"
          }
        }
      ],
      "source": [
        "\n",
        "# correlation matrix\n",
        "corrmat = data.corr()\n",
        "fig = plt.figure(figsize = (12, 9))\n",
        "\n",
        "sns.heatmap(corrmat, vmax = .8, square = True)\n",
        "plt.show()"
      ]
    },
    {
      "cell_type": "markdown",
      "metadata": {
        "id": "Wd9g6rATH6n5"
      },
      "source": [
        " Plot shows mostly that the columns are not correlated "
      ]
    },
    {
      "cell_type": "code",
      "execution_count": null,
      "metadata": {
        "_uuid": "2c6f09368473bf72107bba36dfe7235051acd31b",
        "id": "dnjbMMOtH6n5",
        "outputId": "68f6b885-c161-4533-82f2-78d9f7ed8c2a",
        "colab": {
          "base_uri": "https://localhost:8080/"
        }
      },
      "outputs": [
        {
          "output_type": "stream",
          "name": "stdout",
          "text": [
            "(262816, 23)\n"
          ]
        }
      ],
      "source": [
        "# Histograms of each variable :  0.2 random sample of rows selected \n",
        "# ---------------------------------------------------------------------\n",
        "\n",
        "# random_state helps assure that you always get the same output when you split the data\n",
        "# this helps create reproducible results and it does not actually matter what the number is\n",
        "# frac is percentage of the data that will be returned\n",
        "data_part = data.sample(frac = 0.6, random_state = 1)\n",
        "print(data_part.shape)"
      ]
    },
    {
      "cell_type": "code",
      "execution_count": null,
      "metadata": {
        "_uuid": "34e1448b2fa88f0eaf32f04eb176b6d11ba954f5",
        "id": "fznMwrjhH6n6",
        "outputId": "d72f8cf1-8774-4547-d92a-7490ff9ed188",
        "colab": {
          "base_uri": "https://localhost:8080/",
          "height": 780
        }
      },
      "outputs": [
        {
          "output_type": "display_data",
          "data": {
            "text/plain": [
              "<Figure size 1440x1440 with 12 Axes>"
            ],
            "image/png": "[encoded data removed]"
          },
          "metadata": {
            "needs_background": "light"
          }
        }
      ],
      "source": [
        "# plot the histogram of each parameter\n",
        "data_part.hist(figsize = (20, 20))\n",
        "plt.show()"
      ]
    },
    {
      "cell_type": "markdown",
      "metadata": {
        "id": "No5Fp6hiH6n7"
      },
      "source": [
        "## Feature Explorations "
      ]
    },
    {
      "cell_type": "markdown",
      "metadata": {
        "id": "PwRy2A_HH6n7"
      },
      "source": [
        "### Target Variable distribution studies "
      ]
    },
    {
      "cell_type": "code",
      "execution_count": null,
      "metadata": {
        "id": "OzA1XNnsH6n7",
        "outputId": "83e1ca32-3f5c-413d-e799-10a8ed519a28",
        "colab": {
          "base_uri": "https://localhost:8080/",
          "height": 542
        }
      },
      "outputs": [
        {
          "output_type": "display_data",
          "data": {
            "application/vnd.plotly.v1+json": {
              "data": [
                {
                  "marker": {
                    "color": "Red"
                  },
                  "name": "Credit Card Fraud Class - data unbalance (Not fraud = 0, Fraud = 1)",
                  "text": [
                    436083,
                    1944
                  ],
                  "x": [
                    0,
                    1
                  ],
                  "y": [
                    436083,
                    1944
                  ],
                  "type": "bar"
                }
              ],
              "layout": {
                "hovermode": "closest",
                "template": {
                  "data": {
                    "barpolar": [
                      {
                        "marker": {
                          "line": {
                            "color": "#E5ECF6",
                            "width": 0.5
                          },
                          "pattern": {
                            "fillmode": "overlay",
                            "size": 10,
                            "solidity": 0.2
                          }
                        },
                        "type": "barpolar"
                      }
                    ],
                    "bar": [
                      {
                        "error_x": {
                          "color": "#2a3f5f"
                        },
                        "error_y": {
                          "color": "#2a3f5f"
                        },
                        "marker": {
                          "line": {
                            "color": "#E5ECF6",
                            "width": 0.5
                          },
                          "pattern": {
                            "fillmode": "overlay",
                            "size": 10,
                            "solidity": 0.2
                          }
                        },
                        "type": "bar"
                      }
                    ],
                    "carpet": [
                      {
                        "aaxis": {
                          "endlinecolor": "#2a3f5f",
                          "gridcolor": "white",
                          "linecolor": "white",
                          "minorgridcolor": "white",
                          "startlinecolor": "#2a3f5f"
                        },
                        "baxis": {
                          "endlinecolor": "#2a3f5f",
                          "gridcolor": "white",
                          "linecolor": "white",
                          "minorgridcolor": "white",
                          "startlinecolor": "#2a3f5f"
                        },
                        "type": "carpet"
                      }
                    ],
                    "choropleth": [
                      {
                        "colorbar": {
                          "outlinewidth": 0,
                          "ticks": ""
                        },
                        "type": "choropleth"
                      }
                    ],
                    "contourcarpet": [
                      {
                        "colorbar": {
                          "outlinewidth": 0,
                          "ticks": ""
                        },
                        "type": "contourcarpet"
                      }
                    ],
                    "contour": [
                      {
                        "colorbar": {
                          "outlinewidth": 0,
                          "ticks": ""
                        },
                        "colorscale": [
                          [
                            0,
                            "#0d0887"
                          ],
                          [
                            0.1111111111111111,
                            "#46039f"
                          ],
                          [
                            0.2222222222222222,
                            "#7201a8"
                          ],
                          [
                            0.3333333333333333,
                            "#9c179e"
                          ],
                          [
                            0.4444444444444444,
                            "#bd3786"
                          ],
                          [
                            0.5555555555555556,
                            "#d8576b"
                          ],
                          [
                            0.6666666666666666,
                            "#ed7953"
                          ],
                          [
                            0.7777777777777778,
                            "#fb9f3a"
                          ],
                          [
                            0.8888888888888888,
                            "#fdca26"
                          ],
                          [
                            1,
                            "#f0f921"
                          ]
                        ],
                        "type": "contour"
                      }
                    ],
                    "heatmapgl": [
                      {
                        "colorbar": {
                          "outlinewidth": 0,
                          "ticks": ""
                        },
                        "colorscale": [
                          [
                            0,
                            "#0d0887"
                          ],
                          [
                            0.1111111111111111,
                            "#46039f"
                          ],
                          [
                            0.2222222222222222,
                            "#7201a8"
                          ],
                          [
                            0.3333333333333333,
                            "#9c179e"
                          ],
                          [
                            0.4444444444444444,
                            "#bd3786"
                          ],
                          [
                            0.5555555555555556,
                            "#d8576b"
                          ],
                          [
                            0.6666666666666666,
                            "#ed7953"
                          ],
                          [
                            0.7777777777777778,
                            "#fb9f3a"
                          ],
                          [
                            0.8888888888888888,
                            "#fdca26"
                          ],
                          [
                            1,
                            "#f0f921"
                          ]
                        ],
                        "type": "heatmapgl"
                      }
                    ],
                    "heatmap": [
                      {
                        "colorbar": {
                          "outlinewidth": 0,
                          "ticks": ""
                        },
                        "colorscale": [
                          [
                            0,
                            "#0d0887"
                          ],
                          [
                            0.1111111111111111,
                            "#46039f"
                          ],
                          [
                            0.2222222222222222,
                            "#7201a8"
                          ],
                          [
                            0.3333333333333333,
                            "#9c179e"
                          ],
                          [
                            0.4444444444444444,
                            "#bd3786"
                          ],
                          [
                            0.5555555555555556,
                            "#d8576b"
                          ],
                          [
                            0.6666666666666666,
                            "#ed7953"
                          ],
                          [
                            0.7777777777777778,
                            "#fb9f3a"
                          ],
                          [
                            0.8888888888888888,
                            "#fdca26"
                          ],
                          [
                            1,
                            "#f0f921"
                          ]
                        ],
                        "type": "heatmap"
                      }
                    ],
                    "histogram2dcontour": [
                      {
                        "colorbar": {
                          "outlinewidth": 0,
                          "ticks": ""
                        },
                        "colorscale": [
                          [
                            0,
                            "#0d0887"
                          ],
                          [
                            0.1111111111111111,
                            "#46039f"
                          ],
                          [
                            0.2222222222222222,
                            "#7201a8"
                          ],
                          [
                            0.3333333333333333,
                            "#9c179e"
                          ],
                          [
                            0.4444444444444444,
                            "#bd3786"
                          ],
                          [
                            0.5555555555555556,
                            "#d8576b"
                          ],
                          [
                            0.6666666666666666,
                            "#ed7953"
                          ],
                          [
                            0.7777777777777778,
                            "#fb9f3a"
                          ],
                          [
                            0.8888888888888888,
                            "#fdca26"
                          ],
                          [
                            1,
                            "#f0f921"
                          ]
                        ],
                        "type": "histogram2dcontour"
                      }
                    ],
                    "histogram2d": [
                      {
                        "colorbar": {
                          "outlinewidth": 0,
                          "ticks": ""
                        },
                        "colorscale": [
                          [
                            0,
                            "#0d0887"
                          ],
                          [
                            0.1111111111111111,
                            "#46039f"
                          ],
                          [
                            0.2222222222222222,
                            "#7201a8"
                          ],
                          [
                            0.3333333333333333,
                            "#9c179e"
                          ],
                          [
                            0.4444444444444444,
                            "#bd3786"
                          ],
                          [
                            0.5555555555555556,
                            "#d8576b"
                          ],
                          [
                            0.6666666666666666,
                            "#ed7953"
                          ],
                          [
                            0.7777777777777778,
                            "#fb9f3a"
                          ],
                          [
                            0.8888888888888888,
                            "#fdca26"
                          ],
                          [
                            1,
                            "#f0f921"
                          ]
                        ],
                        "type": "histogram2d"
                      }
                    ],
                    "histogram": [
                      {
                        "marker": {
                          "pattern": {
                            "fillmode": "overlay",
                            "size": 10,
                            "solidity": 0.2
                          }
                        },
                        "type": "histogram"
                      }
                    ],
                    "mesh3d": [
                      {
                        "colorbar": {
                          "outlinewidth": 0,
                          "ticks": ""
                        },
                        "type": "mesh3d"
                      }
                    ],
                    "parcoords": [
                      {
                        "line": {
                          "colorbar": {
                            "outlinewidth": 0,
                            "ticks": ""
                          }
                        },
                        "type": "parcoords"
                      }
                    ],
                    "pie": [
                      {
                        "automargin": true,
                        "type": "pie"
                      }
                    ],
                    "scatter3d": [
                      {
                        "line": {
                          "colorbar": {
                            "outlinewidth": 0,
                            "ticks": ""
                          }
                        },
                        "marker": {
                          "colorbar": {
                            "outlinewidth": 0,
                            "ticks": ""
                          }
                        },
                        "type": "scatter3d"
                      }
                    ],
                    "scattercarpet": [
                      {
                        "marker": {
                          "colorbar": {
                            "outlinewidth": 0,
                            "ticks": ""
                          }
                        },
                        "type": "scattercarpet"
                      }
                    ],
                    "scattergeo": [
                      {
                        "marker": {
                          "colorbar": {
                            "outlinewidth": 0,
                            "ticks": ""
                          }
                        },
                        "type": "scattergeo"
                      }
                    ],
                    "scattergl": [
                      {
                        "marker": {
                          "colorbar": {
                            "outlinewidth": 0,
                            "ticks": ""
                          }
                        },
                        "type": "scattergl"
                      }
                    ],
                    "scattermapbox": [
                      {
                        "marker": {
                          "colorbar": {
                            "outlinewidth": 0,
                            "ticks": ""
                          }
                        },
                        "type": "scattermapbox"
                      }
                    ],
                    "scatterpolargl": [
                      {
                        "marker": {
                          "colorbar": {
                            "outlinewidth": 0,
                            "ticks": ""
                          }
                        },
                        "type": "scatterpolargl"
                      }
                    ],
                    "scatterpolar": [
                      {
                        "marker": {
                          "colorbar": {
                            "outlinewidth": 0,
                            "ticks": ""
                          }
                        },
                        "type": "scatterpolar"
                      }
                    ],
                    "scatter": [
                      {
                        "marker": {
                          "colorbar": {
                            "outlinewidth": 0,
                            "ticks": ""
                          }
                        },
                        "type": "scatter"
                      }
                    ],
                    "scatterternary": [
                      {
                        "marker": {
                          "colorbar": {
                            "outlinewidth": 0,
                            "ticks": ""
                          }
                        },
                        "type": "scatterternary"
                      }
                    ],
                    "surface": [
                      {
                        "colorbar": {
                          "outlinewidth": 0,
                          "ticks": ""
                        },
                        "colorscale": [
                          [
                            0,
                            "#0d0887"
                          ],
                          [
                            0.1111111111111111,
                            "#46039f"
                          ],
                          [
                            0.2222222222222222,
                            "#7201a8"
                          ],
                          [
                            0.3333333333333333,
                            "#9c179e"
                          ],
                          [
                            0.4444444444444444,
                            "#bd3786"
                          ],
                          [
                            0.5555555555555556,
                            "#d8576b"
                          ],
                          [
                            0.6666666666666666,
                            "#ed7953"
                          ],
                          [
                            0.7777777777777778,
                            "#fb9f3a"
                          ],
                          [
                            0.8888888888888888,
                            "#fdca26"
                          ],
                          [
                            1,
                            "#f0f921"
                          ]
                        ],
                        "type": "surface"
                      }
                    ],
                    "table": [
                      {
                        "cells": {
                          "fill": {
                            "color": "#EBF0F8"
                          },
                          "line": {
                            "color": "white"
                          }
                        },
                        "header": {
                          "fill": {
                            "color": "#C8D4E3"
                          },
                          "line": {
                            "color": "white"
                          }
                        },
                        "type": "table"
                      }
                    ]
                  },
                  "layout": {
                    "annotationdefaults": {
                      "arrowcolor": "#2a3f5f",
                      "arrowhead": 0,
                      "arrowwidth": 1
                    },
                    "autotypenumbers": "strict",
                    "coloraxis": {
                      "colorbar": {
                        "outlinewidth": 0,
                        "ticks": ""
                      }
                    },
                    "colorscale": {
                      "diverging": [
                        [
                          0,
                          "#8e0152"
                        ],
                        [
                          0.1,
                          "#c51b7d"
                        ],
                        [
                          0.2,
                          "#de77ae"
                        ],
                        [
                          0.3,
                          "#f1b6da"
                        ],
                        [
                          0.4,
                          "#fde0ef"
                        ],
                        [
                          0.5,
                          "#f7f7f7"
                        ],
                        [
                          0.6,
                          "#e6f5d0"
                        ],
                        [
                          0.7,
                          "#b8e186"
                        ],
                        [
                          0.8,
                          "#7fbc41"
                        ],
                        [
                          0.9,
                          "#4d9221"
                        ],
                        [
                          1,
                          "#276419"
                        ]
                      ],
                      "sequential": [
                        [
                          0,
                          "#0d0887"
                        ],
                        [
                          0.1111111111111111,
                          "#46039f"
                        ],
                        [
                          0.2222222222222222,
                          "#7201a8"
                        ],
                        [
                          0.3333333333333333,
                          "#9c179e"
                        ],
                        [
                          0.4444444444444444,
                          "#bd3786"
                        ],
                        [
                          0.5555555555555556,
                          "#d8576b"
                        ],
                        [
                          0.6666666666666666,
                          "#ed7953"
                        ],
                        [
                          0.7777777777777778,
                          "#fb9f3a"
                        ],
                        [
                          0.8888888888888888,
                          "#fdca26"
                        ],
                        [
                          1,
                          "#f0f921"
                        ]
                      ],
                      "sequentialminus": [
                        [
                          0,
                          "#0d0887"
                        ],
                        [
                          0.1111111111111111,
                          "#46039f"
                        ],
                        [
                          0.2222222222222222,
                          "#7201a8"
                        ],
                        [
                          0.3333333333333333,
                          "#9c179e"
                        ],
                        [
                          0.4444444444444444,
                          "#bd3786"
                        ],
                        [
                          0.5555555555555556,
                          "#d8576b"
                        ],
                        [
                          0.6666666666666666,
                          "#ed7953"
                        ],
                        [
                          0.7777777777777778,
                          "#fb9f3a"
                        ],
                        [
                          0.8888888888888888,
                          "#fdca26"
                        ],
                        [
                          1,
                          "#f0f921"
                        ]
                      ]
                    },
                    "colorway": [
                      "#636efa",
                      "#EF553B",
                      "#00cc96",
                      "#ab63fa",
                      "#FFA15A",
                      "#19d3f3",
                      "#FF6692",
                      "#B6E880",
                      "#FF97FF",
                      "#FECB52"
                    ],
                    "font": {
                      "color": "#2a3f5f"
                    },
                    "geo": {
                      "bgcolor": "white",
                      "lakecolor": "white",
                      "landcolor": "#E5ECF6",
                      "showlakes": true,
                      "showland": true,
                      "subunitcolor": "white"
                    },
                    "hoverlabel": {
                      "align": "left"
                    },
                    "hovermode": "closest",
                    "mapbox": {
                      "style": "light"
                    },
                    "paper_bgcolor": "white",
                    "plot_bgcolor": "#E5ECF6",
                    "polar": {
                      "angularaxis": {
                        "gridcolor": "white",
                        "linecolor": "white",
                        "ticks": ""
                      },
                      "bgcolor": "#E5ECF6",
                      "radialaxis": {
                        "gridcolor": "white",
                        "linecolor": "white",
                        "ticks": ""
                      }
                    },
                    "scene": {
                      "xaxis": {
                        "backgroundcolor": "#E5ECF6",
                        "gridcolor": "white",
                        "gridwidth": 2,
                        "linecolor": "white",
                        "showbackground": true,
                        "ticks": "",
                        "zerolinecolor": "white"
                      },
                      "yaxis": {
                        "backgroundcolor": "#E5ECF6",
                        "gridcolor": "white",
                        "gridwidth": 2,
                        "linecolor": "white",
                        "showbackground": true,
                        "ticks": "",
                        "zerolinecolor": "white"
                      },
                      "zaxis": {
                        "backgroundcolor": "#E5ECF6",
                        "gridcolor": "white",
                        "gridwidth": 2,
                        "linecolor": "white",
                        "showbackground": true,
                        "ticks": "",
                        "zerolinecolor": "white"
                      }
                    },
                    "shapedefaults": {
                      "line": {
                        "color": "#2a3f5f"
                      }
                    },
                    "ternary": {
                      "aaxis": {
                        "gridcolor": "white",
                        "linecolor": "white",
                        "ticks": ""
                      },
                      "baxis": {
                        "gridcolor": "white",
                        "linecolor": "white",
                        "ticks": ""
                      },
                      "bgcolor": "#E5ECF6",
                      "caxis": {
                        "gridcolor": "white",
                        "linecolor": "white",
                        "ticks": ""
                      }
                    },
                    "title": {
                      "x": 0.05
                    },
                    "xaxis": {
                      "automargin": true,
                      "gridcolor": "white",
                      "linecolor": "white",
                      "ticks": "",
                      "title": {
                        "standoff": 15
                      },
                      "zerolinecolor": "white",
                      "zerolinewidth": 2
                    },
                    "yaxis": {
                      "automargin": true,
                      "gridcolor": "white",
                      "linecolor": "white",
                      "ticks": "",
                      "title": {
                        "standoff": 15
                      },
                      "zerolinecolor": "white",
                      "zerolinewidth": 2
                    }
                  }
                },
                "title": {
                  "text": "Credit Card Fraud Class - data unbalance (Not fraud = 0, Fraud = 1)"
                },
                "width": 600,
                "xaxis": {
                  "showticklabels": true,
                  "title": {
                    "text": "is_fraud"
                  }
                },
                "yaxis": {
                  "title": {
                    "text": "Number of transactions"
                  }
                }
              },
              "config": {
                "showLink": false,
                "linkText": "Export to plot.ly",
                "plotlyServerURL": "https://plot.ly"
              }
            },
            "text/html": [
              "<div>                            <div id=\"e200f072-0865-443d-b50e-0030f18f2423\" class=\"plotly-graph-div\" style=\"height:525px; width:600px;\"></div>            <script type=\"text/javascript\">                require([\"plotly\"], function(Plotly) {                    window.PLOTLYENV=window.PLOTLYENV || {};                                    if (document.getElementById(\"e200f072-0865-443d-b50e-0030f18f2423\")) {                    Plotly.newPlot(                        \"e200f072-0865-443d-b50e-0030f18f2423\",                        [{\"marker\":{\"color\":\"Red\"},\"name\":\"Credit Card Fraud Class - data unbalance (Not fraud = 0, Fraud = 1)\",\"text\":[436083.0,1944.0],\"x\":[0,1],\"y\":[436083,1944],\"type\":\"bar\"}],                        {\"hovermode\":\"closest\",\"template\":{\"data\":{\"barpolar\":[{\"marker\":{\"line\":{\"color\":\"#E5ECF6\",\"width\":0.5},\"pattern\":{\"fillmode\":\"overlay\",\"size\":10,\"solidity\":0.2}},\"type\":\"barpolar\"}],\"bar\":[{\"error_x\":{\"color\":\"#2a3f5f\"},\"error_y\":{\"color\":\"#2a3f5f\"},\"marker\":{\"line\":{\"color\":\"#E5ECF6\",\"width\":0.5},\"pattern\":{\"fillmode\":\"overlay\",\"size\":10,\"solidity\":0.2}},\"type\":\"bar\"}],\"carpet\":[{\"aaxis\":{\"endlinecolor\":\"#2a3f5f\",\"gridcolor\":\"white\",\"linecolor\":\"white\",\"minorgridcolor\":\"white\",\"startlinecolor\":\"#2a3f5f\"},\"baxis\":{\"endlinecolor\":\"#2a3f5f\",\"gridcolor\":\"white\",\"linecolor\":\"white\",\"minorgridcolor\":\"white\",\"startlinecolor\":\"#2a3f5f\"},\"type\":\"carpet\"}],\"choropleth\":[{\"colorbar\":{\"outlinewidth\":0,\"ticks\":\"\"},\"type\":\"choropleth\"}],\"contourcarpet\":[{\"colorbar\":{\"outlinewidth\":0,\"ticks\":\"\"},\"type\":\"contourcarpet\"}],\"contour\":[{\"colorbar\":{\"outlinewidth\":0,\"ticks\":\"\"},\"colorscale\":[[0.0,\"#0d0887\"],[0.1111111111111111,\"#46039f\"],[0.2222222222222222,\"#7201a8\"],[0.3333333333333333,\"#9c179e\"],[0.4444444444444444,\"#bd3786\"],[0.5555555555555556,\"#d8576b\"],[0.6666666666666666,\"#ed7953\"],[0.7777777777777778,\"#fb9f3a\"],[0.8888888888888888,\"#fdca26\"],[1.0,\"#f0f921\"]],\"type\":\"contour\"}],\"heatmapgl\":[{\"colorbar\":{\"outlinewidth\":0,\"ticks\":\"\"},\"colorscale\":[[0.0,\"#0d0887\"],[0.1111111111111111,\"#46039f\"],[0.2222222222222222,\"#7201a8\"],[0.3333333333333333,\"#9c179e\"],[0.4444444444444444,\"#bd3786\"],[0.5555555555555556,\"#d8576b\"],[0.6666666666666666,\"#ed7953\"],[0.7777777777777778,\"#fb9f3a\"],[0.8888888888888888,\"#fdca26\"],[1.0,\"#f0f921\"]],\"type\":\"heatmapgl\"}],\"heatmap\":[{\"colorbar\":{\"outlinewidth\":0,\"ticks\":\"\"},\"colorscale\":[[0.0,\"#0d0887\"],[0.1111111111111111,\"#46039f\"],[0.2222222222222222,\"#7201a8\"],[0.3333333333333333,\"#9c179e\"],[0.4444444444444444,\"#bd3786\"],[0.5555555555555556,\"#d8576b\"],[0.6666666666666666,\"#ed7953\"],[0.7777777777777778,\"#fb9f3a\"],[0.8888888888888888,\"#fdca26\"],[1.0,\"#f0f921\"]],\"type\":\"heatmap\"}],\"histogram2dcontour\":[{\"colorbar\":{\"outlinewidth\":0,\"ticks\":\"\"},\"colorscale\":[[0.0,\"#0d0887\"],[0.1111111111111111,\"#46039f\"],[0.2222222222222222,\"#7201a8\"],[0.3333333333333333,\"#9c179e\"],[0.4444444444444444,\"#bd3786\"],[0.5555555555555556,\"#d8576b\"],[0.6666666666666666,\"#ed7953\"],[0.7777777777777778,\"#fb9f3a\"],[0.8888888888888888,\"#fdca26\"],[1.0,\"#f0f921\"]],\"type\":\"histogram2dcontour\"}],\"histogram2d\":[{\"colorbar\":{\"outlinewidth\":0,\"ticks\":\"\"},\"colorscale\":[[0.0,\"#0d0887\"],[0.1111111111111111,\"#46039f\"],[0.2222222222222222,\"#7201a8\"],[0.3333333333333333,\"#9c179e\"],[0.4444444444444444,\"#bd3786\"],[0.5555555555555556,\"#d8576b\"],[0.6666666666666666,\"#ed7953\"],[0.7777777777777778,\"#fb9f3a\"],[0.8888888888888888,\"#fdca26\"],[1.0,\"#f0f921\"]],\"type\":\"histogram2d\"}],\"histogram\":[{\"marker\":{\"pattern\":{\"fillmode\":\"overlay\",\"size\":10,\"solidity\":0.2}},\"type\":\"histogram\"}],\"mesh3d\":[{\"colorbar\":{\"outlinewidth\":0,\"ticks\":\"\"},\"type\":\"mesh3d\"}],\"parcoords\":[{\"line\":{\"colorbar\":{\"outlinewidth\":0,\"ticks\":\"\"}},\"type\":\"parcoords\"}],\"pie\":[{\"automargin\":true,\"type\":\"pie\"}],\"scatter3d\":[{\"line\":{\"colorbar\":{\"outlinewidth\":0,\"ticks\":\"\"}},\"marker\":{\"colorbar\":{\"outlinewidth\":0,\"ticks\":\"\"}},\"type\":\"scatter3d\"}],\"scattercarpet\":[{\"marker\":{\"colorbar\":{\"outlinewidth\":0,\"ticks\":\"\"}},\"type\":\"scattercarpet\"}],\"scattergeo\":[{\"marker\":{\"colorbar\":{\"outlinewidth\":0,\"ticks\":\"\"}},\"type\":\"scattergeo\"}],\"scattergl\":[{\"marker\":{\"colorbar\":{\"outlinewidth\":0,\"ticks\":\"\"}},\"type\":\"scattergl\"}],\"scattermapbox\":[{\"marker\":{\"colorbar\":{\"outlinewidth\":0,\"ticks\":\"\"}},\"type\":\"scattermapbox\"}],\"scatterpolargl\":[{\"marker\":{\"colorbar\":{\"outlinewidth\":0,\"ticks\":\"\"}},\"type\":\"scatterpolargl\"}],\"scatterpolar\":[{\"marker\":{\"colorbar\":{\"outlinewidth\":0,\"ticks\":\"\"}},\"type\":\"scatterpolar\"}],\"scatter\":[{\"marker\":{\"colorbar\":{\"outlinewidth\":0,\"ticks\":\"\"}},\"type\":\"scatter\"}],\"scatterternary\":[{\"marker\":{\"colorbar\":{\"outlinewidth\":0,\"ticks\":\"\"}},\"type\":\"scatterternary\"}],\"surface\":[{\"colorbar\":{\"outlinewidth\":0,\"ticks\":\"\"},\"colorscale\":[[0.0,\"#0d0887\"],[0.1111111111111111,\"#46039f\"],[0.2222222222222222,\"#7201a8\"],[0.3333333333333333,\"#9c179e\"],[0.4444444444444444,\"#bd3786\"],[0.5555555555555556,\"#d8576b\"],[0.6666666666666666,\"#ed7953\"],[0.7777777777777778,\"#fb9f3a\"],[0.8888888888888888,\"#fdca26\"],[1.0,\"#f0f921\"]],\"type\":\"surface\"}],\"table\":[{\"cells\":{\"fill\":{\"color\":\"#EBF0F8\"},\"line\":{\"color\":\"white\"}},\"header\":{\"fill\":{\"color\":\"#C8D4E3\"},\"line\":{\"color\":\"white\"}},\"type\":\"table\"}]},\"layout\":{\"annotationdefaults\":{\"arrowcolor\":\"#2a3f5f\",\"arrowhead\":0,\"arrowwidth\":1},\"autotypenumbers\":\"strict\",\"coloraxis\":{\"colorbar\":{\"outlinewidth\":0,\"ticks\":\"\"}},\"colorscale\":{\"diverging\":[[0,\"#8e0152\"],[0.1,\"#c51b7d\"],[0.2,\"#de77ae\"],[0.3,\"#f1b6da\"],[0.4,\"#fde0ef\"],[0.5,\"#f7f7f7\"],[0.6,\"#e6f5d0\"],[0.7,\"#b8e186\"],[0.8,\"#7fbc41\"],[0.9,\"#4d9221\"],[1,\"#276419\"]],\"sequential\":[[0.0,\"#0d0887\"],[0.1111111111111111,\"#46039f\"],[0.2222222222222222,\"#7201a8\"],[0.3333333333333333,\"#9c179e\"],[0.4444444444444444,\"#bd3786\"],[0.5555555555555556,\"#d8576b\"],[0.6666666666666666,\"#ed7953\"],[0.7777777777777778,\"#fb9f3a\"],[0.8888888888888888,\"#fdca26\"],[1.0,\"#f0f921\"]],\"sequentialminus\":[[0.0,\"#0d0887\"],[0.1111111111111111,\"#46039f\"],[0.2222222222222222,\"#7201a8\"],[0.3333333333333333,\"#9c179e\"],[0.4444444444444444,\"#bd3786\"],[0.5555555555555556,\"#d8576b\"],[0.6666666666666666,\"#ed7953\"],[0.7777777777777778,\"#fb9f3a\"],[0.8888888888888888,\"#fdca26\"],[1.0,\"#f0f921\"]]},\"colorway\":[\"#636efa\",\"#EF553B\",\"#00cc96\",\"#ab63fa\",\"#FFA15A\",\"#19d3f3\",\"#FF6692\",\"#B6E880\",\"#FF97FF\",\"#FECB52\"],\"font\":{\"color\":\"#2a3f5f\"},\"geo\":{\"bgcolor\":\"white\",\"lakecolor\":\"white\",\"landcolor\":\"#E5ECF6\",\"showlakes\":true,\"showland\":true,\"subunitcolor\":\"white\"},\"hoverlabel\":{\"align\":\"left\"},\"hovermode\":\"closest\",\"mapbox\":{\"style\":\"light\"},\"paper_bgcolor\":\"white\",\"plot_bgcolor\":\"#E5ECF6\",\"polar\":{\"angularaxis\":{\"gridcolor\":\"white\",\"linecolor\":\"white\",\"ticks\":\"\"},\"bgcolor\":\"#E5ECF6\",\"radialaxis\":{\"gridcolor\":\"white\",\"linecolor\":\"white\",\"ticks\":\"\"}},\"scene\":{\"xaxis\":{\"backgroundcolor\":\"#E5ECF6\",\"gridcolor\":\"white\",\"gridwidth\":2,\"linecolor\":\"white\",\"showbackground\":true,\"ticks\":\"\",\"zerolinecolor\":\"white\"},\"yaxis\":{\"backgroundcolor\":\"#E5ECF6\",\"gridcolor\":\"white\",\"gridwidth\":2,\"linecolor\":\"white\",\"showbackground\":true,\"ticks\":\"\",\"zerolinecolor\":\"white\"},\"zaxis\":{\"backgroundcolor\":\"#E5ECF6\",\"gridcolor\":\"white\",\"gridwidth\":2,\"linecolor\":\"white\",\"showbackground\":true,\"ticks\":\"\",\"zerolinecolor\":\"white\"}},\"shapedefaults\":{\"line\":{\"color\":\"#2a3f5f\"}},\"ternary\":{\"aaxis\":{\"gridcolor\":\"white\",\"linecolor\":\"white\",\"ticks\":\"\"},\"baxis\":{\"gridcolor\":\"white\",\"linecolor\":\"white\",\"ticks\":\"\"},\"bgcolor\":\"#E5ECF6\",\"caxis\":{\"gridcolor\":\"white\",\"linecolor\":\"white\",\"ticks\":\"\"}},\"title\":{\"x\":0.05},\"xaxis\":{\"automargin\":true,\"gridcolor\":\"white\",\"linecolor\":\"white\",\"ticks\":\"\",\"title\":{\"standoff\":15},\"zerolinecolor\":\"white\",\"zerolinewidth\":2},\"yaxis\":{\"automargin\":true,\"gridcolor\":\"white\",\"linecolor\":\"white\",\"ticks\":\"\",\"title\":{\"standoff\":15},\"zerolinecolor\":\"white\",\"zerolinewidth\":2}}},\"title\":{\"text\":\"Credit Card Fraud Class - data unbalance (Not fraud = 0, Fraud = 1)\"},\"width\":600,\"xaxis\":{\"showticklabels\":true,\"title\":{\"text\":\"is_fraud\"}},\"yaxis\":{\"title\":{\"text\":\"Number of transactions\"}}},                        {\"responsive\": true}                    ).then(function(){\n",
              "                            \n",
              "var gd = document.getElementById('e200f072-0865-443d-b50e-0030f18f2423');\n",
              "var x = new MutationObserver(function (mutations, observer) {{\n",
              "        var display = window.getComputedStyle(gd).display;\n",
              "        if (!display || display === 'none') {{\n",
              "            console.log([gd, 'removed!']);\n",
              "            Plotly.purge(gd);\n",
              "            observer.disconnect();\n",
              "        }}\n",
              "}});\n",
              "\n",
              "// Listen for the removal of the full notebook cells\n",
              "var notebookContainer = gd.closest('#notebook-container');\n",
              "if (notebookContainer) {{\n",
              "    x.observe(notebookContainer, {childList: true});\n",
              "}}\n",
              "\n",
              "// Listen for the clearing of the current output cell\n",
              "var outputEl = gd.closest('.output');\n",
              "if (outputEl) {{\n",
              "    x.observe(outputEl, {childList: true});\n",
              "}}\n",
              "\n",
              "                        })                };                });            </script>        </div>"
            ]
          },
          "metadata": {}
        }
      ],
      "source": [
        "temp = data[\"is_fraud\"].value_counts()\n",
        "df = pd.DataFrame({'is_fraud': temp.index,'amt': temp.values})\n",
        "\n",
        "trace = go.Bar(\n",
        "    x = df['is_fraud'],y = df['amt'],\n",
        "    name=\"Credit Card Fraud Class - data unbalance (Not fraud = 0, Fraud = 1)\",\n",
        "    marker=dict(color=\"Red\"),\n",
        "    text=df['amt']\n",
        ")\n",
        "data_fig = [trace]\n",
        "layout = dict(title = 'Credit Card Fraud Class - data unbalance (Not fraud = 0, Fraud = 1)',\n",
        "          xaxis = dict(title = 'is_fraud', showticklabels=True), \n",
        "          yaxis = dict(title = 'Number of transactions'),\n",
        "          hovermode = 'closest',width=600\n",
        "         )\n",
        "fig = dict(data=data_fig, layout=layout)\n",
        "iplot(fig, filename='class')"
      ]
    },
    {
      "cell_type": "code",
      "execution_count": null,
      "metadata": {
        "_uuid": "3282363d7df3791eedba13adf873d47efa65ed31",
        "id": "UhbmgSFsH6n8",
        "outputId": "5ae5e234-bfe5-4e2e-e57a-101075cc1a3a",
        "colab": {
          "base_uri": "https://localhost:8080/"
        }
      },
      "outputs": [
        {
          "output_type": "stream",
          "name": "stdout",
          "text": [
            "outlier_fraction : 0.004457866965692311\n",
            "Fraud Cases: 1944\n",
            "Valid Cases: 436083\n"
          ]
        }
      ],
      "source": [
        "# determine the number of fraud vs not fraud cases\n",
        "fraud = data[data['is_fraud'] == 1]\n",
        "valid = data[data['is_fraud'] == 0]\n",
        "\n",
        "outlier_fraction = len(fraud) / float(len(valid))\n",
        "\n",
        "# -----------------------\n",
        "print('outlier_fraction : {}'.format(outlier_fraction))\n",
        "print('Fraud Cases: {}'.format(len(fraud)))\n",
        "print('Valid Cases: {}'.format(len(valid)))\n"
      ]
    },
    {
      "cell_type": "markdown",
      "metadata": {
        "id": "xfVDvAVJH6oA"
      },
      "source": [
        "### Explorations in Time : Fraud Vs Non Fraud "
      ]
    },
    {
      "cell_type": "code",
      "execution_count": null,
      "metadata": {
        "id": "5zf1GOJqH6oA",
        "outputId": "18cdb793-a640-43dc-9a52-62ea37547198",
        "colab": {
          "base_uri": "https://localhost:8080/",
          "height": 542
        }
      },
      "outputs": [
        {
          "output_type": "display_data",
          "data": {
            "application/vnd.plotly.v1+json": {
              "data": [
                {
                  "legendgroup": "Not Fraud",
                  "marker": {
                    "color": "rgb(31, 119, 180)"
                  },
                  "mode": "lines",
                  "name": "Not Fraud",
                  "showlegend": true,
                  "x": [
                    1371816865,
                    1371845885.512,
                    1371874906.024,
                    1371903926.536,
                    1371932947.048,
                    1371961967.56,
                    1371990988.072,
                    1372020008.584,
                    1372049029.096,
                    1372078049.608,
                    1372107070.12,
                    1372136090.632,
                    1372165111.144,
                    1372194131.656,
                    1372223152.168,
                    1372252172.68,
                    1372281193.192,
                    1372310213.704,
                    1372339234.216,
                    1372368254.728,
                    1372397275.24,
                    1372426295.752,
                    1372455316.264,
                    1372484336.776,
                    1372513357.288,
                    1372542377.8,
                    1372571398.312,
                    1372600418.824,
                    1372629439.336,
                    1372658459.848,
                    1372687480.36,
                    1372716500.872,
                    1372745521.384,
                    1372774541.896,
                    1372803562.408,
                    1372832582.92,
                    1372861603.432,
                    1372890623.944,
                    1372919644.456,
                    1372948664.968,
                    1372977685.48,
                    1373006705.992,
                    1373035726.504,
                    1373064747.016,
                    1373093767.528,
                    1373122788.04,
                    1373151808.552,
                    1373180829.064,
                    1373209849.576,
                    1373238870.088,
                    1373267890.6,
                    1373296911.112,
                    1373325931.624,
                    1373354952.136,
                    1373383972.648,
                    1373412993.16,
                    1373442013.672,
                    1373471034.184,
                    1373500054.696,
                    1373529075.208,
                    1373558095.72,
                    1373587116.232,
                    1373616136.744,
                    1373645157.256,
                    1373674177.768,
                    1373703198.28,
                    1373732218.792,
                    1373761239.304,
                    1373790259.816,
                    1373819280.328,
                    1373848300.84,
                    1373877321.352,
                    1373906341.864,
                    1373935362.376,
                    1373964382.888,
                    1373993403.4,
                    1374022423.912,
                    1374051444.424,
                    1374080464.936,
                    1374109485.448,
                    1374138505.96,
                    1374167526.472,
                    1374196546.984,
                    1374225567.496,
                    1374254588.008,
                    1374283608.52,
                    1374312629.032,
                    1374341649.544,
                    1374370670.056,
                    1374399690.568,
                    1374428711.08,
                    1374457731.592,
                    1374486752.104,
                    1374515772.616,
                    1374544793.128,
                    1374573813.64,
                    1374602834.152,
                    1374631854.664,
                    1374660875.176,
                    1374689895.688,
                    1374718916.2,
                    1374747936.712,
                    1374776957.224,
                    1374805977.736,
                    1374834998.248,
                    1374864018.76,
                    1374893039.272,
                    1374922059.784,
                    1374951080.296,
                    1374980100.808,
                    1375009121.32,
                    1375038141.832,
                    1375067162.344,
                    1375096182.856,
                    1375125203.368,
                    1375154223.88,
                    1375183244.392,
                    1375212264.904,
                    1375241285.416,
                    1375270305.928,
                    1375299326.44,
                    1375328346.952,
                    1375357367.464,
                    1375386387.976,
                    1375415408.488,
                    1375444429,
                    1375473449.512,
                    1375502470.024,
                    1375531490.536,
                    1375560511.048,
                    1375589531.56,
                    1375618552.072,
                    1375647572.584,
                    1375676593.096,
                    1375705613.608,
                    1375734634.12,
                    1375763654.632,
                    1375792675.144,
                    1375821695.656,
                    1375850716.168,
                    1375879736.68,
                    1375908757.192,
                    1375937777.704,
                    1375966798.216,
                    1375995818.728,
                    1376024839.24,
                    1376053859.752,
                    1376082880.264,
                    1376111900.776,
                    1376140921.288,
                    1376169941.8,
                    1376198962.312,
                    1376227982.824,
                    1376257003.336,
                    1376286023.848,
                    1376315044.36,
                    1376344064.872,
                    1376373085.384,
                    1376402105.896,
                    1376431126.408,
                    1376460146.92,
                    1376489167.432,
                    1376518187.944,
                    1376547208.456,
                    1376576228.968,
                    1376605249.48,
                    1376634269.992,
                    1376663290.504,
                    1376692311.016,
                    1376721331.528,
                    1376750352.04,
                    1376779372.552,
                    1376808393.064,
                    1376837413.576,
                    1376866434.088,
                    1376895454.6,
                    1376924475.112,
                    1376953495.624,
                    1376982516.136,
                    1377011536.648,
                    1377040557.16,
                    1377069577.672,
                    1377098598.184,
                    1377127618.696,
                    1377156639.208,
                    1377185659.72,
                    1377214680.232,
                    1377243700.744,
                    1377272721.256,
                    1377301741.768,
                    1377330762.28,
                    1377359782.792,
                    1377388803.304,
                    1377417823.816,
                    1377446844.328,
                    1377475864.84,
                    1377504885.352,
                    1377533905.864,
                    1377562926.376,
                    1377591946.888,
                    1377620967.4,
                    1377649987.912,
                    1377679008.424,
                    1377708028.936,
                    1377737049.448,
                    1377766069.96,
                    1377795090.472,
                    1377824110.984,
                    1377853131.496,
                    1377882152.008,
                    1377911172.52,
                    1377940193.032,
                    1377969213.544,
                    1377998234.056,
                    1378027254.568,
                    1378056275.08,
                    1378085295.592,
                    1378114316.104,
                    1378143336.616,
                    1378172357.128,
                    1378201377.64,
                    1378230398.152,
                    1378259418.664,
                    1378288439.176,
                    1378317459.688,
                    1378346480.2,
                    1378375500.712,
                    1378404521.224,
                    1378433541.736,
                    1378462562.248,
                    1378491582.76,
                    1378520603.272,
                    1378549623.784,
                    1378578644.296,
                    1378607664.808,
                    1378636685.32,
                    1378665705.832,
                    1378694726.344,
                    1378723746.856,
                    1378752767.368,
                    1378781787.88,
                    1378810808.392,
                    1378839828.904,
                    1378868849.416,
                    1378897869.928,
                    1378926890.44,
                    1378955910.952,
                    1378984931.464,
                    1379013951.976,
                    1379042972.488,
                    1379071993,
                    1379101013.512,
                    1379130034.024,
                    1379159054.536,
                    1379188075.048,
                    1379217095.56,
                    1379246116.072,
                    1379275136.584,
                    1379304157.096,
                    1379333177.608,
                    1379362198.12,
                    1379391218.632,
                    1379420239.144,
                    1379449259.656,
                    1379478280.168,
                    1379507300.68,
                    1379536321.192,
                    1379565341.704,
                    1379594362.216,
                    1379623382.728,
                    1379652403.24,
                    1379681423.752,
                    1379710444.264,
                    1379739464.776,
                    1379768485.288,
                    1379797505.8,
                    1379826526.312,
                    1379855546.824,
                    1379884567.336,
                    1379913587.848,
                    1379942608.36,
                    1379971628.872,
                    1380000649.384,
                    1380029669.896,
                    1380058690.408,
                    1380087710.92,
                    1380116731.432,
                    1380145751.944,
                    1380174772.456,
                    1380203792.968,
                    1380232813.48,
                    1380261833.992,
                    1380290854.504,
                    1380319875.016,
                    1380348895.528,
                    1380377916.04,
                    1380406936.552,
                    1380435957.064,
                    1380464977.576,
                    1380493998.088,
                    1380523018.6,
                    1380552039.112,
                    1380581059.624,
                    1380610080.136,
                    1380639100.648,
                    1380668121.16,
                    1380697141.672,
                    1380726162.184,
                    1380755182.696,
                    1380784203.208,
                    1380813223.72,
                    1380842244.232,
                    1380871264.744,
                    1380900285.256,
                    1380929305.768,
                    1380958326.28,
                    1380987346.792,
                    1381016367.304,
                    1381045387.816,
                    1381074408.328,
                    1381103428.84,
                    1381132449.352,
                    1381161469.864,
                    1381190490.376,
                    1381219510.888,
                    1381248531.4,
                    1381277551.912,
                    1381306572.424,
                    1381335592.936,
                    1381364613.448,
                    1381393633.96,
                    1381422654.472,
                    1381451674.984,
                    1381480695.496,
                    1381509716.008,
                    1381538736.52,
                    1381567757.032,
                    1381596777.544,
                    1381625798.056,
                    1381654818.568,
                    1381683839.08,
                    1381712859.592,
                    1381741880.104,
                    1381770900.616,
                    1381799921.128,
                    1381828941.64,
                    1381857962.152,
                    1381886982.664,
                    1381916003.176,
                    1381945023.688,
                    1381974044.2,
                    1382003064.712,
                    1382032085.224,
                    1382061105.736,
                    1382090126.248,
                    1382119146.76,
                    1382148167.272,
                    1382177187.784,
                    1382206208.296,
                    1382235228.808,
                    1382264249.32,
                    1382293269.832,
                    1382322290.344,
                    1382351310.856,
                    1382380331.368,
                    1382409351.88,
                    1382438372.392,
                    1382467392.904,
                    1382496413.416,
                    1382525433.928,
                    1382554454.44,
                    1382583474.952,
                    1382612495.464,
                    1382641515.976,
                    1382670536.488,
                    1382699557,
                    1382728577.512,
                    1382757598.024,
                    1382786618.536,
                    1382815639.048,
                    1382844659.56,
                    1382873680.072,
                    1382902700.584,
                    1382931721.096,
                    1382960741.608,
                    1382989762.12,
                    1383018782.632,
                    1383047803.144,
                    1383076823.656,
                    1383105844.168,
                    1383134864.68,
                    1383163885.192,
                    1383192905.704,
                    1383221926.216,
                    1383250946.728,
                    1383279967.24,
                    1383308987.752,
                    1383338008.264,
                    1383367028.776,
                    1383396049.288,
                    1383425069.8,
                    1383454090.312,
                    1383483110.824,
                    1383512131.336,
                    1383541151.848,
                    1383570172.36,
                    1383599192.872,
                    1383628213.384,
                    1383657233.896,
                    1383686254.408,
                    1383715274.92,
                    1383744295.432,
                    1383773315.944,
                    1383802336.456,
                    1383831356.968,
                    1383860377.48,
                    1383889397.992,
                    1383918418.504,
                    1383947439.016,
                    1383976459.528,
                    1384005480.04,
                    1384034500.552,
                    1384063521.064,
                    1384092541.576,
                    1384121562.088,
                    1384150582.6,
                    1384179603.112,
                    1384208623.624,
                    1384237644.136,
                    1384266664.648,
                    1384295685.16,
                    1384324705.672,
                    1384353726.184,
                    1384382746.696,
                    1384411767.208,
                    1384440787.72,
                    1384469808.232,
                    1384498828.744,
                    1384527849.256,
                    1384556869.768,
                    1384585890.28,
                    1384614910.792,
                    1384643931.304,
                    1384672951.816,
                    1384701972.328,
                    1384730992.84,
                    1384760013.352,
                    1384789033.864,
                    1384818054.376,
                    1384847074.888,
                    1384876095.4,
                    1384905115.912,
                    1384934136.424,
                    1384963156.936,
                    1384992177.448,
                    1385021197.96,
                    1385050218.472,
                    1385079238.984,
                    1385108259.496,
                    1385137280.008,
                    1385166300.52,
                    1385195321.032,
                    1385224341.544,
                    1385253362.056,
                    1385282382.568,
                    1385311403.08,
                    1385340423.592,
                    1385369444.104,
                    1385398464.616,
                    1385427485.128,
                    1385456505.64,
                    1385485526.152,
                    1385514546.664,
                    1385543567.176,
                    1385572587.688,
                    1385601608.2,
                    1385630628.712,
                    1385659649.224,
                    1385688669.736,
                    1385717690.248,
                    1385746710.76,
                    1385775731.272,
                    1385804751.784,
                    1385833772.296,
                    1385862792.808,
                    1385891813.32,
                    1385920833.832,
                    1385949854.344,
                    1385978874.856,
                    1386007895.368,
                    1386036915.88,
                    1386065936.392,
                    1386094956.904,
                    1386123977.416,
                    1386152997.928,
                    1386182018.44,
                    1386211038.952,
                    1386240059.464,
                    1386269079.976,
                    1386298100.488
                  ],
                  "xaxis": "x",
                  "y": [
                    4.139545477367381e-8,
                    4.4021613421876354e-8,
                    4.658895032237445e-8,
                    4.907940447804199e-8,
                    5.147709854952979e-8,
                    5.376862213243107e-8,
                    5.594319800942747e-8,
                    5.799272948248945e-8,
                    5.991173466868128e-8,
                    6.169718084070878e-8,
                    6.334823792608973e-8,
                    6.486597465681381e-8,
                    6.625302323737039e-8,
                    6.751323860657487e-8,
                    6.86513764289292e-8,
                    6.967281008353118e-8,
                    7.058330151142772e-8,
                    7.138883435992588e-8,
                    7.209551103748872e-8,
                    7.270950870405627e-8,
                    7.323708347743255e-8,
                    7.368460775448878e-8,
                    7.405862290926821e-8,
                    7.436588894668221e-8,
                    7.461341398115925e-8,
                    7.480844950447757e-8,
                    7.495844196448354e-8,
                    7.507093671902216e-8,
                    7.515343638983814e-8,
                    7.521322141661652e-8,
                    7.525714562274637e-8,
                    7.529142335109534e-8,
                    7.53214268332992e-8,
                    7.535151270406191e-8,
                    7.538489492617862e-8,
                    7.542357799655622e-8,
                    7.54683594711809e-8,
                    7.551890502658857e-8,
                    7.557389300962315e-8,
                    7.563121930328892e-8,
                    7.568824792787224e-8,
                    7.574208861282331e-8,
                    7.578988001238755e-8,
                    7.582905654454053e-8,
                    7.585757808383812e-8,
                    7.587410483230174e-8,
                    7.587810435685452e-8,
                    7.586988360234142e-8,
                    7.585054514535657e-8,
                    7.582187346760285e-8,
                    7.578616301495537e-8,
                    7.57460047337694e-8,
                    7.57040512006711e-8,
                    7.566278208199387e-8,
                    7.56242913340351e-8,
                    7.559011532150987e-8,
                    7.556111709401817e-8,
                    7.5537436780662e-8,
                    7.551851191943956e-8,
                    7.550316508751746e-8,
                    7.548975002287053e-8,
                    7.547634208386659e-8,
                    7.546095486037167e-8,
                    7.544176238940268e-8,
                    7.54173059493856e-8,
                    7.538666584916876e-8,
                    7.53495818575018e-8,
                    7.530651064102494e-8,
                    7.52586143646039e-8,
                    7.520768093282346e-8,
                    7.515598264224147e-8,
                    7.51060857008842e-8,
                    7.506062763876176e-8,
                    7.502208266657204e-8,
                    7.499253626228702e-8,
                    7.497348956359508e-8,
                    7.49657115784945e-8,
                    7.4969153024057e-8,
                    7.498293014082786e-8,
                    7.500538059723386e-8,
                    7.503418715447015e-8,
                    7.506655868762199e-8,
                    7.509945300070061e-8,
                    7.512982209675098e-8,
                    7.515485851200298e-8,
                    7.51722211817203e-8,
                    7.518022109028357e-8,
                    7.517795051187913e-8,
                    7.516534465280136e-8,
                    7.514317051454237e-8,
                    7.511294426909011e-8,
                    7.507678479366418e-8,
                    7.503721668016215e-8,
                    7.499694050562115e-8,
                    7.49585910222852e-8,
                    7.492450494078957e-8,
                    7.489651904678351e-8,
                    7.487581659456602e-8,
                    7.48628355126528e-8,
                    7.485724633416565e-8,
                    7.485800143595714e-8,
                    7.486345070584646e-8,
                    7.487151274072821e-8,
                    7.487988565277456e-8,
                    7.488627798057882e-8,
                    7.488863839052651e-8,
                    7.488536297527685e-8,
                    7.487546100014517e-8,
                    7.485866373022555e-8,
                    7.483546614994453e-8,
                    7.480709749332931e-8,
                    7.477542298584746e-8,
                    7.47427854693844e-8,
                    7.47118010721687e-8,
                    7.468512729716665e-8,
                    7.466522445208314e-8,
                    7.465413199858441e-8,
                    7.465328009669385e-8,
                    7.466335347806763e-8,
                    7.46842200817629e-8,
                    7.471493105316498e-8,
                    7.475379226821306e-8,
                    7.479850108424877e-8,
                    7.484633612172464e-8,
                    7.489438308284434e-8,
                    7.493977634983865e-8,
                    7.497993467493254e-8,
                    7.50127698070341e-8,
                    7.503684935046649e-8,
                    7.505149929839408e-8,
                    7.505683715374701e-8,
                    7.505373284874029e-8,
                    7.50437012314009e-8,
                    7.502873611031684e-8,
                    7.501110117314482e-8,
                    7.499309703913295e-8,
                    7.497682591172992e-8,
                    7.496397556416763e-8,
                    7.495564269231822e-8,
                    7.49522121561777e-8,
                    7.495330361832527e-8,
                    7.495779102460752e-8,
                    7.496389380220244e-8,
                    7.496933216306214e-8,
                    7.49715330776737e-8,
                    7.49678688474633e-8,
                    7.495590716924952e-8,
                    7.493365042418437e-8,
                    7.489974274120832e-8,
                    7.485362610888571e-8,
                    7.479563119821983e-8,
                    7.472699422255228e-8,
                    7.464979759668873e-8,
                    7.456683879577021e-8,
                    7.448143806773041e-8,
                    7.439720096981236e-8,
                    7.43177556124029e-8,
                    7.42464866600961e-8,
                    7.41862883747973e-8,
                    7.413935727376402e-8,
                    7.410704147526094e-8,
                    7.408975883091528e-8,
                    7.408698994236549e-8,
                    7.409734566446279e-8,
                    7.41187022833903e-8,
                    7.414839179215302e-8,
                    7.418343007293668e-8,
                    7.42207627372617e-8,
                    7.425750713094433e-8,
                    7.429116967908256e-8,
                    7.431982025356872e-8,
                    7.434220935375955e-8,
                    7.435781922103134e-8,
                    7.436684607175209e-8,
                    7.437011688068158e-8,
                    7.436895001208067e-8,
                    7.43649739514683e-8,
                    7.435992199345424e-8,
                    7.435542267091168e-8,
                    7.435280580188381e-8,
                    7.435294228502081e-8,
                    7.435613236041921e-8,
                    7.436205229234635e-8,
                    7.436976376708426e-8,
                    7.437778425954416e-8,
                    7.438421076707618e-8,
                    7.438688418273772e-8,
                    7.438357766030058e-8,
                    7.437218997798363e-8,
                    7.43509243601679e-8,
                    7.431843452527532e-8,
                    7.427392278080789e-8,
                    7.421717950992552e-8,
                    7.414855897690559e-8,
                    7.406889251080079e-8,
                    7.397934624306435e-8,
                    7.388123610858857e-8,
                    7.377581725270931e-8,
                    7.366406789848744e-8,
                    7.35464888330925e-8,
                    7.342293884698694e-8,
                    7.329252375634131e-8,
                    7.315355227980887e-8,
                    7.300356639970587e-8,
                    7.283944740660238e-8,
                    7.265759217222499e-8,
                    7.245414790790365e-8,
                    7.222528830564867e-8,
                    7.196751000599908e-8,
                    7.167792614835893e-8,
                    7.135453353692325e-8,
                    7.099643172595435e-8,
                    7.060397594414091e-8,
                    7.017885092831109e-8,
                    6.972405897681194e-8,
                    6.924382232351969e-8,
                    6.874340669041014e-8,
                    6.822887902148205e-8,
                    6.770681741447813e-8,
                    6.718399473262828e-8,
                    6.666705902072974e-8,
                    6.616223355396006e-8,
                    6.567505717196831e-8,
                    6.52101817150092e-8,
                    6.477123824587329e-8,
                    6.436077778142121e-8,
                    6.398028600337786e-8,
                    6.363026541985886e-8,
                    6.331037322151766e-8,
                    6.301959905597169e-8,
                    6.275646445101255e-8,
                    6.251922482842571e-8,
                    6.230605598639593e-8,
                    6.21152094568074e-8,
                    6.194512498972425e-8,
                    6.179449319501936e-8,
                    6.166226661858105e-8,
                    6.15476227527629e-8,
                    6.144988719524333e-8,
                    6.136842895112517e-8,
                    6.130254238680989e-8,
                    6.125133138024535e-8,
                    6.121361069977658e-8,
                    6.118783765598433e-8,
                    6.117208381602622e-8,
                    6.116405237185352e-8,
                    6.116114201946979e-8,
                    6.116055338972573e-8,
                    6.115942962953027e-8,
                    6.115501908557695e-8,
                    6.114484553416018e-8,
                    6.112687026750005e-8,
                    6.109963069744934e-8,
                    6.106234194264758e-8,
                    6.101495096185964e-8,
                    6.095813690170711e-8,
                    6.089325606619015e-8,
                    6.082223485395885e-8,
                    6.074741869518175e-8,
                    6.067138902191241e-8,
                    6.059676325673369e-8,
                    6.05259944302655e-8,
                    6.046118718584876e-8,
                    6.040394558108901e-8,
                    6.035526536693804e-8,
                    6.031547955797308e-8,
                    6.028426144787764e-8,
                    6.02606841887989e-8,
                    6.024333109362696e-8,
                    6.023044638142809e-8,
                    6.022011256610226e-8,
                    6.021043840215172e-8,
                    6.01997404536769e-8,
                    6.018670201805658e-8,
                    6.017049525296881e-8,
                    6.015085573284828e-8,
                    6.012810299371552e-8,
                    6.010310552314052e-8,
                    6.007719367448986e-8,
                    6.005202868018504e-8,
                    6.002943988604716e-8,
                    6.001124517479021e-8,
                    5.999907103727931e-8,
                    5.999418875356734e-8,
                    5.999738166468899e-8,
                    6.000885568637178e-8,
                    6.002820129442193e-8,
                    6.005441055396285e-8,
                    6.008594779153946e-8,
                    6.012086766933677e-8,
                    6.015697015089279e-8,
                    6.019197853149376e-8,
                    6.02237246425061e-8,
                    6.025032471120477e-8,
                    6.02703302214741e-8,
                    6.028284039575362e-8,
                    6.028756639793643e-8,
                    6.02848417244291e-8,
                    6.02755781105092e-8,
                    6.026117119184288e-8,
                    6.024336468146832e-8,
                    6.02240855428869e-8,
                    6.020526522367423e-8,
                    6.01886632286097e-8,
                    6.017570904777541e-8,
                    6.016737673875602e-8,
                    6.016410344901459e-8,
                    6.016575912938129e-8,
                    6.017166999829227e-8,
                    6.018069339530151e-8,
                    6.019133695790294e-8,
                    6.020191099513309e-8,
                    6.021069988362807e-8,
                    6.02161365539611e-8,
                    6.021696382780084e-8,
                    6.021236753867111e-8,
                    6.020206891604409e-8,
                    6.018636740490437e-8,
                    6.016612959697993e-8,
                    6.014272485874433e-8,
                    6.011791311076974e-8,
                    6.009369460175388e-8,
                    6.007213503041997e-8,
                    6.005518168073862e-8,
                    6.004448713827065e-8,
                    6.004125656420558e-8,
                    6.00461324690224e-8,
                    6.00591276294252e-8,
                    6.0079612525611e-8,
                    6.010635882250262e-8,
                    6.013763541352718e-8,
                    6.017134883851648e-8,
                    6.020521590079483e-8,
                    6.023695340177446e-8,
                    6.026446834595105e-8,
                    6.0286031887686e-8,
                    6.030042170219903e-8,
                    6.030702024302694e-8,
                    6.030586024883224e-8,
                    6.029761353732784e-8,
                    6.028352415536226e-8,
                    6.026529189373852e-8,
                    6.024491658128948e-8,
                    6.022451705211974e-8,
                    6.020614092163407e-8,
                    6.019158211027431e-8,
                    6.018222234646467e-8,
                    6.017891072538473e-8,
                    6.018189198836136e-8,
                    6.019078982421497e-8,
                    6.020464656734074e-8,
                    6.022201561720092e-8,
                    6.024109818174e-8,
                    6.025991197452626e-8,
                    6.02764766278347e-8,
                    6.028899907853143e-8,
                    6.029604217591959e-8,
                    6.029666125290253e-8,
                    6.029049626157404e-8,
                    6.02778110478399e-8,
                    6.025947607180293e-8,
                    6.023689594998835e-8,
                    6.021188814812633e-8,
                    6.018652354595236e-8,
                    6.016294303502701e-8,
                    6.014316648738803e-8,
                    6.012891115082935e-8,
                    6.012143571976655e-8,
                    6.012142406971334e-8,
                    6.01289191288143e-8,
                    6.014331290570993e-8,
                    6.016339369714516e-8,
                    6.018744640824797e-8,
                    6.021339718966756e-8,
                    6.023898965266694e-8,
                    6.026197711969044e-8,
                    6.028031395582094e-8,
                    6.029232913251113e-8,
                    6.02968667895657e-8,
                    6.029338153911878e-8,
                    6.028198032802043e-8,
                    6.026340747550992e-8,
                    6.02389745987577e-8,
                    6.021044207000972e-8,
                    6.017986297071227e-8,
                    6.014940383046383e-8,
                    6.012115846194966e-8,
                    6.009697174446252e-8,
                    6.007828922029769e-8,
                    6.006604594007993e-8,
                    6.006060434501213e-8,
                    6.006174643844582e-8,
                    6.00687204871752e-8,
                    6.008033746078098e-8,
                    6.00951078236044e-8,
                    6.011140555737926e-8,
                    6.012764375579553e-8,
                    6.014244502938246e-8,
                    6.015479039448666e-8,
                    6.016413225890932e-8,
                    6.017046038758261e-8,
                    6.017431404168122e-8,
                    6.017673844507379e-8,
                    6.017918889488019e-8,
                    6.018339072884165e-8,
                    6.019116754418371e-8,
                    6.020425314760165e-8,
                    6.022410441624e-8,
                    6.025173240305144e-8,
                    6.028756760335702e-8,
                    6.033137243008246e-8,
                    6.038220987336002e-8,
                    6.043847240501334e-8,
                    6.049796986673862e-8,
                    6.055806982782612e-8,
                    6.061587918573437e-8,
                    6.066845203460048e-8,
                    6.071300638286086e-8,
                    6.074713138522515e-8,
                    6.076896745339475e-8,
                    6.077734386751802e-8,
                    6.077186212952935e-8,
                    6.075291796167222e-8,
                    6.072166014618252e-8,
                    6.067988985645064e-8,
                    6.062990926248553e-8,
                    6.057433254975426e-8,
                    6.051587568613838e-8,
                    6.045714302625919e-8,
                    6.040042900561799e-8,
                    6.034755174059724e-8,
                    6.029973245031168e-8,
                    6.025753051860562e-8,
                    6.022083909221996e-8,
                    6.018894080985018e-8,
                    6.016061805417788e-8,
                    6.013430748206224e-8,
                    6.010828493039405e-8,
                    6.008086443995217e-8,
                    6.005059429056009e-8,
                    6.001643366304043e-8,
                    5.997789575913901e-8,
                    5.99351467035876e-8,
                    5.988905399090125e-8,
                    5.984118320214332e-8,
                    5.979374673439974e-8,
                    5.974951288028867e-8,
                    5.971168732548844e-8,
                    5.96837816338418e-8,
                    5.966948430706453e-8,
                    5.967254941854275e-8,
                    5.969671565384498e-8,
                    5.974566501687292e-8,
                    5.982302578528351e-8,
                    5.993241893642674e-8,
                    6.007754170317931e-8,
                    6.02622766784743e-8,
                    6.049081047550665e-8,
                    6.076774281904116e-8,
                    6.109816544464662e-8,
                    6.148769054075546e-8,
                    6.194241075261791e-8,
                    6.246877688512977e-8,
                    6.307338513989427e-8,
                    6.376267260603688e-8,
                    6.454252728462412e-8,
                    6.541782658055028e-8,
                    6.639192533160929e-8,
                    6.74661204743466e-8,
                    6.86391238511087e-8,
                    6.990657704015223e-8,
                    7.1260642188435e-8,
                    7.268970056491659e-8,
                    7.417818603353858e-8,
                    7.570657414979962e-8,
                    7.725153954262076e-8,
                    7.87862852069842e-8,
                    8.028103792694167e-8,
                    8.170369491706656e-8,
                    8.30205985312781e-8,
                    8.419740907014604e-8,
                    8.520004073593077e-8,
                    8.599562289475014e-8,
                    8.655344809944235e-8,
                    8.684586973192434e-8,
                    8.684911541672472e-8,
                    8.654398719485324e-8,
                    8.591642540739702e-8,
                    8.495791985999737e-8,
                    8.366575867035315e-8,
                    8.204311183343232e-8,
                    8.009895264102273e-8,
                    7.784782542682207e-8,
                    7.530947253788478e-8,
                    7.250833691354782e-8,
                    6.947295922037954e-8,
                    6.623529023299357e-8,
                    6.282994018424656e-8,
                    5.92933872555565e-8,
                    5.566316733940455e-8
                  ],
                  "yaxis": "y",
                  "type": "scatter"
                },
                {
                  "legendgroup": "Fraud",
                  "marker": {
                    "color": "rgb(255, 127, 14)"
                  },
                  "mode": "lines",
                  "name": "Fraud",
                  "showlegend": true,
                  "x": [
                    1371852399,
                    1371881293.016,
                    1371910187.032,
                    1371939081.048,
                    1371967975.064,
                    1371996869.08,
                    1372025763.096,
                    1372054657.112,
                    1372083551.128,
                    1372112445.144,
                    1372141339.16,
                    1372170233.176,
                    1372199127.192,
                    1372228021.208,
                    1372256915.224,
                    1372285809.24,
                    1372314703.256,
                    1372343597.272,
                    1372372491.288,
                    1372401385.304,
                    1372430279.32,
                    1372459173.336,
                    1372488067.352,
                    1372516961.368,
                    1372545855.384,
                    1372574749.4,
                    1372603643.416,
                    1372632537.432,
                    1372661431.448,
                    1372690325.464,
                    1372719219.48,
                    1372748113.496,
                    1372777007.512,
                    1372805901.528,
                    1372834795.544,
                    1372863689.56,
                    1372892583.576,
                    1372921477.592,
                    1372950371.608,
                    1372979265.624,
                    1373008159.64,
                    1373037053.656,
                    1373065947.672,
                    1373094841.688,
                    1373123735.704,
                    1373152629.72,
                    1373181523.736,
                    1373210417.752,
                    1373239311.768,
                    1373268205.784,
                    1373297099.8,
                    1373325993.816,
                    1373354887.832,
                    1373383781.848,
                    1373412675.864,
                    1373441569.88,
                    1373470463.896,
                    1373499357.912,
                    1373528251.928,
                    1373557145.944,
                    1373586039.96,
                    1373614933.976,
                    1373643827.992,
                    1373672722.008,
                    1373701616.024,
                    1373730510.04,
                    1373759404.056,
                    1373788298.072,
                    1373817192.088,
                    1373846086.104,
                    1373874980.12,
                    1373903874.136,
                    1373932768.152,
                    1373961662.168,
                    1373990556.184,
                    1374019450.2,
                    1374048344.216,
                    1374077238.232,
                    1374106132.248,
                    1374135026.264,
                    1374163920.28,
                    1374192814.296,
                    1374221708.312,
                    1374250602.328,
                    1374279496.344,
                    1374308390.36,
                    1374337284.376,
                    1374366178.392,
                    1374395072.408,
                    1374423966.424,
                    1374452860.44,
                    1374481754.456,
                    1374510648.472,
                    1374539542.488,
                    1374568436.504,
                    1374597330.52,
                    1374626224.536,
                    1374655118.552,
                    1374684012.568,
                    1374712906.584,
                    1374741800.6,
                    1374770694.616,
                    1374799588.632,
                    1374828482.648,
                    1374857376.664,
                    1374886270.68,
                    1374915164.696,
                    1374944058.712,
                    1374972952.728,
                    1375001846.744,
                    1375030740.76,
                    1375059634.776,
                    1375088528.792,
                    1375117422.808,
                    1375146316.824,
                    1375175210.84,
                    1375204104.856,
                    1375232998.872,
                    1375261892.888,
                    1375290786.904,
                    1375319680.92,
                    1375348574.936,
                    1375377468.952,
                    1375406362.968,
                    1375435256.984,
                    1375464151,
                    1375493045.016,
                    1375521939.032,
                    1375550833.048,
                    1375579727.064,
                    1375608621.08,
                    1375637515.096,
                    1375666409.112,
                    1375695303.128,
                    1375724197.144,
                    1375753091.16,
                    1375781985.176,
                    1375810879.192,
                    1375839773.208,
                    1375868667.224,
                    1375897561.24,
                    1375926455.256,
                    1375955349.272,
                    1375984243.288,
                    1376013137.304,
                    1376042031.32,
                    1376070925.336,
                    1376099819.352,
                    1376128713.368,
                    1376157607.384,
                    1376186501.4,
                    1376215395.416,
                    1376244289.432,
                    1376273183.448,
                    1376302077.464,
                    1376330971.48,
                    1376359865.496,
                    1376388759.512,
                    1376417653.528,
                    1376446547.544,
                    1376475441.56,
                    1376504335.576,
                    1376533229.592,
                    1376562123.608,
                    1376591017.624,
                    1376619911.64,
                    1376648805.656,
                    1376677699.672,
                    1376706593.688,
                    1376735487.704,
                    1376764381.72,
                    1376793275.736,
                    1376822169.752,
                    1376851063.768,
                    1376879957.784,
                    1376908851.8,
                    1376937745.816,
                    1376966639.832,
                    1376995533.848,
                    1377024427.864,
                    1377053321.88,
                    1377082215.896,
                    1377111109.912,
                    1377140003.928,
                    1377168897.944,
                    1377197791.96,
                    1377226685.976,
                    1377255579.992,
                    1377284474.008,
                    1377313368.024,
                    1377342262.04,
                    1377371156.056,
                    1377400050.072,
                    1377428944.088,
                    1377457838.104,
                    1377486732.12,
                    1377515626.136,
                    1377544520.152,
                    1377573414.168,
                    1377602308.184,
                    1377631202.2,
                    1377660096.216,
                    1377688990.232,
                    1377717884.248,
                    1377746778.264,
                    1377775672.28,
                    1377804566.296,
                    1377833460.312,
                    1377862354.328,
                    1377891248.344,
                    1377920142.36,
                    1377949036.376,
                    1377977930.392,
                    1378006824.408,
                    1378035718.424,
                    1378064612.44,
                    1378093506.456,
                    1378122400.472,
                    1378151294.488,
                    1378180188.504,
                    1378209082.52,
                    1378237976.536,
                    1378266870.552,
                    1378295764.568,
                    1378324658.584,
                    1378353552.6,
                    1378382446.616,
                    1378411340.632,
                    1378440234.648,
                    1378469128.664,
                    1378498022.68,
                    1378526916.696,
                    1378555810.712,
                    1378584704.728,
                    1378613598.744,
                    1378642492.76,
                    1378671386.776,
                    1378700280.792,
                    1378729174.808,
                    1378758068.824,
                    1378786962.84,
                    1378815856.856,
                    1378844750.872,
                    1378873644.888,
                    1378902538.904,
                    1378931432.92,
                    1378960326.936,
                    1378989220.952,
                    1379018114.968,
                    1379047008.984,
                    1379075903,
                    1379104797.016,
                    1379133691.032,
                    1379162585.048,
                    1379191479.064,
                    1379220373.08,
                    1379249267.096,
                    1379278161.112,
                    1379307055.128,
                    1379335949.144,
                    1379364843.16,
                    1379393737.176,
                    1379422631.192,
                    1379451525.208,
                    1379480419.224,
                    1379509313.24,
                    1379538207.256,
                    1379567101.272,
                    1379595995.288,
                    1379624889.304,
                    1379653783.32,
                    1379682677.336,
                    1379711571.352,
                    1379740465.368,
                    1379769359.384,
                    1379798253.4,
                    1379827147.416,
                    1379856041.432,
                    1379884935.448,
                    1379913829.464,
                    1379942723.48,
                    1379971617.496,
                    1380000511.512,
                    1380029405.528,
                    1380058299.544,
                    1380087193.56,
                    1380116087.576,
                    1380144981.592,
                    1380173875.608,
                    1380202769.624,
                    1380231663.64,
                    1380260557.656,
                    1380289451.672,
                    1380318345.688,
                    1380347239.704,
                    1380376133.72,
                    1380405027.736,
                    1380433921.752,
                    1380462815.768,
                    1380491709.784,
                    1380520603.8,
                    1380549497.816,
                    1380578391.832,
                    1380607285.848,
                    1380636179.864,
                    1380665073.88,
                    1380693967.896,
                    1380722861.912,
                    1380751755.928,
                    1380780649.944,
                    1380809543.96,
                    1380838437.976,
                    1380867331.992,
                    1380896226.008,
                    1380925120.024,
                    1380954014.04,
                    1380982908.056,
                    1381011802.072,
                    1381040696.088,
                    1381069590.104,
                    1381098484.12,
                    1381127378.136,
                    1381156272.152,
                    1381185166.168,
                    1381214060.184,
                    1381242954.2,
                    1381271848.216,
                    1381300742.232,
                    1381329636.248,
                    1381358530.264,
                    1381387424.28,
                    1381416318.296,
                    1381445212.312,
                    1381474106.328,
                    1381503000.344,
                    1381531894.36,
                    1381560788.376,
                    1381589682.392,
                    1381618576.408,
                    1381647470.424,
                    1381676364.44,
                    1381705258.456,
                    1381734152.472,
                    1381763046.488,
                    1381791940.504,
                    1381820834.52,
                    1381849728.536,
                    1381878622.552,
                    1381907516.568,
                    1381936410.584,
                    1381965304.6,
                    1381994198.616,
                    1382023092.632,
                    1382051986.648,
                    1382080880.664,
                    1382109774.68,
                    1382138668.696,
                    1382167562.712,
                    1382196456.728,
                    1382225350.744,
                    1382254244.76,
                    1382283138.776,
                    1382312032.792,
                    1382340926.808,
                    1382369820.824,
                    1382398714.84,
                    1382427608.856,
                    1382456502.872,
                    1382485396.888,
                    1382514290.904,
                    1382543184.92,
                    1382572078.936,
                    1382600972.952,
                    1382629866.968,
                    1382658760.984,
                    1382687655,
                    1382716549.016,
                    1382745443.032,
                    1382774337.048,
                    1382803231.064,
                    1382832125.08,
                    1382861019.096,
                    1382889913.112,
                    1382918807.128,
                    1382947701.144,
                    1382976595.16,
                    1383005489.176,
                    1383034383.192,
                    1383063277.208,
                    1383092171.224,
                    1383121065.24,
                    1383149959.256,
                    1383178853.272,
                    1383207747.288,
                    1383236641.304,
                    1383265535.32,
                    1383294429.336,
                    1383323323.352,
                    1383352217.368,
                    1383381111.384,
                    1383410005.4,
                    1383438899.416,
                    1383467793.432,
                    1383496687.448,
                    1383525581.464,
                    1383554475.48,
                    1383583369.496,
                    1383612263.512,
                    1383641157.528,
                    1383670051.544,
                    1383698945.56,
                    1383727839.576,
                    1383756733.592,
                    1383785627.608,
                    1383814521.624,
                    1383843415.64,
                    1383872309.656,
                    1383901203.672,
                    1383930097.688,
                    1383958991.704,
                    1383987885.72,
                    1384016779.736,
                    1384045673.752,
                    1384074567.768,
                    1384103461.784,
                    1384132355.8,
                    1384161249.816,
                    1384190143.832,
                    1384219037.848,
                    1384247931.864,
                    1384276825.88,
                    1384305719.896,
                    1384334613.912,
                    1384363507.928,
                    1384392401.944,
                    1384421295.96,
                    1384450189.976,
                    1384479083.992,
                    1384507978.008,
                    1384536872.024,
                    1384565766.04,
                    1384594660.056,
                    1384623554.072,
                    1384652448.088,
                    1384681342.104,
                    1384710236.12,
                    1384739130.136,
                    1384768024.152,
                    1384796918.168,
                    1384825812.184,
                    1384854706.2,
                    1384883600.216,
                    1384912494.232,
                    1384941388.248,
                    1384970282.264,
                    1384999176.28,
                    1385028070.296,
                    1385056964.312,
                    1385085858.328,
                    1385114752.344,
                    1385143646.36,
                    1385172540.376,
                    1385201434.392,
                    1385230328.408,
                    1385259222.424,
                    1385288116.44,
                    1385317010.456,
                    1385345904.472,
                    1385374798.488,
                    1385403692.504,
                    1385432586.52,
                    1385461480.536,
                    1385490374.552,
                    1385519268.568,
                    1385548162.584,
                    1385577056.6,
                    1385605950.616,
                    1385634844.632,
                    1385663738.648,
                    1385692632.664,
                    1385721526.68,
                    1385750420.696,
                    1385779314.712,
                    1385808208.728,
                    1385837102.744,
                    1385865996.76,
                    1385894890.776,
                    1385923784.792,
                    1385952678.808,
                    1385981572.824,
                    1386010466.84,
                    1386039360.856,
                    1386068254.872,
                    1386097148.888,
                    1386126042.904,
                    1386154936.92,
                    1386183830.936,
                    1386212724.952,
                    1386241618.968,
                    1386270512.984
                  ],
                  "xaxis": "x",
                  "y": [
                    3.599832746745103e-8,
                    3.69141794049776e-8,
                    3.782760756521544e-8,
                    3.873755396790971e-8,
                    3.9642967153292124e-8,
                    4.054280577710364e-8,
                    4.143604218490549e-8,
                    4.232166594676008e-8,
                    4.319868733323946e-8,
                    4.4066140714082964e-8,
                    4.4923087861158045e-8,
                    4.576862113788879e-8,
                    4.660186655794889e-8,
                    4.7421986696826234e-8,
                    4.822818344062839e-8,
                    4.901970055771556e-8,
                    4.979582607965392e-8,
                    5.055589447932122e-8,
                    5.129928863526787e-8,
                    5.202544157281943e-8,
                    5.2733837973909574e-8,
                    5.342401544903271e-8,
                    5.409556556645775e-8,
                    5.474813463525499e-8,
                    5.5381424240413395e-8,
                    5.5995191529917157e-8,
                    5.6589249255260355e-8,
                    5.7163465568510766e-8,
                    5.7717763580502524e-8,
                    5.8252120686401457e-8,
                    5.876656766619421e-8,
                    5.926118756912353e-8,
                    5.973611439236214e-8,
                    6.019153156542548e-8,
                    6.062767025292036e-8,
                    6.1044807489236e-8,
                    6.144326415958202e-8,
                    6.182340284261703e-8,
                    6.218562553041472e-8,
                    6.253037124202497e-8,
                    6.285811354719981e-8,
                    6.316935801701929e-8,
                    6.346463961819968e-8,
                    6.374452006770823e-8,
                    6.400958516412762e-8,
                    6.426044211173798e-8,
                    6.449771685281145e-8,
                    6.472205142293957e-8,
                    6.493410134343325e-8,
                    6.513453306398215e-8,
                    6.532402146772013e-8,
                    6.550324744983703e-8,
                    6.567289557966985e-8,
                    6.58336518550123e-8,
                    6.598620155611455e-8,
                    6.613122720553077e-8,
                    6.626940663863829e-8,
                    6.640141118833364e-8,
                    6.652790398603785e-8,
                    6.664953837988153e-8,
                    6.676695646961858e-8,
                    6.688078775661294e-8,
                    6.699164790607658e-8,
                    6.710013761764097e-8,
                    6.720684159935693e-8,
                    6.731232763929858e-8,
                    6.741714576819114e-8,
                    6.75218275057774e-8,
                    6.762688518312028e-8,
                    6.773281133261787e-8,
                    6.784007813724034e-8,
                    6.794913693037056e-8,
                    6.806041773762533e-8,
                    6.817432885221738e-8,
                    6.829125643568429e-8,
                    6.841156413624971e-8,
                    6.853559271764651e-8,
                    6.866365969190234e-8,
                    6.879605895039398e-8,
                    6.893306038837233e-8,
                    6.907490951913394e-8,
                    6.922182707512531e-8,
                    6.937400859433651e-8,
                    6.953162399158051e-8,
                    6.969481711541547e-8,
                    6.986370529272151e-8,
                    7.003837886415978e-8,
                    7.021890071491526e-8,
                    7.040530580633042e-8,
                    7.059760071509895e-8,
                    7.079576318773733e-8,
                    7.099974171899234e-8,
                    7.120945516366053e-8,
                    7.142479239203437e-8,
                    7.164561199971982e-8,
                    7.187174208306185e-8,
                    7.210298009163977e-8,
                    7.233909276942392e-8,
                    7.257981619612716e-8,
                    7.282485594004669e-8,
                    7.30738873332707e-8,
                    7.332655587956143e-8,
                    7.35824778044164e-8,
                    7.384124075593764e-8,
                    7.410240466400119e-8,
                    7.436550276398478e-8,
                    7.46300427899338e-8,
                    7.489550834052188e-8,
                    7.516136041955445e-8,
                    7.542703915100538e-8,
                    7.569196566684132e-8,
                    7.595554416398813e-8,
                    7.6217164124934e-8,
                    7.647620269457088e-8,
                    7.673202720397834e-8,
                    7.698399783003326e-8,
                    7.723147037788234e-8,
                    7.747379917168103e-8,
                    7.771034003731892e-8,
                    7.794045335940288e-8,
                    7.816350719342256e-8,
                    7.837888041282744e-8,
                    7.858596586975867e-8,
                    7.87841735473635e-8,
                    7.897293368099707e-8,
                    7.91516998252851e-8,
                    7.931995184380441e-8,
                    7.947719879824669e-8,
                    7.962298171423177e-8,
                    7.975687620146854e-8,
                    7.987849490675801e-8,
                    7.998748977930272e-8,
                    8.008355412903951e-8,
                    8.01664244601189e-8,
                    8.023588206328263e-8,
                    8.029175435269541e-8,
                    8.03339159347479e-8,
                    8.03622893984532e-8,
                    8.037684581929008e-8,
                    8.037760497065562e-8,
                    8.036463523950897e-8,
                    8.033805324521053e-8,
                    8.029802316304247e-8,
                    8.024475575635929e-8,
                    8.017850712374955e-8,
                    8.009957716997305e-8,
                    8.000830781174349e-8,
                    7.990508093161836e-8,
                    7.979031609533451e-8,
                    7.966446804985477e-8,
                    7.952802402114733e-8,
                    7.938150083229439e-8,
                    7.922544186389945e-8,
                    7.906041387994166e-8,
                    7.888700374314e-8,
                    7.870581504462424e-8,
                    7.851746467317608e-8,
                    7.832257934954564e-8,
                    7.812179215134118e-8,
                    7.791573905377252e-8,
                    7.770505551104198e-8,
                    7.74903731025418e-8,
                    7.727231626705758e-8,
                    7.705149914715095e-8,
                    7.682852256459825e-8,
                    7.660397114631678e-8,
                    7.637841061864689e-8,
                    7.615238528612723e-8,
                    7.592641570910825e-8,
                    7.57009965925993e-8,
                    7.547659489681922e-8,
                    7.525364817788056e-8,
                    7.503256316500843e-8,
                    7.481371457866392e-8,
                    7.459744419192096e-8,
                    7.438406013549396e-8,
                    7.4173836444868e-8,
                    7.396701284618232e-8,
                    7.376379477576086e-8,
                    7.35643536265531e-8,
                    7.336882721323832e-8,
                    7.317732044637214e-8,
                    7.298990620469346e-8,
                    7.280662639365719e-8,
                    7.262749317726096e-8,
                    7.245249036949741e-8,
                    7.228157497109691e-8,
                    7.211467883676018e-8,
                    7.195171045774543e-8,
                    7.179255684448242e-8,
                    7.163708549386384e-8,
                    7.148514642590533e-8,
                    7.133657427471556e-8,
                    7.119119041900584e-8,
                    7.104880513780006e-8,
                    7.090921977750497e-8,
                    7.077222891708649e-8,
                    7.06376225187575e-8,
                    7.050518805225643e-8,
                    7.037471258156368e-8,
                    7.024598480365992e-8,
                    7.011879702971536e-8,
                    6.999294709989448e-8,
                    6.986824022375185e-8,
                    6.974449073896507e-8,
                    6.962152378192006e-8,
                    6.949917686437842e-8,
                    6.937730135116623e-8,
                    6.925576383448239e-8,
                    6.913444740103913e-8,
                    6.901325278883788e-8,
                    6.889209943089975e-8,
                    6.877092638379167e-8,
                    6.864969313920442e-8,
                    6.852838031727634e-8,
                    6.840699024072322e-8,
                    6.828554738916815e-8,
                    6.816409873338177e-8,
                    6.804271394943173e-8,
                    6.792148551300964e-8,
                    6.780052867443735e-8,
                    6.767998131512716e-8,
                    6.75600036864839e-8,
                    6.744077803248648e-8,
                    6.732250809743486e-8,
                    6.720541852058577e-8,
                    6.708975411968075e-8,
                    6.697577906565169e-8,
                    6.686377595106731e-8,
                    6.67540447552245e-8,
                    6.664690170911621e-8,
                    6.65426780638615e-8,
                    6.644171876656669e-8,
                    6.634438104796791e-8,
                    6.625103292663661e-8,
                    6.616205163491853e-8,
                    6.607782197222801e-8,
                    6.599873459175078e-8,
                    6.592518422702396e-8,
                    6.585756786530433e-8,
                    6.579628287503993e-8,
                    6.57417250951639e-8,
                    6.569428689429795e-8,
                    6.565435520829712e-8,
                    6.562230956489034e-8,
                    6.559852010442723e-8,
                    6.558334560597906e-8,
                    6.557713152821702e-8,
                    6.558020807461118e-8,
                    6.559288829256432e-8,
                    6.561546621610102e-8,
                    6.564821506166689e-8,
                    6.569138548649219e-8,
                    6.574520391875683e-8,
                    6.580987096858103e-8,
                    6.588555992851499e-8,
                    6.597241537183852e-8,
                    6.60705518565507e-8,
                    6.618005274240756e-8,
                    6.630096912783385e-8,
                    6.643331891292373e-8,
                    6.657708599409538e-8,
                    6.673221959527995e-8,
                    6.689863373980272e-8,
                    6.707620686634148e-8,
                    6.726478159161225e-8,
                    6.746416462159894e-8,
                    6.767412681236142e-8,
                    6.789440338065783e-8,
                    6.812469426379482e-8,
                    6.836466462735253e-8,
                    6.861394551861557e-8,
                    6.887213466283778e-8,
                    6.913879739868501e-8,
                    6.941346774853899e-8,
                    6.969564961865976e-8,
                    6.998481812359646e-8,
                    7.028042102865631e-8,
                    7.058188030367724e-8,
                    7.088859378093448e-8,
                    7.119993690950081e-8,
                    7.151526459805735e-8,
                    7.183391313779739e-8,
                    7.215520219680378e-8,
                    7.247843687705804e-8,
                    7.280290982508441e-8,
                    7.312790338708352e-8,
                    7.345269179941291e-8,
                    7.377654340519086e-8,
                    7.409872288787843e-8,
                    7.441849351275388e-8,
                    7.473511936732711e-8,
                    7.504786759190478e-8,
                    7.535601059168388e-8,
                    7.565882822204998e-8,
                    7.595560993895838e-8,
                    7.624565690659674e-8,
                    7.652828405485823e-8,
                    7.680282207946144e-8,
                    7.706861937796983e-8,
                    7.732504391525953e-8,
                    7.75714850124793e-8,
                    7.780735505386291e-8,
                    7.803209110621548e-8,
                    7.824515644630836e-8,
                    7.844604199183959e-8,
                    7.863426763204573e-8,
                    7.880938345449767e-8,
                    7.897097086501416e-8,
                    7.911864359809788e-8,
                    7.925204861568693e-8,
                    7.937086689246153e-8,
                    7.947481408635168e-8,
                    7.95636410933093e-8,
                    7.963713448580322e-8,
                    7.969511683489774e-8,
                    7.973744691616399e-8,
                    7.976401980004222e-8,
                    7.977476682764718e-8,
                    7.976965547336739e-8,
                    7.974868909594995e-8,
                    7.971190658010634e-8,
                    7.965938187099116e-8,
                    7.959122340423014e-8,
                    7.95075734344607e-8,
                    7.94086072656543e-8,
                    7.929453238675656e-8,
                    7.916558751645145e-8,
                    7.902204156111117e-8,
                    7.886419249022714e-8,
                    7.869236613386411e-8,
                    7.85069149068671e-8,
                    7.830821646478341e-8,
                    7.809667229663315e-8,
                    7.787270625984437e-8,
                    7.763676306283801e-8,
                    7.73893067008744e-8,
                    7.71308188509553e-8,
                    7.686179723162846e-8,
                    7.658275393370736e-8,
                    7.62942137279751e-8,
                    7.599671235601925e-8,
                    7.569079481041179e-8,
                    7.537701361045583e-8,
                    7.505592707979948e-8,
                    7.472809763213427e-8,
                    7.439409007125346e-8,
                    7.405446991165978e-8,
                    7.370980172586398e-8,
                    7.336064752443267e-8,
                    7.300756517473395e-8,
                    7.265110686418381e-8,
                    7.229181761369088e-8,
                    7.193023384673104e-8,
                    7.156688201935962e-8,
                    7.120227731618839e-8,
                    7.083692241710885e-8,
                    7.04713063392577e-8,
                    7.010590335839541e-8,
                    6.974117201357608e-8,
                    6.937755419853845e-8,
                    6.901547434294584e-8,
                    6.865533868613878e-8,
                    6.82975346456395e-8,
                    6.794243028219407e-8,
                    6.759037386264001e-8,
                    6.724169352144343e-8,
                    6.689669702114952e-8,
                    6.655567161155185e-8,
                    6.621888398679327e-8,
                    6.588658033908964e-8,
                    6.555898650720688e-8,
                    6.523630821727835e-8,
                    6.49187314129786e-8,
                    6.460642267157796e-8,
                    6.429952970177973e-8,
                    6.399818191880521e-8,
                    6.370249109163912e-8,
                    6.341255205687379e-8,
                    6.312844349313673e-8,
                    6.285022874964597e-8,
                    6.257795672207185e-8,
                    6.231166276847208e-8,
                    6.205136965780276e-8,
                    6.179708854320389e-8,
                    6.154881995204474e-8,
                    6.130655478453415e-8,
                    6.107027531258637e-8,
                    6.08399561705566e-8,
                    6.061556532948974e-8,
                    6.039706504652236e-8,
                    6.018441278125269e-8,
                    5.997756207104046e-8,
                    5.977646335744629e-8,
                    5.958106475633154e-8,
                    5.93913127644943e-8,
                    5.920715289617347e-8,
                    5.9028530243197745e-8,
                    5.8855389953144234e-8,
                    5.8687677620450425e-8,
                    5.852533958607923e-8,
                    5.836832314204158e-8,
                    5.821657663781583e-8,
                    5.807004948651006e-8,
                    5.792869206939304e-8,
                    5.779245553830423e-8,
                    5.766129151629799e-8,
                    5.7535151697770234e-8,
                    5.741398735020863e-8,
                    5.7297748720605425e-8,
                    5.7186384350458846e-8,
                    5.7079840304187406e-8,
                    5.697805931661381e-8,
                    5.688097986604096e-8,
                    5.6788535180226185e-8,
                    5.6700652183326525e-8,
                    5.661725039260111e-8,
                    5.653824077431125e-8,
                    5.646352456886471e-8,
                    5.639299209576362e-8,
                    5.6326521549387106e-8,
                    5.626397779700655e-8,
                    5.620521119072665e-8,
                    5.6150056405253306e-8,
                    5.6098331313497376e-8,
                    5.604983591205324e-8,
                    5.600435130850269e-8,
                    5.5961638782332255e-8,
                    5.592143893097439e-8,
                    5.588347091211595e-8,
                    5.584743179295279e-8,
                    5.58129960165079e-8,
                    5.5779814994480566e-8,
                    5.574751683535686e-8,
                    5.57157062156837e-8,
                    5.5683964401514197e-8,
                    5.565184942605707e-8,
                    5.561889642852365e-8,
                    5.558461815807318e-8,
                    5.554850564560653e-8,
                    5.551002904497789e-8,
                    5.546863864396598e-8,
                    5.542376604410955e-8,
                    5.5374825507252025e-8,
                    5.532121546538139e-8,
                    5.52623201890959e-8,
                    5.519751160878834e-8,
                    5.512615128143715e-8,
                    5.5047592494704676e-8,
                    5.4961182498927417e-8,
                    5.486626485650314e-8,
                    5.476218189717071e-8,
                    5.4648277266743877e-8,
                    5.452389855600479e-8,
                    5.438839999568893e-8,
                    5.424114520283777e-8,
                    5.408150996319524e-8,
                    5.390888503387986e-8,
                    5.37226789501982e-8,
                    5.3522320820217403e-8,
                    5.3307263090589886e-8,
                    5.3076984267098255e-8,
                    5.2830991573524743e-8,
                    5.256882353261406e-8,
                    5.2290052453291406e-8,
                    5.1994286808709644e-8,
                    5.1681173490270164e-8,
                    5.135039992342661e-8,
                    5.100169603182531e-8,
                    5.063483603724728e-8,
                    5.024964008367776e-8,
                    4.9845975674942227e-8,
                    4.942375891639679e-8,
                    4.8982955552345015e-8,
                    4.8523581792073016e-8,
                    4.80457049186671e-8,
                    4.7549443676061163e-8,
                    4.7034968431169125e-8,
                    4.65025011091908e-8,
                    4.5952314901660505e-8,
                    4.538473374809697e-8,
                    4.480013159348579e-8,
                    4.419893142515473e-8,
                    4.3581604093869904e-8,
                    4.2948666925329995e-8,
                    4.2300682129297773e-8,
                    4.163825501491164e-8,
                    4.096203202172345e-8,
                    4.027269857705917e-8,
                    3.957097679124491e-8,
                    3.885762300306635e-8,
                    3.813342518870857e-8,
                    3.739920024793123e-8,
                    3.6655791181992206e-8,
                    3.5904064178215946e-8,
                    3.514490561652506e-8,
                    3.437921901352997e-8,
                    3.360792191996082e-8,
                    3.2831942787264913e-8,
                    3.2052217819285896e-8
                  ],
                  "yaxis": "y",
                  "type": "scatter"
                }
              ],
              "layout": {
                "barmode": "overlay",
                "hovermode": "closest",
                "legend": {
                  "traceorder": "reversed"
                },
                "template": {
                  "data": {
                    "barpolar": [
                      {
                        "marker": {
                          "line": {
                            "color": "#E5ECF6",
                            "width": 0.5
                          },
                          "pattern": {
                            "fillmode": "overlay",
                            "size": 10,
                            "solidity": 0.2
                          }
                        },
                        "type": "barpolar"
                      }
                    ],
                    "bar": [
                      {
                        "error_x": {
                          "color": "#2a3f5f"
                        },
                        "error_y": {
                          "color": "#2a3f5f"
                        },
                        "marker": {
                          "line": {
                            "color": "#E5ECF6",
                            "width": 0.5
                          },
                          "pattern": {
                            "fillmode": "overlay",
                            "size": 10,
                            "solidity": 0.2
                          }
                        },
                        "type": "bar"
                      }
                    ],
                    "carpet": [
                      {
                        "aaxis": {
                          "endlinecolor": "#2a3f5f",
                          "gridcolor": "white",
                          "linecolor": "white",
                          "minorgridcolor": "white",
                          "startlinecolor": "#2a3f5f"
                        },
                        "baxis": {
                          "endlinecolor": "#2a3f5f",
                          "gridcolor": "white",
                          "linecolor": "white",
                          "minorgridcolor": "white",
                          "startlinecolor": "#2a3f5f"
                        },
                        "type": "carpet"
                      }
                    ],
                    "choropleth": [
                      {
                        "colorbar": {
                          "outlinewidth": 0,
                          "ticks": ""
                        },
                        "type": "choropleth"
                      }
                    ],
                    "contourcarpet": [
                      {
                        "colorbar": {
                          "outlinewidth": 0,
                          "ticks": ""
                        },
                        "type": "contourcarpet"
                      }
                    ],
                    "contour": [
                      {
                        "colorbar": {
                          "outlinewidth": 0,
                          "ticks": ""
                        },
                        "colorscale": [
                          [
                            0,
                            "#0d0887"
                          ],
                          [
                            0.1111111111111111,
                            "#46039f"
                          ],
                          [
                            0.2222222222222222,
                            "#7201a8"
                          ],
                          [
                            0.3333333333333333,
                            "#9c179e"
                          ],
                          [
                            0.4444444444444444,
                            "#bd3786"
                          ],
                          [
                            0.5555555555555556,
                            "#d8576b"
                          ],
                          [
                            0.6666666666666666,
                            "#ed7953"
                          ],
                          [
                            0.7777777777777778,
                            "#fb9f3a"
                          ],
                          [
                            0.8888888888888888,
                            "#fdca26"
                          ],
                          [
                            1,
                            "#f0f921"
                          ]
                        ],
                        "type": "contour"
                      }
                    ],
                    "heatmapgl": [
                      {
                        "colorbar": {
                          "outlinewidth": 0,
                          "ticks": ""
                        },
                        "colorscale": [
                          [
                            0,
                            "#0d0887"
                          ],
                          [
                            0.1111111111111111,
                            "#46039f"
                          ],
                          [
                            0.2222222222222222,
                            "#7201a8"
                          ],
                          [
                            0.3333333333333333,
                            "#9c179e"
                          ],
                          [
                            0.4444444444444444,
                            "#bd3786"
                          ],
                          [
                            0.5555555555555556,
                            "#d8576b"
                          ],
                          [
                            0.6666666666666666,
                            "#ed7953"
                          ],
                          [
                            0.7777777777777778,
                            "#fb9f3a"
                          ],
                          [
                            0.8888888888888888,
                            "#fdca26"
                          ],
                          [
                            1,
                            "#f0f921"
                          ]
                        ],
                        "type": "heatmapgl"
                      }
                    ],
                    "heatmap": [
                      {
                        "colorbar": {
                          "outlinewidth": 0,
                          "ticks": ""
                        },
                        "colorscale": [
                          [
                            0,
                            "#0d0887"
                          ],
                          [
                            0.1111111111111111,
                            "#46039f"
                          ],
                          [
                            0.2222222222222222,
                            "#7201a8"
                          ],
                          [
                            0.3333333333333333,
                            "#9c179e"
                          ],
                          [
                            0.4444444444444444,
                            "#bd3786"
                          ],
                          [
                            0.5555555555555556,
                            "#d8576b"
                          ],
                          [
                            0.6666666666666666,
                            "#ed7953"
                          ],
                          [
                            0.7777777777777778,
                            "#fb9f3a"
                          ],
                          [
                            0.8888888888888888,
                            "#fdca26"
                          ],
                          [
                            1,
                            "#f0f921"
                          ]
                        ],
                        "type": "heatmap"
                      }
                    ],
                    "histogram2dcontour": [
                      {
                        "colorbar": {
                          "outlinewidth": 0,
                          "ticks": ""
                        },
                        "colorscale": [
                          [
                            0,
                            "#0d0887"
                          ],
                          [
                            0.1111111111111111,
                            "#46039f"
                          ],
                          [
                            0.2222222222222222,
                            "#7201a8"
                          ],
                          [
                            0.3333333333333333,
                            "#9c179e"
                          ],
                          [
                            0.4444444444444444,
                            "#bd3786"
                          ],
                          [
                            0.5555555555555556,
                            "#d8576b"
                          ],
                          [
                            0.6666666666666666,
                            "#ed7953"
                          ],
                          [
                            0.7777777777777778,
                            "#fb9f3a"
                          ],
                          [
                            0.8888888888888888,
                            "#fdca26"
                          ],
                          [
                            1,
                            "#f0f921"
                          ]
                        ],
                        "type": "histogram2dcontour"
                      }
                    ],
                    "histogram2d": [
                      {
                        "colorbar": {
                          "outlinewidth": 0,
                          "ticks": ""
                        },
                        "colorscale": [
                          [
                            0,
                            "#0d0887"
                          ],
                          [
                            0.1111111111111111,
                            "#46039f"
                          ],
                          [
                            0.2222222222222222,
                            "#7201a8"
                          ],
                          [
                            0.3333333333333333,
                            "#9c179e"
                          ],
                          [
                            0.4444444444444444,
                            "#bd3786"
                          ],
                          [
                            0.5555555555555556,
                            "#d8576b"
                          ],
                          [
                            0.6666666666666666,
                            "#ed7953"
                          ],
                          [
                            0.7777777777777778,
                            "#fb9f3a"
                          ],
                          [
                            0.8888888888888888,
                            "#fdca26"
                          ],
                          [
                            1,
                            "#f0f921"
                          ]
                        ],
                        "type": "histogram2d"
                      }
                    ],
                    "histogram": [
                      {
                        "marker": {
                          "pattern": {
                            "fillmode": "overlay",
                            "size": 10,
                            "solidity": 0.2
                          }
                        },
                        "type": "histogram"
                      }
                    ],
                    "mesh3d": [
                      {
                        "colorbar": {
                          "outlinewidth": 0,
                          "ticks": ""
                        },
                        "type": "mesh3d"
                      }
                    ],
                    "parcoords": [
                      {
                        "line": {
                          "colorbar": {
                            "outlinewidth": 0,
                            "ticks": ""
                          }
                        },
                        "type": "parcoords"
                      }
                    ],
                    "pie": [
                      {
                        "automargin": true,
                        "type": "pie"
                      }
                    ],
                    "scatter3d": [
                      {
                        "line": {
                          "colorbar": {
                            "outlinewidth": 0,
                            "ticks": ""
                          }
                        },
                        "marker": {
                          "colorbar": {
                            "outlinewidth": 0,
                            "ticks": ""
                          }
                        },
                        "type": "scatter3d"
                      }
                    ],
                    "scattercarpet": [
                      {
                        "marker": {
                          "colorbar": {
                            "outlinewidth": 0,
                            "ticks": ""
                          }
                        },
                        "type": "scattercarpet"
                      }
                    ],
                    "scattergeo": [
                      {
                        "marker": {
                          "colorbar": {
                            "outlinewidth": 0,
                            "ticks": ""
                          }
                        },
                        "type": "scattergeo"
                      }
                    ],
                    "scattergl": [
                      {
                        "marker": {
                          "colorbar": {
                            "outlinewidth": 0,
                            "ticks": ""
                          }
                        },
                        "type": "scattergl"
                      }
                    ],
                    "scattermapbox": [
                      {
                        "marker": {
                          "colorbar": {
                            "outlinewidth": 0,
                            "ticks": ""
                          }
                        },
                        "type": "scattermapbox"
                      }
                    ],
                    "scatterpolargl": [
                      {
                        "marker": {
                          "colorbar": {
                            "outlinewidth": 0,
                            "ticks": ""
                          }
                        },
                        "type": "scatterpolargl"
                      }
                    ],
                    "scatterpolar": [
                      {
                        "marker": {
                          "colorbar": {
                            "outlinewidth": 0,
                            "ticks": ""
                          }
                        },
                        "type": "scatterpolar"
                      }
                    ],
                    "scatter": [
                      {
                        "marker": {
                          "colorbar": {
                            "outlinewidth": 0,
                            "ticks": ""
                          }
                        },
                        "type": "scatter"
                      }
                    ],
                    "scatterternary": [
                      {
                        "marker": {
                          "colorbar": {
                            "outlinewidth": 0,
                            "ticks": ""
                          }
                        },
                        "type": "scatterternary"
                      }
                    ],
                    "surface": [
                      {
                        "colorbar": {
                          "outlinewidth": 0,
                          "ticks": ""
                        },
                        "colorscale": [
                          [
                            0,
                            "#0d0887"
                          ],
                          [
                            0.1111111111111111,
                            "#46039f"
                          ],
                          [
                            0.2222222222222222,
                            "#7201a8"
                          ],
                          [
                            0.3333333333333333,
                            "#9c179e"
                          ],
                          [
                            0.4444444444444444,
                            "#bd3786"
                          ],
                          [
                            0.5555555555555556,
                            "#d8576b"
                          ],
                          [
                            0.6666666666666666,
                            "#ed7953"
                          ],
                          [
                            0.7777777777777778,
                            "#fb9f3a"
                          ],
                          [
                            0.8888888888888888,
                            "#fdca26"
                          ],
                          [
                            1,
                            "#f0f921"
                          ]
                        ],
                        "type": "surface"
                      }
                    ],
                    "table": [
                      {
                        "cells": {
                          "fill": {
                            "color": "#EBF0F8"
                          },
                          "line": {
                            "color": "white"
                          }
                        },
                        "header": {
                          "fill": {
                            "color": "#C8D4E3"
                          },
                          "line": {
                            "color": "white"
                          }
                        },
                        "type": "table"
                      }
                    ]
                  },
                  "layout": {
                    "annotationdefaults": {
                      "arrowcolor": "#2a3f5f",
                      "arrowhead": 0,
                      "arrowwidth": 1
                    },
                    "autotypenumbers": "strict",
                    "coloraxis": {
                      "colorbar": {
                        "outlinewidth": 0,
                        "ticks": ""
                      }
                    },
                    "colorscale": {
                      "diverging": [
                        [
                          0,
                          "#8e0152"
                        ],
                        [
                          0.1,
                          "#c51b7d"
                        ],
                        [
                          0.2,
                          "#de77ae"
                        ],
                        [
                          0.3,
                          "#f1b6da"
                        ],
                        [
                          0.4,
                          "#fde0ef"
                        ],
                        [
                          0.5,
                          "#f7f7f7"
                        ],
                        [
                          0.6,
                          "#e6f5d0"
                        ],
                        [
                          0.7,
                          "#b8e186"
                        ],
                        [
                          0.8,
                          "#7fbc41"
                        ],
                        [
                          0.9,
                          "#4d9221"
                        ],
                        [
                          1,
                          "#276419"
                        ]
                      ],
                      "sequential": [
                        [
                          0,
                          "#0d0887"
                        ],
                        [
                          0.1111111111111111,
                          "#46039f"
                        ],
                        [
                          0.2222222222222222,
                          "#7201a8"
                        ],
                        [
                          0.3333333333333333,
                          "#9c179e"
                        ],
                        [
                          0.4444444444444444,
                          "#bd3786"
                        ],
                        [
                          0.5555555555555556,
                          "#d8576b"
                        ],
                        [
                          0.6666666666666666,
                          "#ed7953"
                        ],
                        [
                          0.7777777777777778,
                          "#fb9f3a"
                        ],
                        [
                          0.8888888888888888,
                          "#fdca26"
                        ],
                        [
                          1,
                          "#f0f921"
                        ]
                      ],
                      "sequentialminus": [
                        [
                          0,
                          "#0d0887"
                        ],
                        [
                          0.1111111111111111,
                          "#46039f"
                        ],
                        [
                          0.2222222222222222,
                          "#7201a8"
                        ],
                        [
                          0.3333333333333333,
                          "#9c179e"
                        ],
                        [
                          0.4444444444444444,
                          "#bd3786"
                        ],
                        [
                          0.5555555555555556,
                          "#d8576b"
                        ],
                        [
                          0.6666666666666666,
                          "#ed7953"
                        ],
                        [
                          0.7777777777777778,
                          "#fb9f3a"
                        ],
                        [
                          0.8888888888888888,
                          "#fdca26"
                        ],
                        [
                          1,
                          "#f0f921"
                        ]
                      ]
                    },
                    "colorway": [
                      "#636efa",
                      "#EF553B",
                      "#00cc96",
                      "#ab63fa",
                      "#FFA15A",
                      "#19d3f3",
                      "#FF6692",
                      "#B6E880",
                      "#FF97FF",
                      "#FECB52"
                    ],
                    "font": {
                      "color": "#2a3f5f"
                    },
                    "geo": {
                      "bgcolor": "white",
                      "lakecolor": "white",
                      "landcolor": "#E5ECF6",
                      "showlakes": true,
                      "showland": true,
                      "subunitcolor": "white"
                    },
                    "hoverlabel": {
                      "align": "left"
                    },
                    "hovermode": "closest",
                    "mapbox": {
                      "style": "light"
                    },
                    "paper_bgcolor": "white",
                    "plot_bgcolor": "#E5ECF6",
                    "polar": {
                      "angularaxis": {
                        "gridcolor": "white",
                        "linecolor": "white",
                        "ticks": ""
                      },
                      "bgcolor": "#E5ECF6",
                      "radialaxis": {
                        "gridcolor": "white",
                        "linecolor": "white",
                        "ticks": ""
                      }
                    },
                    "scene": {
                      "xaxis": {
                        "backgroundcolor": "#E5ECF6",
                        "gridcolor": "white",
                        "gridwidth": 2,
                        "linecolor": "white",
                        "showbackground": true,
                        "ticks": "",
                        "zerolinecolor": "white"
                      },
                      "yaxis": {
                        "backgroundcolor": "#E5ECF6",
                        "gridcolor": "white",
                        "gridwidth": 2,
                        "linecolor": "white",
                        "showbackground": true,
                        "ticks": "",
                        "zerolinecolor": "white"
                      },
                      "zaxis": {
                        "backgroundcolor": "#E5ECF6",
                        "gridcolor": "white",
                        "gridwidth": 2,
                        "linecolor": "white",
                        "showbackground": true,
                        "ticks": "",
                        "zerolinecolor": "white"
                      }
                    },
                    "shapedefaults": {
                      "line": {
                        "color": "#2a3f5f"
                      }
                    },
                    "ternary": {
                      "aaxis": {
                        "gridcolor": "white",
                        "linecolor": "white",
                        "ticks": ""
                      },
                      "baxis": {
                        "gridcolor": "white",
                        "linecolor": "white",
                        "ticks": ""
                      },
                      "bgcolor": "#E5ECF6",
                      "caxis": {
                        "gridcolor": "white",
                        "linecolor": "white",
                        "ticks": ""
                      }
                    },
                    "title": {
                      "x": 0.05
                    },
                    "xaxis": {
                      "automargin": true,
                      "gridcolor": "white",
                      "linecolor": "white",
                      "ticks": "",
                      "title": {
                        "standoff": 15
                      },
                      "zerolinecolor": "white",
                      "zerolinewidth": 2
                    },
                    "yaxis": {
                      "automargin": true,
                      "gridcolor": "white",
                      "linecolor": "white",
                      "ticks": "",
                      "title": {
                        "standoff": 15
                      },
                      "zerolinecolor": "white",
                      "zerolinewidth": 2
                    }
                  }
                },
                "title": {
                  "text": "Credit Card Transactions Time Density Plot"
                },
                "xaxis": {
                  "anchor": "y2",
                  "domain": [
                    0,
                    1
                  ],
                  "title": {
                    "text": "Time [s]"
                  },
                  "zeroline": false
                },
                "yaxis": {
                  "anchor": "free",
                  "domain": [
                    0,
                    1
                  ],
                  "position": 0
                }
              },
              "config": {
                "showLink": false,
                "linkText": "Export to plot.ly",
                "plotlyServerURL": "https://plot.ly"
              }
            },
            "text/html": [
              "<div>                            <div id=\"9a6e1a16-d255-4ea7-9b0c-8efaa6a122e5\" class=\"plotly-graph-div\" style=\"height:525px; width:100%;\"></div>            <script type=\"text/javascript\">                require([\"plotly\"], function(Plotly) {                    window.PLOTLYENV=window.PLOTLYENV || {};                                    if (document.getElementById(\"9a6e1a16-d255-4ea7-9b0c-8efaa6a122e5\")) {                    Plotly.newPlot(                        \"9a6e1a16-d255-4ea7-9b0c-8efaa6a122e5\",                        [{\"legendgroup\":\"Not Fraud\",\"marker\":{\"color\":\"rgb(31, 119, 180)\"},\"mode\":\"lines\",\"name\":\"Not Fraud\",\"showlegend\":true,\"x\":[1371816865.0,1371845885.512,1371874906.024,1371903926.536,1371932947.048,1371961967.56,1371990988.072,1372020008.584,1372049029.096,1372078049.608,1372107070.12,1372136090.632,1372165111.144,1372194131.656,1372223152.168,1372252172.68,1372281193.192,1372310213.704,1372339234.216,1372368254.728,1372397275.24,1372426295.752,1372455316.264,1372484336.776,1372513357.288,1372542377.8,1372571398.312,1372600418.824,1372629439.336,1372658459.848,1372687480.36,1372716500.872,1372745521.384,1372774541.896,1372803562.408,1372832582.92,1372861603.432,1372890623.944,1372919644.456,1372948664.968,1372977685.48,1373006705.992,1373035726.504,1373064747.016,1373093767.528,1373122788.04,1373151808.552,1373180829.064,1373209849.576,1373238870.088,1373267890.6,1373296911.112,1373325931.624,1373354952.136,1373383972.648,1373412993.16,1373442013.672,1373471034.184,1373500054.696,1373529075.208,1373558095.72,1373587116.232,1373616136.744,1373645157.256,1373674177.768,1373703198.28,1373732218.792,1373761239.304,1373790259.816,1373819280.328,1373848300.84,1373877321.352,1373906341.864,1373935362.376,1373964382.888,1373993403.4,1374022423.912,1374051444.424,1374080464.936,1374109485.448,1374138505.96,1374167526.472,1374196546.984,1374225567.496,1374254588.008,1374283608.52,1374312629.032,1374341649.544,1374370670.056,1374399690.568,1374428711.08,1374457731.592,1374486752.104,1374515772.616,1374544793.128,1374573813.64,1374602834.152,1374631854.664,1374660875.176,1374689895.688,1374718916.2,1374747936.712,1374776957.224,1374805977.736,1374834998.248,1374864018.76,1374893039.272,1374922059.784,1374951080.296,1374980100.808,1375009121.32,1375038141.832,1375067162.344,1375096182.856,1375125203.368,1375154223.88,1375183244.392,1375212264.904,1375241285.416,1375270305.928,1375299326.44,1375328346.952,1375357367.464,1375386387.976,1375415408.488,1375444429.0,1375473449.512,1375502470.024,1375531490.536,1375560511.048,1375589531.56,1375618552.072,1375647572.584,1375676593.096,1375705613.608,1375734634.12,1375763654.632,1375792675.144,1375821695.656,1375850716.168,1375879736.68,1375908757.192,1375937777.704,1375966798.216,1375995818.728,1376024839.24,1376053859.752,1376082880.264,1376111900.776,1376140921.288,1376169941.8,1376198962.312,1376227982.824,1376257003.336,1376286023.848,1376315044.36,1376344064.872,1376373085.384,1376402105.896,1376431126.408,1376460146.92,1376489167.432,1376518187.944,1376547208.456,1376576228.968,1376605249.48,1376634269.992,1376663290.504,1376692311.016,1376721331.528,1376750352.04,1376779372.552,1376808393.064,1376837413.576,1376866434.088,1376895454.6,1376924475.112,1376953495.624,1376982516.136,1377011536.648,1377040557.16,1377069577.672,1377098598.184,1377127618.696,1377156639.208,1377185659.72,1377214680.232,1377243700.744,1377272721.256,1377301741.768,1377330762.28,1377359782.792,1377388803.304,1377417823.816,1377446844.328,1377475864.84,1377504885.352,1377533905.864,1377562926.376,1377591946.888,1377620967.4,1377649987.912,1377679008.424,1377708028.936,1377737049.448,1377766069.96,1377795090.472,1377824110.984,1377853131.496,1377882152.008,1377911172.52,1377940193.032,1377969213.544,1377998234.056,1378027254.568,1378056275.08,1378085295.592,1378114316.104,1378143336.616,1378172357.128,1378201377.64,1378230398.152,1378259418.664,1378288439.176,1378317459.688,1378346480.2,1378375500.712,1378404521.224,1378433541.736,1378462562.248,1378491582.76,1378520603.272,1378549623.784,1378578644.296,1378607664.808,1378636685.32,1378665705.832,1378694726.344,1378723746.856,1378752767.368,1378781787.88,1378810808.392,1378839828.904,1378868849.416,1378897869.928,1378926890.44,1378955910.952,1378984931.464,1379013951.976,1379042972.488,1379071993.0,1379101013.512,1379130034.024,1379159054.536,1379188075.048,1379217095.56,1379246116.072,1379275136.584,1379304157.096,1379333177.608,1379362198.12,1379391218.632,1379420239.144,1379449259.656,1379478280.168,1379507300.68,1379536321.192,1379565341.704,1379594362.216,1379623382.728,1379652403.24,1379681423.752,1379710444.264,1379739464.776,1379768485.288,1379797505.8,1379826526.312,1379855546.824,1379884567.336,1379913587.848,1379942608.36,1379971628.872,1380000649.384,1380029669.896,1380058690.408,1380087710.92,1380116731.432,1380145751.944,1380174772.456,1380203792.968,1380232813.48,1380261833.992,1380290854.504,1380319875.016,1380348895.528,1380377916.04,1380406936.552,1380435957.064,1380464977.576,1380493998.088,1380523018.6,1380552039.112,1380581059.624,1380610080.136,1380639100.648,1380668121.16,1380697141.672,1380726162.184,1380755182.696,1380784203.208,1380813223.72,1380842244.232,1380871264.744,1380900285.256,1380929305.768,1380958326.28,1380987346.792,1381016367.304,1381045387.816,1381074408.328,1381103428.84,1381132449.352,1381161469.864,1381190490.376,1381219510.888,1381248531.4,1381277551.912,1381306572.424,1381335592.936,1381364613.448,1381393633.96,1381422654.472,1381451674.984,1381480695.496,1381509716.008,1381538736.52,1381567757.032,1381596777.544,1381625798.056,1381654818.568,1381683839.08,1381712859.592,1381741880.104,1381770900.616,1381799921.128,1381828941.64,1381857962.152,1381886982.664,1381916003.176,1381945023.688,1381974044.2,1382003064.712,1382032085.224,1382061105.736,1382090126.248,1382119146.76,1382148167.272,1382177187.784,1382206208.296,1382235228.808,1382264249.32,1382293269.832,1382322290.344,1382351310.856,1382380331.368,1382409351.88,1382438372.392,1382467392.904,1382496413.416,1382525433.928,1382554454.44,1382583474.952,1382612495.464,1382641515.976,1382670536.488,1382699557.0,1382728577.512,1382757598.024,1382786618.536,1382815639.048,1382844659.56,1382873680.072,1382902700.584,1382931721.096,1382960741.608,1382989762.12,1383018782.632,1383047803.144,1383076823.656,1383105844.168,1383134864.68,1383163885.192,1383192905.704,1383221926.216,1383250946.728,1383279967.24,1383308987.752,1383338008.264,1383367028.776,1383396049.288,1383425069.8,1383454090.312,1383483110.824,1383512131.336,1383541151.848,1383570172.36,1383599192.872,1383628213.384,1383657233.896,1383686254.408,1383715274.92,1383744295.432,1383773315.944,1383802336.456,1383831356.968,1383860377.48,1383889397.992,1383918418.504,1383947439.016,1383976459.528,1384005480.04,1384034500.552,1384063521.064,1384092541.576,1384121562.088,1384150582.6,1384179603.112,1384208623.624,1384237644.136,1384266664.648,1384295685.16,1384324705.672,1384353726.184,1384382746.696,1384411767.208,1384440787.72,1384469808.232,1384498828.744,1384527849.256,1384556869.768,1384585890.28,1384614910.792,1384643931.304,1384672951.816,1384701972.328,1384730992.84,1384760013.352,1384789033.864,1384818054.376,1384847074.888,1384876095.4,1384905115.912,1384934136.424,1384963156.936,1384992177.448,1385021197.96,1385050218.472,1385079238.984,1385108259.496,1385137280.008,1385166300.52,1385195321.032,1385224341.544,1385253362.056,1385282382.568,1385311403.08,1385340423.592,1385369444.104,1385398464.616,1385427485.128,1385456505.64,1385485526.152,1385514546.664,1385543567.176,1385572587.688,1385601608.2,1385630628.712,1385659649.224,1385688669.736,1385717690.248,1385746710.76,1385775731.272,1385804751.784,1385833772.296,1385862792.808,1385891813.32,1385920833.832,1385949854.344,1385978874.856,1386007895.368,1386036915.88,1386065936.392,1386094956.904,1386123977.416,1386152997.928,1386182018.44,1386211038.952,1386240059.464,1386269079.976,1386298100.488],\"xaxis\":\"x\",\"y\":[4.139545477367381e-08,4.4021613421876354e-08,4.658895032237445e-08,4.907940447804199e-08,5.147709854952979e-08,5.376862213243107e-08,5.594319800942747e-08,5.799272948248945e-08,5.991173466868128e-08,6.169718084070878e-08,6.334823792608973e-08,6.486597465681381e-08,6.625302323737039e-08,6.751323860657487e-08,6.86513764289292e-08,6.967281008353118e-08,7.058330151142772e-08,7.138883435992588e-08,7.209551103748872e-08,7.270950870405627e-08,7.323708347743255e-08,7.368460775448878e-08,7.405862290926821e-08,7.436588894668221e-08,7.461341398115925e-08,7.480844950447757e-08,7.495844196448354e-08,7.507093671902216e-08,7.515343638983814e-08,7.521322141661652e-08,7.525714562274637e-08,7.529142335109534e-08,7.53214268332992e-08,7.535151270406191e-08,7.538489492617862e-08,7.542357799655622e-08,7.54683594711809e-08,7.551890502658857e-08,7.557389300962315e-08,7.563121930328892e-08,7.568824792787224e-08,7.574208861282331e-08,7.578988001238755e-08,7.582905654454053e-08,7.585757808383812e-08,7.587410483230174e-08,7.587810435685452e-08,7.586988360234142e-08,7.585054514535657e-08,7.582187346760285e-08,7.578616301495537e-08,7.57460047337694e-08,7.57040512006711e-08,7.566278208199387e-08,7.56242913340351e-08,7.559011532150987e-08,7.556111709401817e-08,7.5537436780662e-08,7.551851191943956e-08,7.550316508751746e-08,7.548975002287053e-08,7.547634208386659e-08,7.546095486037167e-08,7.544176238940268e-08,7.54173059493856e-08,7.538666584916876e-08,7.53495818575018e-08,7.530651064102494e-08,7.52586143646039e-08,7.520768093282346e-08,7.515598264224147e-08,7.51060857008842e-08,7.506062763876176e-08,7.502208266657204e-08,7.499253626228702e-08,7.497348956359508e-08,7.49657115784945e-08,7.4969153024057e-08,7.498293014082786e-08,7.500538059723386e-08,7.503418715447015e-08,7.506655868762199e-08,7.509945300070061e-08,7.512982209675098e-08,7.515485851200298e-08,7.51722211817203e-08,7.518022109028357e-08,7.517795051187913e-08,7.516534465280136e-08,7.514317051454237e-08,7.511294426909011e-08,7.507678479366418e-08,7.503721668016215e-08,7.499694050562115e-08,7.49585910222852e-08,7.492450494078957e-08,7.489651904678351e-08,7.487581659456602e-08,7.48628355126528e-08,7.485724633416565e-08,7.485800143595714e-08,7.486345070584646e-08,7.487151274072821e-08,7.487988565277456e-08,7.488627798057882e-08,7.488863839052651e-08,7.488536297527685e-08,7.487546100014517e-08,7.485866373022555e-08,7.483546614994453e-08,7.480709749332931e-08,7.477542298584746e-08,7.47427854693844e-08,7.47118010721687e-08,7.468512729716665e-08,7.466522445208314e-08,7.465413199858441e-08,7.465328009669385e-08,7.466335347806763e-08,7.46842200817629e-08,7.471493105316498e-08,7.475379226821306e-08,7.479850108424877e-08,7.484633612172464e-08,7.489438308284434e-08,7.493977634983865e-08,7.497993467493254e-08,7.50127698070341e-08,7.503684935046649e-08,7.505149929839408e-08,7.505683715374701e-08,7.505373284874029e-08,7.50437012314009e-08,7.502873611031684e-08,7.501110117314482e-08,7.499309703913295e-08,7.497682591172992e-08,7.496397556416763e-08,7.495564269231822e-08,7.49522121561777e-08,7.495330361832527e-08,7.495779102460752e-08,7.496389380220244e-08,7.496933216306214e-08,7.49715330776737e-08,7.49678688474633e-08,7.495590716924952e-08,7.493365042418437e-08,7.489974274120832e-08,7.485362610888571e-08,7.479563119821983e-08,7.472699422255228e-08,7.464979759668873e-08,7.456683879577021e-08,7.448143806773041e-08,7.439720096981236e-08,7.43177556124029e-08,7.42464866600961e-08,7.41862883747973e-08,7.413935727376402e-08,7.410704147526094e-08,7.408975883091528e-08,7.408698994236549e-08,7.409734566446279e-08,7.41187022833903e-08,7.414839179215302e-08,7.418343007293668e-08,7.42207627372617e-08,7.425750713094433e-08,7.429116967908256e-08,7.431982025356872e-08,7.434220935375955e-08,7.435781922103134e-08,7.436684607175209e-08,7.437011688068158e-08,7.436895001208067e-08,7.43649739514683e-08,7.435992199345424e-08,7.435542267091168e-08,7.435280580188381e-08,7.435294228502081e-08,7.435613236041921e-08,7.436205229234635e-08,7.436976376708426e-08,7.437778425954416e-08,7.438421076707618e-08,7.438688418273772e-08,7.438357766030058e-08,7.437218997798363e-08,7.43509243601679e-08,7.431843452527532e-08,7.427392278080789e-08,7.421717950992552e-08,7.414855897690559e-08,7.406889251080079e-08,7.397934624306435e-08,7.388123610858857e-08,7.377581725270931e-08,7.366406789848744e-08,7.35464888330925e-08,7.342293884698694e-08,7.329252375634131e-08,7.315355227980887e-08,7.300356639970587e-08,7.283944740660238e-08,7.265759217222499e-08,7.245414790790365e-08,7.222528830564867e-08,7.196751000599908e-08,7.167792614835893e-08,7.135453353692325e-08,7.099643172595435e-08,7.060397594414091e-08,7.017885092831109e-08,6.972405897681194e-08,6.924382232351969e-08,6.874340669041014e-08,6.822887902148205e-08,6.770681741447813e-08,6.718399473262828e-08,6.666705902072974e-08,6.616223355396006e-08,6.567505717196831e-08,6.52101817150092e-08,6.477123824587329e-08,6.436077778142121e-08,6.398028600337786e-08,6.363026541985886e-08,6.331037322151766e-08,6.301959905597169e-08,6.275646445101255e-08,6.251922482842571e-08,6.230605598639593e-08,6.21152094568074e-08,6.194512498972425e-08,6.179449319501936e-08,6.166226661858105e-08,6.15476227527629e-08,6.144988719524333e-08,6.136842895112517e-08,6.130254238680989e-08,6.125133138024535e-08,6.121361069977658e-08,6.118783765598433e-08,6.117208381602622e-08,6.116405237185352e-08,6.116114201946979e-08,6.116055338972573e-08,6.115942962953027e-08,6.115501908557695e-08,6.114484553416018e-08,6.112687026750005e-08,6.109963069744934e-08,6.106234194264758e-08,6.101495096185964e-08,6.095813690170711e-08,6.089325606619015e-08,6.082223485395885e-08,6.074741869518175e-08,6.067138902191241e-08,6.059676325673369e-08,6.05259944302655e-08,6.046118718584876e-08,6.040394558108901e-08,6.035526536693804e-08,6.031547955797308e-08,6.028426144787764e-08,6.02606841887989e-08,6.024333109362696e-08,6.023044638142809e-08,6.022011256610226e-08,6.021043840215172e-08,6.01997404536769e-08,6.018670201805658e-08,6.017049525296881e-08,6.015085573284828e-08,6.012810299371552e-08,6.010310552314052e-08,6.007719367448986e-08,6.005202868018504e-08,6.002943988604716e-08,6.001124517479021e-08,5.999907103727931e-08,5.999418875356734e-08,5.999738166468899e-08,6.000885568637178e-08,6.002820129442193e-08,6.005441055396285e-08,6.008594779153946e-08,6.012086766933677e-08,6.015697015089279e-08,6.019197853149376e-08,6.02237246425061e-08,6.025032471120477e-08,6.02703302214741e-08,6.028284039575362e-08,6.028756639793643e-08,6.02848417244291e-08,6.02755781105092e-08,6.026117119184288e-08,6.024336468146832e-08,6.02240855428869e-08,6.020526522367423e-08,6.01886632286097e-08,6.017570904777541e-08,6.016737673875602e-08,6.016410344901459e-08,6.016575912938129e-08,6.017166999829227e-08,6.018069339530151e-08,6.019133695790294e-08,6.020191099513309e-08,6.021069988362807e-08,6.02161365539611e-08,6.021696382780084e-08,6.021236753867111e-08,6.020206891604409e-08,6.018636740490437e-08,6.016612959697993e-08,6.014272485874433e-08,6.011791311076974e-08,6.009369460175388e-08,6.007213503041997e-08,6.005518168073862e-08,6.004448713827065e-08,6.004125656420558e-08,6.00461324690224e-08,6.00591276294252e-08,6.0079612525611e-08,6.010635882250262e-08,6.013763541352718e-08,6.017134883851648e-08,6.020521590079483e-08,6.023695340177446e-08,6.026446834595105e-08,6.0286031887686e-08,6.030042170219903e-08,6.030702024302694e-08,6.030586024883224e-08,6.029761353732784e-08,6.028352415536226e-08,6.026529189373852e-08,6.024491658128948e-08,6.022451705211974e-08,6.020614092163407e-08,6.019158211027431e-08,6.018222234646467e-08,6.017891072538473e-08,6.018189198836136e-08,6.019078982421497e-08,6.020464656734074e-08,6.022201561720092e-08,6.024109818174e-08,6.025991197452626e-08,6.02764766278347e-08,6.028899907853143e-08,6.029604217591959e-08,6.029666125290253e-08,6.029049626157404e-08,6.02778110478399e-08,6.025947607180293e-08,6.023689594998835e-08,6.021188814812633e-08,6.018652354595236e-08,6.016294303502701e-08,6.014316648738803e-08,6.012891115082935e-08,6.012143571976655e-08,6.012142406971334e-08,6.01289191288143e-08,6.014331290570993e-08,6.016339369714516e-08,6.018744640824797e-08,6.021339718966756e-08,6.023898965266694e-08,6.026197711969044e-08,6.028031395582094e-08,6.029232913251113e-08,6.02968667895657e-08,6.029338153911878e-08,6.028198032802043e-08,6.026340747550992e-08,6.02389745987577e-08,6.021044207000972e-08,6.017986297071227e-08,6.014940383046383e-08,6.012115846194966e-08,6.009697174446252e-08,6.007828922029769e-08,6.006604594007993e-08,6.006060434501213e-08,6.006174643844582e-08,6.00687204871752e-08,6.008033746078098e-08,6.00951078236044e-08,6.011140555737926e-08,6.012764375579553e-08,6.014244502938246e-08,6.015479039448666e-08,6.016413225890932e-08,6.017046038758261e-08,6.017431404168122e-08,6.017673844507379e-08,6.017918889488019e-08,6.018339072884165e-08,6.019116754418371e-08,6.020425314760165e-08,6.022410441624e-08,6.025173240305144e-08,6.028756760335702e-08,6.033137243008246e-08,6.038220987336002e-08,6.043847240501334e-08,6.049796986673862e-08,6.055806982782612e-08,6.061587918573437e-08,6.066845203460048e-08,6.071300638286086e-08,6.074713138522515e-08,6.076896745339475e-08,6.077734386751802e-08,6.077186212952935e-08,6.075291796167222e-08,6.072166014618252e-08,6.067988985645064e-08,6.062990926248553e-08,6.057433254975426e-08,6.051587568613838e-08,6.045714302625919e-08,6.040042900561799e-08,6.034755174059724e-08,6.029973245031168e-08,6.025753051860562e-08,6.022083909221996e-08,6.018894080985018e-08,6.016061805417788e-08,6.013430748206224e-08,6.010828493039405e-08,6.008086443995217e-08,6.005059429056009e-08,6.001643366304043e-08,5.997789575913901e-08,5.99351467035876e-08,5.988905399090125e-08,5.984118320214332e-08,5.979374673439974e-08,5.974951288028867e-08,5.971168732548844e-08,5.96837816338418e-08,5.966948430706453e-08,5.967254941854275e-08,5.969671565384498e-08,5.974566501687292e-08,5.982302578528351e-08,5.993241893642674e-08,6.007754170317931e-08,6.02622766784743e-08,6.049081047550665e-08,6.076774281904116e-08,6.109816544464662e-08,6.148769054075546e-08,6.194241075261791e-08,6.246877688512977e-08,6.307338513989427e-08,6.376267260603688e-08,6.454252728462412e-08,6.541782658055028e-08,6.639192533160929e-08,6.74661204743466e-08,6.86391238511087e-08,6.990657704015223e-08,7.1260642188435e-08,7.268970056491659e-08,7.417818603353858e-08,7.570657414979962e-08,7.725153954262076e-08,7.87862852069842e-08,8.028103792694167e-08,8.170369491706656e-08,8.30205985312781e-08,8.419740907014604e-08,8.520004073593077e-08,8.599562289475014e-08,8.655344809944235e-08,8.684586973192434e-08,8.684911541672472e-08,8.654398719485324e-08,8.591642540739702e-08,8.495791985999737e-08,8.366575867035315e-08,8.204311183343232e-08,8.009895264102273e-08,7.784782542682207e-08,7.530947253788478e-08,7.250833691354782e-08,6.947295922037954e-08,6.623529023299357e-08,6.282994018424656e-08,5.92933872555565e-08,5.566316733940455e-08],\"yaxis\":\"y\",\"type\":\"scatter\"},{\"legendgroup\":\"Fraud\",\"marker\":{\"color\":\"rgb(255, 127, 14)\"},\"mode\":\"lines\",\"name\":\"Fraud\",\"showlegend\":true,\"x\":[1371852399.0,1371881293.016,1371910187.032,1371939081.048,1371967975.064,1371996869.08,1372025763.096,1372054657.112,1372083551.128,1372112445.144,1372141339.16,1372170233.176,1372199127.192,1372228021.208,1372256915.224,1372285809.24,1372314703.256,1372343597.272,1372372491.288,1372401385.304,1372430279.32,1372459173.336,1372488067.352,1372516961.368,1372545855.384,1372574749.4,1372603643.416,1372632537.432,1372661431.448,1372690325.464,1372719219.48,1372748113.496,1372777007.512,1372805901.528,1372834795.544,1372863689.56,1372892583.576,1372921477.592,1372950371.608,1372979265.624,1373008159.64,1373037053.656,1373065947.672,1373094841.688,1373123735.704,1373152629.72,1373181523.736,1373210417.752,1373239311.768,1373268205.784,1373297099.8,1373325993.816,1373354887.832,1373383781.848,1373412675.864,1373441569.88,1373470463.896,1373499357.912,1373528251.928,1373557145.944,1373586039.96,1373614933.976,1373643827.992,1373672722.008,1373701616.024,1373730510.04,1373759404.056,1373788298.072,1373817192.088,1373846086.104,1373874980.12,1373903874.136,1373932768.152,1373961662.168,1373990556.184,1374019450.2,1374048344.216,1374077238.232,1374106132.248,1374135026.264,1374163920.28,1374192814.296,1374221708.312,1374250602.328,1374279496.344,1374308390.36,1374337284.376,1374366178.392,1374395072.408,1374423966.424,1374452860.44,1374481754.456,1374510648.472,1374539542.488,1374568436.504,1374597330.52,1374626224.536,1374655118.552,1374684012.568,1374712906.584,1374741800.6,1374770694.616,1374799588.632,1374828482.648,1374857376.664,1374886270.68,1374915164.696,1374944058.712,1374972952.728,1375001846.744,1375030740.76,1375059634.776,1375088528.792,1375117422.808,1375146316.824,1375175210.84,1375204104.856,1375232998.872,1375261892.888,1375290786.904,1375319680.92,1375348574.936,1375377468.952,1375406362.968,1375435256.984,1375464151.0,1375493045.016,1375521939.032,1375550833.048,1375579727.064,1375608621.08,1375637515.096,1375666409.112,1375695303.128,1375724197.144,1375753091.16,1375781985.176,1375810879.192,1375839773.208,1375868667.224,1375897561.24,1375926455.256,1375955349.272,1375984243.288,1376013137.304,1376042031.32,1376070925.336,1376099819.352,1376128713.368,1376157607.384,1376186501.4,1376215395.416,1376244289.432,1376273183.448,1376302077.464,1376330971.48,1376359865.496,1376388759.512,1376417653.528,1376446547.544,1376475441.56,1376504335.576,1376533229.592,1376562123.608,1376591017.624,1376619911.64,1376648805.656,1376677699.672,1376706593.688,1376735487.704,1376764381.72,1376793275.736,1376822169.752,1376851063.768,1376879957.784,1376908851.8,1376937745.816,1376966639.832,1376995533.848,1377024427.864,1377053321.88,1377082215.896,1377111109.912,1377140003.928,1377168897.944,1377197791.96,1377226685.976,1377255579.992,1377284474.008,1377313368.024,1377342262.04,1377371156.056,1377400050.072,1377428944.088,1377457838.104,1377486732.12,1377515626.136,1377544520.152,1377573414.168,1377602308.184,1377631202.2,1377660096.216,1377688990.232,1377717884.248,1377746778.264,1377775672.28,1377804566.296,1377833460.312,1377862354.328,1377891248.344,1377920142.36,1377949036.376,1377977930.392,1378006824.408,1378035718.424,1378064612.44,1378093506.456,1378122400.472,1378151294.488,1378180188.504,1378209082.52,1378237976.536,1378266870.552,1378295764.568,1378324658.584,1378353552.6,1378382446.616,1378411340.632,1378440234.648,1378469128.664,1378498022.68,1378526916.696,1378555810.712,1378584704.728,1378613598.744,1378642492.76,1378671386.776,1378700280.792,1378729174.808,1378758068.824,1378786962.84,1378815856.856,1378844750.872,1378873644.888,1378902538.904,1378931432.92,1378960326.936,1378989220.952,1379018114.968,1379047008.984,1379075903.0,1379104797.016,1379133691.032,1379162585.048,1379191479.064,1379220373.08,1379249267.096,1379278161.112,1379307055.128,1379335949.144,1379364843.16,1379393737.176,1379422631.192,1379451525.208,1379480419.224,1379509313.24,1379538207.256,1379567101.272,1379595995.288,1379624889.304,1379653783.32,1379682677.336,1379711571.352,1379740465.368,1379769359.384,1379798253.4,1379827147.416,1379856041.432,1379884935.448,1379913829.464,1379942723.48,1379971617.496,1380000511.512,1380029405.528,1380058299.544,1380087193.56,1380116087.576,1380144981.592,1380173875.608,1380202769.624,1380231663.64,1380260557.656,1380289451.672,1380318345.688,1380347239.704,1380376133.72,1380405027.736,1380433921.752,1380462815.768,1380491709.784,1380520603.8,1380549497.816,1380578391.832,1380607285.848,1380636179.864,1380665073.88,1380693967.896,1380722861.912,1380751755.928,1380780649.944,1380809543.96,1380838437.976,1380867331.992,1380896226.008,1380925120.024,1380954014.04,1380982908.056,1381011802.072,1381040696.088,1381069590.104,1381098484.12,1381127378.136,1381156272.152,1381185166.168,1381214060.184,1381242954.2,1381271848.216,1381300742.232,1381329636.248,1381358530.264,1381387424.28,1381416318.296,1381445212.312,1381474106.328,1381503000.344,1381531894.36,1381560788.376,1381589682.392,1381618576.408,1381647470.424,1381676364.44,1381705258.456,1381734152.472,1381763046.488,1381791940.504,1381820834.52,1381849728.536,1381878622.552,1381907516.568,1381936410.584,1381965304.6,1381994198.616,1382023092.632,1382051986.648,1382080880.664,1382109774.68,1382138668.696,1382167562.712,1382196456.728,1382225350.744,1382254244.76,1382283138.776,1382312032.792,1382340926.808,1382369820.824,1382398714.84,1382427608.856,1382456502.872,1382485396.888,1382514290.904,1382543184.92,1382572078.936,1382600972.952,1382629866.968,1382658760.984,1382687655.0,1382716549.016,1382745443.032,1382774337.048,1382803231.064,1382832125.08,1382861019.096,1382889913.112,1382918807.128,1382947701.144,1382976595.16,1383005489.176,1383034383.192,1383063277.208,1383092171.224,1383121065.24,1383149959.256,1383178853.272,1383207747.288,1383236641.304,1383265535.32,1383294429.336,1383323323.352,1383352217.368,1383381111.384,1383410005.4,1383438899.416,1383467793.432,1383496687.448,1383525581.464,1383554475.48,1383583369.496,1383612263.512,1383641157.528,1383670051.544,1383698945.56,1383727839.576,1383756733.592,1383785627.608,1383814521.624,1383843415.64,1383872309.656,1383901203.672,1383930097.688,1383958991.704,1383987885.72,1384016779.736,1384045673.752,1384074567.768,1384103461.784,1384132355.8,1384161249.816,1384190143.832,1384219037.848,1384247931.864,1384276825.88,1384305719.896,1384334613.912,1384363507.928,1384392401.944,1384421295.96,1384450189.976,1384479083.992,1384507978.008,1384536872.024,1384565766.04,1384594660.056,1384623554.072,1384652448.088,1384681342.104,1384710236.12,1384739130.136,1384768024.152,1384796918.168,1384825812.184,1384854706.2,1384883600.216,1384912494.232,1384941388.248,1384970282.264,1384999176.28,1385028070.296,1385056964.312,1385085858.328,1385114752.344,1385143646.36,1385172540.376,1385201434.392,1385230328.408,1385259222.424,1385288116.44,1385317010.456,1385345904.472,1385374798.488,1385403692.504,1385432586.52,1385461480.536,1385490374.552,1385519268.568,1385548162.584,1385577056.6,1385605950.616,1385634844.632,1385663738.648,1385692632.664,1385721526.68,1385750420.696,1385779314.712,1385808208.728,1385837102.744,1385865996.76,1385894890.776,1385923784.792,1385952678.808,1385981572.824,1386010466.84,1386039360.856,1386068254.872,1386097148.888,1386126042.904,1386154936.92,1386183830.936,1386212724.952,1386241618.968,1386270512.984],\"xaxis\":\"x\",\"y\":[3.599832746745103e-08,3.69141794049776e-08,3.782760756521544e-08,3.873755396790971e-08,3.9642967153292124e-08,4.054280577710364e-08,4.143604218490549e-08,4.232166594676008e-08,4.319868733323946e-08,4.4066140714082964e-08,4.4923087861158045e-08,4.576862113788879e-08,4.660186655794889e-08,4.7421986696826234e-08,4.822818344062839e-08,4.901970055771556e-08,4.979582607965392e-08,5.055589447932122e-08,5.129928863526787e-08,5.202544157281943e-08,5.2733837973909574e-08,5.342401544903271e-08,5.409556556645775e-08,5.474813463525499e-08,5.5381424240413395e-08,5.5995191529917157e-08,5.6589249255260355e-08,5.7163465568510766e-08,5.7717763580502524e-08,5.8252120686401457e-08,5.876656766619421e-08,5.926118756912353e-08,5.973611439236214e-08,6.019153156542548e-08,6.062767025292036e-08,6.1044807489236e-08,6.144326415958202e-08,6.182340284261703e-08,6.218562553041472e-08,6.253037124202497e-08,6.285811354719981e-08,6.316935801701929e-08,6.346463961819968e-08,6.374452006770823e-08,6.400958516412762e-08,6.426044211173798e-08,6.449771685281145e-08,6.472205142293957e-08,6.493410134343325e-08,6.513453306398215e-08,6.532402146772013e-08,6.550324744983703e-08,6.567289557966985e-08,6.58336518550123e-08,6.598620155611455e-08,6.613122720553077e-08,6.626940663863829e-08,6.640141118833364e-08,6.652790398603785e-08,6.664953837988153e-08,6.676695646961858e-08,6.688078775661294e-08,6.699164790607658e-08,6.710013761764097e-08,6.720684159935693e-08,6.731232763929858e-08,6.741714576819114e-08,6.75218275057774e-08,6.762688518312028e-08,6.773281133261787e-08,6.784007813724034e-08,6.794913693037056e-08,6.806041773762533e-08,6.817432885221738e-08,6.829125643568429e-08,6.841156413624971e-08,6.853559271764651e-08,6.866365969190234e-08,6.879605895039398e-08,6.893306038837233e-08,6.907490951913394e-08,6.922182707512531e-08,6.937400859433651e-08,6.953162399158051e-08,6.969481711541547e-08,6.986370529272151e-08,7.003837886415978e-08,7.021890071491526e-08,7.040530580633042e-08,7.059760071509895e-08,7.079576318773733e-08,7.099974171899234e-08,7.120945516366053e-08,7.142479239203437e-08,7.164561199971982e-08,7.187174208306185e-08,7.210298009163977e-08,7.233909276942392e-08,7.257981619612716e-08,7.282485594004669e-08,7.30738873332707e-08,7.332655587956143e-08,7.35824778044164e-08,7.384124075593764e-08,7.410240466400119e-08,7.436550276398478e-08,7.46300427899338e-08,7.489550834052188e-08,7.516136041955445e-08,7.542703915100538e-08,7.569196566684132e-08,7.595554416398813e-08,7.6217164124934e-08,7.647620269457088e-08,7.673202720397834e-08,7.698399783003326e-08,7.723147037788234e-08,7.747379917168103e-08,7.771034003731892e-08,7.794045335940288e-08,7.816350719342256e-08,7.837888041282744e-08,7.858596586975867e-08,7.87841735473635e-08,7.897293368099707e-08,7.91516998252851e-08,7.931995184380441e-08,7.947719879824669e-08,7.962298171423177e-08,7.975687620146854e-08,7.987849490675801e-08,7.998748977930272e-08,8.008355412903951e-08,8.01664244601189e-08,8.023588206328263e-08,8.029175435269541e-08,8.03339159347479e-08,8.03622893984532e-08,8.037684581929008e-08,8.037760497065562e-08,8.036463523950897e-08,8.033805324521053e-08,8.029802316304247e-08,8.024475575635929e-08,8.017850712374955e-08,8.009957716997305e-08,8.000830781174349e-08,7.990508093161836e-08,7.979031609533451e-08,7.966446804985477e-08,7.952802402114733e-08,7.938150083229439e-08,7.922544186389945e-08,7.906041387994166e-08,7.888700374314e-08,7.870581504462424e-08,7.851746467317608e-08,7.832257934954564e-08,7.812179215134118e-08,7.791573905377252e-08,7.770505551104198e-08,7.74903731025418e-08,7.727231626705758e-08,7.705149914715095e-08,7.682852256459825e-08,7.660397114631678e-08,7.637841061864689e-08,7.615238528612723e-08,7.592641570910825e-08,7.57009965925993e-08,7.547659489681922e-08,7.525364817788056e-08,7.503256316500843e-08,7.481371457866392e-08,7.459744419192096e-08,7.438406013549396e-08,7.4173836444868e-08,7.396701284618232e-08,7.376379477576086e-08,7.35643536265531e-08,7.336882721323832e-08,7.317732044637214e-08,7.298990620469346e-08,7.280662639365719e-08,7.262749317726096e-08,7.245249036949741e-08,7.228157497109691e-08,7.211467883676018e-08,7.195171045774543e-08,7.179255684448242e-08,7.163708549386384e-08,7.148514642590533e-08,7.133657427471556e-08,7.119119041900584e-08,7.104880513780006e-08,7.090921977750497e-08,7.077222891708649e-08,7.06376225187575e-08,7.050518805225643e-08,7.037471258156368e-08,7.024598480365992e-08,7.011879702971536e-08,6.999294709989448e-08,6.986824022375185e-08,6.974449073896507e-08,6.962152378192006e-08,6.949917686437842e-08,6.937730135116623e-08,6.925576383448239e-08,6.913444740103913e-08,6.901325278883788e-08,6.889209943089975e-08,6.877092638379167e-08,6.864969313920442e-08,6.852838031727634e-08,6.840699024072322e-08,6.828554738916815e-08,6.816409873338177e-08,6.804271394943173e-08,6.792148551300964e-08,6.780052867443735e-08,6.767998131512716e-08,6.75600036864839e-08,6.744077803248648e-08,6.732250809743486e-08,6.720541852058577e-08,6.708975411968075e-08,6.697577906565169e-08,6.686377595106731e-08,6.67540447552245e-08,6.664690170911621e-08,6.65426780638615e-08,6.644171876656669e-08,6.634438104796791e-08,6.625103292663661e-08,6.616205163491853e-08,6.607782197222801e-08,6.599873459175078e-08,6.592518422702396e-08,6.585756786530433e-08,6.579628287503993e-08,6.57417250951639e-08,6.569428689429795e-08,6.565435520829712e-08,6.562230956489034e-08,6.559852010442723e-08,6.558334560597906e-08,6.557713152821702e-08,6.558020807461118e-08,6.559288829256432e-08,6.561546621610102e-08,6.564821506166689e-08,6.569138548649219e-08,6.574520391875683e-08,6.580987096858103e-08,6.588555992851499e-08,6.597241537183852e-08,6.60705518565507e-08,6.618005274240756e-08,6.630096912783385e-08,6.643331891292373e-08,6.657708599409538e-08,6.673221959527995e-08,6.689863373980272e-08,6.707620686634148e-08,6.726478159161225e-08,6.746416462159894e-08,6.767412681236142e-08,6.789440338065783e-08,6.812469426379482e-08,6.836466462735253e-08,6.861394551861557e-08,6.887213466283778e-08,6.913879739868501e-08,6.941346774853899e-08,6.969564961865976e-08,6.998481812359646e-08,7.028042102865631e-08,7.058188030367724e-08,7.088859378093448e-08,7.119993690950081e-08,7.151526459805735e-08,7.183391313779739e-08,7.215520219680378e-08,7.247843687705804e-08,7.280290982508441e-08,7.312790338708352e-08,7.345269179941291e-08,7.377654340519086e-08,7.409872288787843e-08,7.441849351275388e-08,7.473511936732711e-08,7.504786759190478e-08,7.535601059168388e-08,7.565882822204998e-08,7.595560993895838e-08,7.624565690659674e-08,7.652828405485823e-08,7.680282207946144e-08,7.706861937796983e-08,7.732504391525953e-08,7.75714850124793e-08,7.780735505386291e-08,7.803209110621548e-08,7.824515644630836e-08,7.844604199183959e-08,7.863426763204573e-08,7.880938345449767e-08,7.897097086501416e-08,7.911864359809788e-08,7.925204861568693e-08,7.937086689246153e-08,7.947481408635168e-08,7.95636410933093e-08,7.963713448580322e-08,7.969511683489774e-08,7.973744691616399e-08,7.976401980004222e-08,7.977476682764718e-08,7.976965547336739e-08,7.974868909594995e-08,7.971190658010634e-08,7.965938187099116e-08,7.959122340423014e-08,7.95075734344607e-08,7.94086072656543e-08,7.929453238675656e-08,7.916558751645145e-08,7.902204156111117e-08,7.886419249022714e-08,7.869236613386411e-08,7.85069149068671e-08,7.830821646478341e-08,7.809667229663315e-08,7.787270625984437e-08,7.763676306283801e-08,7.73893067008744e-08,7.71308188509553e-08,7.686179723162846e-08,7.658275393370736e-08,7.62942137279751e-08,7.599671235601925e-08,7.569079481041179e-08,7.537701361045583e-08,7.505592707979948e-08,7.472809763213427e-08,7.439409007125346e-08,7.405446991165978e-08,7.370980172586398e-08,7.336064752443267e-08,7.300756517473395e-08,7.265110686418381e-08,7.229181761369088e-08,7.193023384673104e-08,7.156688201935962e-08,7.120227731618839e-08,7.083692241710885e-08,7.04713063392577e-08,7.010590335839541e-08,6.974117201357608e-08,6.937755419853845e-08,6.901547434294584e-08,6.865533868613878e-08,6.82975346456395e-08,6.794243028219407e-08,6.759037386264001e-08,6.724169352144343e-08,6.689669702114952e-08,6.655567161155185e-08,6.621888398679327e-08,6.588658033908964e-08,6.555898650720688e-08,6.523630821727835e-08,6.49187314129786e-08,6.460642267157796e-08,6.429952970177973e-08,6.399818191880521e-08,6.370249109163912e-08,6.341255205687379e-08,6.312844349313673e-08,6.285022874964597e-08,6.257795672207185e-08,6.231166276847208e-08,6.205136965780276e-08,6.179708854320389e-08,6.154881995204474e-08,6.130655478453415e-08,6.107027531258637e-08,6.08399561705566e-08,6.061556532948974e-08,6.039706504652236e-08,6.018441278125269e-08,5.997756207104046e-08,5.977646335744629e-08,5.958106475633154e-08,5.93913127644943e-08,5.920715289617347e-08,5.9028530243197745e-08,5.8855389953144234e-08,5.8687677620450425e-08,5.852533958607923e-08,5.836832314204158e-08,5.821657663781583e-08,5.807004948651006e-08,5.792869206939304e-08,5.779245553830423e-08,5.766129151629799e-08,5.7535151697770234e-08,5.741398735020863e-08,5.7297748720605425e-08,5.7186384350458846e-08,5.7079840304187406e-08,5.697805931661381e-08,5.688097986604096e-08,5.6788535180226185e-08,5.6700652183326525e-08,5.661725039260111e-08,5.653824077431125e-08,5.646352456886471e-08,5.639299209576362e-08,5.6326521549387106e-08,5.626397779700655e-08,5.620521119072665e-08,5.6150056405253306e-08,5.6098331313497376e-08,5.604983591205324e-08,5.600435130850269e-08,5.5961638782332255e-08,5.592143893097439e-08,5.588347091211595e-08,5.584743179295279e-08,5.58129960165079e-08,5.5779814994480566e-08,5.574751683535686e-08,5.57157062156837e-08,5.5683964401514197e-08,5.565184942605707e-08,5.561889642852365e-08,5.558461815807318e-08,5.554850564560653e-08,5.551002904497789e-08,5.546863864396598e-08,5.542376604410955e-08,5.5374825507252025e-08,5.532121546538139e-08,5.52623201890959e-08,5.519751160878834e-08,5.512615128143715e-08,5.5047592494704676e-08,5.4961182498927417e-08,5.486626485650314e-08,5.476218189717071e-08,5.4648277266743877e-08,5.452389855600479e-08,5.438839999568893e-08,5.424114520283777e-08,5.408150996319524e-08,5.390888503387986e-08,5.37226789501982e-08,5.3522320820217403e-08,5.3307263090589886e-08,5.3076984267098255e-08,5.2830991573524743e-08,5.256882353261406e-08,5.2290052453291406e-08,5.1994286808709644e-08,5.1681173490270164e-08,5.135039992342661e-08,5.100169603182531e-08,5.063483603724728e-08,5.024964008367776e-08,4.9845975674942227e-08,4.942375891639679e-08,4.8982955552345015e-08,4.8523581792073016e-08,4.80457049186671e-08,4.7549443676061163e-08,4.7034968431169125e-08,4.65025011091908e-08,4.5952314901660505e-08,4.538473374809697e-08,4.480013159348579e-08,4.419893142515473e-08,4.3581604093869904e-08,4.2948666925329995e-08,4.2300682129297773e-08,4.163825501491164e-08,4.096203202172345e-08,4.027269857705917e-08,3.957097679124491e-08,3.885762300306635e-08,3.813342518870857e-08,3.739920024793123e-08,3.6655791181992206e-08,3.5904064178215946e-08,3.514490561652506e-08,3.437921901352997e-08,3.360792191996082e-08,3.2831942787264913e-08,3.2052217819285896e-08],\"yaxis\":\"y\",\"type\":\"scatter\"}],                        {\"barmode\":\"overlay\",\"hovermode\":\"closest\",\"legend\":{\"traceorder\":\"reversed\"},\"template\":{\"data\":{\"barpolar\":[{\"marker\":{\"line\":{\"color\":\"#E5ECF6\",\"width\":0.5},\"pattern\":{\"fillmode\":\"overlay\",\"size\":10,\"solidity\":0.2}},\"type\":\"barpolar\"}],\"bar\":[{\"error_x\":{\"color\":\"#2a3f5f\"},\"error_y\":{\"color\":\"#2a3f5f\"},\"marker\":{\"line\":{\"color\":\"#E5ECF6\",\"width\":0.5},\"pattern\":{\"fillmode\":\"overlay\",\"size\":10,\"solidity\":0.2}},\"type\":\"bar\"}],\"carpet\":[{\"aaxis\":{\"endlinecolor\":\"#2a3f5f\",\"gridcolor\":\"white\",\"linecolor\":\"white\",\"minorgridcolor\":\"white\",\"startlinecolor\":\"#2a3f5f\"},\"baxis\":{\"endlinecolor\":\"#2a3f5f\",\"gridcolor\":\"white\",\"linecolor\":\"white\",\"minorgridcolor\":\"white\",\"startlinecolor\":\"#2a3f5f\"},\"type\":\"carpet\"}],\"choropleth\":[{\"colorbar\":{\"outlinewidth\":0,\"ticks\":\"\"},\"type\":\"choropleth\"}],\"contourcarpet\":[{\"colorbar\":{\"outlinewidth\":0,\"ticks\":\"\"},\"type\":\"contourcarpet\"}],\"contour\":[{\"colorbar\":{\"outlinewidth\":0,\"ticks\":\"\"},\"colorscale\":[[0.0,\"#0d0887\"],[0.1111111111111111,\"#46039f\"],[0.2222222222222222,\"#7201a8\"],[0.3333333333333333,\"#9c179e\"],[0.4444444444444444,\"#bd3786\"],[0.5555555555555556,\"#d8576b\"],[0.6666666666666666,\"#ed7953\"],[0.7777777777777778,\"#fb9f3a\"],[0.8888888888888888,\"#fdca26\"],[1.0,\"#f0f921\"]],\"type\":\"contour\"}],\"heatmapgl\":[{\"colorbar\":{\"outlinewidth\":0,\"ticks\":\"\"},\"colorscale\":[[0.0,\"#0d0887\"],[0.1111111111111111,\"#46039f\"],[0.2222222222222222,\"#7201a8\"],[0.3333333333333333,\"#9c179e\"],[0.4444444444444444,\"#bd3786\"],[0.5555555555555556,\"#d8576b\"],[0.6666666666666666,\"#ed7953\"],[0.7777777777777778,\"#fb9f3a\"],[0.8888888888888888,\"#fdca26\"],[1.0,\"#f0f921\"]],\"type\":\"heatmapgl\"}],\"heatmap\":[{\"colorbar\":{\"outlinewidth\":0,\"ticks\":\"\"},\"colorscale\":[[0.0,\"#0d0887\"],[0.1111111111111111,\"#46039f\"],[0.2222222222222222,\"#7201a8\"],[0.3333333333333333,\"#9c179e\"],[0.4444444444444444,\"#bd3786\"],[0.5555555555555556,\"#d8576b\"],[0.6666666666666666,\"#ed7953\"],[0.7777777777777778,\"#fb9f3a\"],[0.8888888888888888,\"#fdca26\"],[1.0,\"#f0f921\"]],\"type\":\"heatmap\"}],\"histogram2dcontour\":[{\"colorbar\":{\"outlinewidth\":0,\"ticks\":\"\"},\"colorscale\":[[0.0,\"#0d0887\"],[0.1111111111111111,\"#46039f\"],[0.2222222222222222,\"#7201a8\"],[0.3333333333333333,\"#9c179e\"],[0.4444444444444444,\"#bd3786\"],[0.5555555555555556,\"#d8576b\"],[0.6666666666666666,\"#ed7953\"],[0.7777777777777778,\"#fb9f3a\"],[0.8888888888888888,\"#fdca26\"],[1.0,\"#f0f921\"]],\"type\":\"histogram2dcontour\"}],\"histogram2d\":[{\"colorbar\":{\"outlinewidth\":0,\"ticks\":\"\"},\"colorscale\":[[0.0,\"#0d0887\"],[0.1111111111111111,\"#46039f\"],[0.2222222222222222,\"#7201a8\"],[0.3333333333333333,\"#9c179e\"],[0.4444444444444444,\"#bd3786\"],[0.5555555555555556,\"#d8576b\"],[0.6666666666666666,\"#ed7953\"],[0.7777777777777778,\"#fb9f3a\"],[0.8888888888888888,\"#fdca26\"],[1.0,\"#f0f921\"]],\"type\":\"histogram2d\"}],\"histogram\":[{\"marker\":{\"pattern\":{\"fillmode\":\"overlay\",\"size\":10,\"solidity\":0.2}},\"type\":\"histogram\"}],\"mesh3d\":[{\"colorbar\":{\"outlinewidth\":0,\"ticks\":\"\"},\"type\":\"mesh3d\"}],\"parcoords\":[{\"line\":{\"colorbar\":{\"outlinewidth\":0,\"ticks\":\"\"}},\"type\":\"parcoords\"}],\"pie\":[{\"automargin\":true,\"type\":\"pie\"}],\"scatter3d\":[{\"line\":{\"colorbar\":{\"outlinewidth\":0,\"ticks\":\"\"}},\"marker\":{\"colorbar\":{\"outlinewidth\":0,\"ticks\":\"\"}},\"type\":\"scatter3d\"}],\"scattercarpet\":[{\"marker\":{\"colorbar\":{\"outlinewidth\":0,\"ticks\":\"\"}},\"type\":\"scattercarpet\"}],\"scattergeo\":[{\"marker\":{\"colorbar\":{\"outlinewidth\":0,\"ticks\":\"\"}},\"type\":\"scattergeo\"}],\"scattergl\":[{\"marker\":{\"colorbar\":{\"outlinewidth\":0,\"ticks\":\"\"}},\"type\":\"scattergl\"}],\"scattermapbox\":[{\"marker\":{\"colorbar\":{\"outlinewidth\":0,\"ticks\":\"\"}},\"type\":\"scattermapbox\"}],\"scatterpolargl\":[{\"marker\":{\"colorbar\":{\"outlinewidth\":0,\"ticks\":\"\"}},\"type\":\"scatterpolargl\"}],\"scatterpolar\":[{\"marker\":{\"colorbar\":{\"outlinewidth\":0,\"ticks\":\"\"}},\"type\":\"scatterpolar\"}],\"scatter\":[{\"marker\":{\"colorbar\":{\"outlinewidth\":0,\"ticks\":\"\"}},\"type\":\"scatter\"}],\"scatterternary\":[{\"marker\":{\"colorbar\":{\"outlinewidth\":0,\"ticks\":\"\"}},\"type\":\"scatterternary\"}],\"surface\":[{\"colorbar\":{\"outlinewidth\":0,\"ticks\":\"\"},\"colorscale\":[[0.0,\"#0d0887\"],[0.1111111111111111,\"#46039f\"],[0.2222222222222222,\"#7201a8\"],[0.3333333333333333,\"#9c179e\"],[0.4444444444444444,\"#bd3786\"],[0.5555555555555556,\"#d8576b\"],[0.6666666666666666,\"#ed7953\"],[0.7777777777777778,\"#fb9f3a\"],[0.8888888888888888,\"#fdca26\"],[1.0,\"#f0f921\"]],\"type\":\"surface\"}],\"table\":[{\"cells\":{\"fill\":{\"color\":\"#EBF0F8\"},\"line\":{\"color\":\"white\"}},\"header\":{\"fill\":{\"color\":\"#C8D4E3\"},\"line\":{\"color\":\"white\"}},\"type\":\"table\"}]},\"layout\":{\"annotationdefaults\":{\"arrowcolor\":\"#2a3f5f\",\"arrowhead\":0,\"arrowwidth\":1},\"autotypenumbers\":\"strict\",\"coloraxis\":{\"colorbar\":{\"outlinewidth\":0,\"ticks\":\"\"}},\"colorscale\":{\"diverging\":[[0,\"#8e0152\"],[0.1,\"#c51b7d\"],[0.2,\"#de77ae\"],[0.3,\"#f1b6da\"],[0.4,\"#fde0ef\"],[0.5,\"#f7f7f7\"],[0.6,\"#e6f5d0\"],[0.7,\"#b8e186\"],[0.8,\"#7fbc41\"],[0.9,\"#4d9221\"],[1,\"#276419\"]],\"sequential\":[[0.0,\"#0d0887\"],[0.1111111111111111,\"#46039f\"],[0.2222222222222222,\"#7201a8\"],[0.3333333333333333,\"#9c179e\"],[0.4444444444444444,\"#bd3786\"],[0.5555555555555556,\"#d8576b\"],[0.6666666666666666,\"#ed7953\"],[0.7777777777777778,\"#fb9f3a\"],[0.8888888888888888,\"#fdca26\"],[1.0,\"#f0f921\"]],\"sequentialminus\":[[0.0,\"#0d0887\"],[0.1111111111111111,\"#46039f\"],[0.2222222222222222,\"#7201a8\"],[0.3333333333333333,\"#9c179e\"],[0.4444444444444444,\"#bd3786\"],[0.5555555555555556,\"#d8576b\"],[0.6666666666666666,\"#ed7953\"],[0.7777777777777778,\"#fb9f3a\"],[0.8888888888888888,\"#fdca26\"],[1.0,\"#f0f921\"]]},\"colorway\":[\"#636efa\",\"#EF553B\",\"#00cc96\",\"#ab63fa\",\"#FFA15A\",\"#19d3f3\",\"#FF6692\",\"#B6E880\",\"#FF97FF\",\"#FECB52\"],\"font\":{\"color\":\"#2a3f5f\"},\"geo\":{\"bgcolor\":\"white\",\"lakecolor\":\"white\",\"landcolor\":\"#E5ECF6\",\"showlakes\":true,\"showland\":true,\"subunitcolor\":\"white\"},\"hoverlabel\":{\"align\":\"left\"},\"hovermode\":\"closest\",\"mapbox\":{\"style\":\"light\"},\"paper_bgcolor\":\"white\",\"plot_bgcolor\":\"#E5ECF6\",\"polar\":{\"angularaxis\":{\"gridcolor\":\"white\",\"linecolor\":\"white\",\"ticks\":\"\"},\"bgcolor\":\"#E5ECF6\",\"radialaxis\":{\"gridcolor\":\"white\",\"linecolor\":\"white\",\"ticks\":\"\"}},\"scene\":{\"xaxis\":{\"backgroundcolor\":\"#E5ECF6\",\"gridcolor\":\"white\",\"gridwidth\":2,\"linecolor\":\"white\",\"showbackground\":true,\"ticks\":\"\",\"zerolinecolor\":\"white\"},\"yaxis\":{\"backgroundcolor\":\"#E5ECF6\",\"gridcolor\":\"white\",\"gridwidth\":2,\"linecolor\":\"white\",\"showbackground\":true,\"ticks\":\"\",\"zerolinecolor\":\"white\"},\"zaxis\":{\"backgroundcolor\":\"#E5ECF6\",\"gridcolor\":\"white\",\"gridwidth\":2,\"linecolor\":\"white\",\"showbackground\":true,\"ticks\":\"\",\"zerolinecolor\":\"white\"}},\"shapedefaults\":{\"line\":{\"color\":\"#2a3f5f\"}},\"ternary\":{\"aaxis\":{\"gridcolor\":\"white\",\"linecolor\":\"white\",\"ticks\":\"\"},\"baxis\":{\"gridcolor\":\"white\",\"linecolor\":\"white\",\"ticks\":\"\"},\"bgcolor\":\"#E5ECF6\",\"caxis\":{\"gridcolor\":\"white\",\"linecolor\":\"white\",\"ticks\":\"\"}},\"title\":{\"x\":0.05},\"xaxis\":{\"automargin\":true,\"gridcolor\":\"white\",\"linecolor\":\"white\",\"ticks\":\"\",\"title\":{\"standoff\":15},\"zerolinecolor\":\"white\",\"zerolinewidth\":2},\"yaxis\":{\"automargin\":true,\"gridcolor\":\"white\",\"linecolor\":\"white\",\"ticks\":\"\",\"title\":{\"standoff\":15},\"zerolinecolor\":\"white\",\"zerolinewidth\":2}}},\"title\":{\"text\":\"Credit Card Transactions Time Density Plot\"},\"xaxis\":{\"anchor\":\"y2\",\"domain\":[0.0,1.0],\"title\":{\"text\":\"Time [s]\"},\"zeroline\":false},\"yaxis\":{\"anchor\":\"free\",\"domain\":[0.0,1],\"position\":0.0}},                        {\"responsive\": true}                    ).then(function(){\n",
              "                            \n",
              "var gd = document.getElementById('9a6e1a16-d255-4ea7-9b0c-8efaa6a122e5');\n",
              "var x = new MutationObserver(function (mutations, observer) {{\n",
              "        var display = window.getComputedStyle(gd).display;\n",
              "        if (!display || display === 'none') {{\n",
              "            console.log([gd, 'removed!']);\n",
              "            Plotly.purge(gd);\n",
              "            observer.disconnect();\n",
              "        }}\n",
              "}});\n",
              "\n",
              "// Listen for the removal of the full notebook cells\n",
              "var notebookContainer = gd.closest('#notebook-container');\n",
              "if (notebookContainer) {{\n",
              "    x.observe(notebookContainer, {childList: true});\n",
              "}}\n",
              "\n",
              "// Listen for the clearing of the current output cell\n",
              "var outputEl = gd.closest('.output');\n",
              "if (outputEl) {{\n",
              "    x.observe(outputEl, {childList: true});\n",
              "}}\n",
              "\n",
              "                        })                };                });            </script>        </div>"
            ]
          },
          "metadata": {}
        }
      ],
      "source": [
        "# Separate Time col for both the classes \n",
        "class_0 = data.loc[data['is_fraud'] == 0][\"unix_time\"]\n",
        "class_1 = data.loc[data['is_fraud'] == 1][\"unix_time\"]\n",
        "\n",
        "hist_data = [class_0, class_1]\n",
        "group_labels = ['Not Fraud', 'Fraud']\n",
        "\n",
        "fig = ff.create_distplot(hist_data, group_labels, show_hist=False, show_rug=False)\n",
        "fig['layout'].update(title='Credit Card Transactions Time Density Plot', xaxis=dict(title='Time [s]'))\n",
        "iplot(fig, filename='dist_only')# "
      ]
    },
    {
      "cell_type": "code",
      "source": [
        "import pandas as pd\n",
        "from datetime import datetime\n",
        "\n",
        "data['time'] = pd.to_datetime(data['unix_time'],unit='s') # Changing the values of the column \n"
      ],
      "metadata": {
        "id": "EK8iQY7Vg81I"
      },
      "execution_count": null,
      "outputs": []
    },
    {
      "cell_type": "code",
      "source": [
        "data"
      ],
      "metadata": {
        "colab": {
          "base_uri": "https://localhost:8080/",
          "height": 974
        },
        "id": "uLXV-qgW_VSz",
        "outputId": "dee5442f-fe3b-45e5-fe1b-428120e20520"
      },
      "execution_count": null,
      "outputs": [
        {
          "output_type": "execute_result",
          "data": {
            "text/plain": [
              "        Unnamed: 0 trans_date_trans_time            cc_num  \\\n",
              "0                0   2020-06-21 12:14:25  2291163933867244   \n",
              "1                1   2020-06-21 12:14:33  3573030041201292   \n",
              "2                2   2020-06-21 12:14:53  3598215285024754   \n",
              "3                3   2020-06-21 12:15:15  3591919803438423   \n",
              "4                4   2020-06-21 12:15:17  3526826139003047   \n",
              "...            ...                   ...               ...   \n",
              "438022      438022   2020-12-06 10:51:12    38295635583927   \n",
              "438023      438023   2020-12-06 10:51:39  4914700582394237   \n",
              "438024      438024   2020-12-06 10:51:39  3587960728692500   \n",
              "438025      438025   2020-12-06 10:51:55   180036456789979   \n",
              "438026      438026   2020-12-06 10:52:01   340953839692349   \n",
              "\n",
              "                                    merchant        category     amt  \\\n",
              "0                      fraud_Kirlin and Sons   personal_care    2.86   \n",
              "1                       fraud_Sporer-Keebler   personal_care   29.84   \n",
              "2       fraud_Swaniawski, Nitzsche and Welch  health_fitness   41.28   \n",
              "3                          fraud_Haley Group        misc_pos   60.05   \n",
              "4                      fraud_Johnston-Casper          travel    3.19   \n",
              "...                                      ...             ...     ...   \n",
              "438022                        fraud_Cole PLC     grocery_pos  103.95   \n",
              "438023                    fraud_Bogisich Inc     grocery_pos   66.30   \n",
              "438024                       fraud_Emard Inc   gas_transport   43.92   \n",
              "438025                     fraud_Schmitt Inc   gas_transport   40.29   \n",
              "438026                 fraud_Deckow-O'Conner     grocery_pos   58.13   \n",
              "\n",
              "            first      last gender                           street  ...  \\\n",
              "0            Jeff   Elliott      M                351 Darlene Green  ...   \n",
              "1          Joanne  Williams      F                 3638 Marsh Union  ...   \n",
              "2          Ashley     Lopez      F             9333 Valentine Point  ...   \n",
              "3           Brian  Williams      M      32941 Krystal Mill Apt. 552  ...   \n",
              "4          Nathan    Massey      M         5783 Evan Roads Apt. 465  ...   \n",
              "...           ...       ...    ...                              ...  ...   \n",
              "438022    Candice     Brown      F                 9412 Harris Mews  ...   \n",
              "438023       John  Williams      M  8929 Phillips Corners Suite 259  ...   \n",
              "438024      Kathy    Hughes      F    02110 Lucas Freeway Suite 517  ...   \n",
              "438025  Mackenzie   Salazar      F                 982 Melissa Lock  ...   \n",
              "438026      Tyler    Wright      M       615 Clarke Spring Apt. 172  ...   \n",
              "\n",
              "            long city_pop                       job         dob  \\\n",
              "0       -80.9355   333497       Mechanical engineer  1968-03-19   \n",
              "1      -110.4360      302    Sales professional, IT  1990-01-17   \n",
              "2       -73.5365    34496         Librarian, public  1970-10-21   \n",
              "3       -80.8191    54767              Set designer  1987-07-25   \n",
              "4       -85.0170     1126        Furniture designer  1955-07-06   \n",
              "...          ...      ...                       ...         ...   \n",
              "438022  -99.8473      178             Warden/ranger  1983-06-14   \n",
              "438023  -80.1381     4589                Bookseller  1956-05-01   \n",
              "438024  -95.6045     1075  Teacher, early years/pre  1997-01-02   \n",
              "438025  -91.0685      878              Risk analyst  1974-11-20   \n",
              "438026  -82.9832   134056          Doctor, hospital  1980-05-18   \n",
              "\n",
              "                               trans_num   unix_time  merch_lat  merch_long  \\\n",
              "0       2da90c7d74bd46a0caf3777415b3ebd3  1371816865  33.986391  -81.200714   \n",
              "1       324cc204407e99f51b0d6ca0055005e7  1371816873  39.450498 -109.960431   \n",
              "2       c81755dbbbea9d5c77f094348a7579be  1371816893  40.495810  -74.196111   \n",
              "3       2159175b9efe66dc301f149d3d5abf8c  1371816915  28.812398  -80.883061   \n",
              "4       57ff021bd3f328f8738bb535c302a31b  1371816917  44.959148  -85.884734   \n",
              "...                                  ...         ...        ...         ...   \n",
              "438022  01098b850a9cb825df1539290bbf1f30  1386327072  32.564689 -100.196288   \n",
              "438023  4b0ee6efd5927213d9be0590e6e40230  1386327099  40.299846  -79.836543   \n",
              "438024  1e3e31f24fc7eace04675041b73d57b4  1386327099  42.374396  -96.533738   \n",
              "438025  0807ff25566a2fb4763aaab9f758a1ec  1386327115  43.084161  -91.764143   \n",
              "438026  eb8b2a05c1a61ba305215879c5f2d2c9  1386327121  42.524937  -83.758962   \n",
              "\n",
              "       is_fraud                time  \n",
              "0             0 2013-06-21 12:14:25  \n",
              "1             0 2013-06-21 12:14:33  \n",
              "2             0 2013-06-21 12:14:53  \n",
              "3             0 2013-06-21 12:15:15  \n",
              "4             0 2013-06-21 12:15:17  \n",
              "...         ...                 ...  \n",
              "438022        0 2013-12-06 10:51:12  \n",
              "438023        0 2013-12-06 10:51:39  \n",
              "438024        0 2013-12-06 10:51:39  \n",
              "438025        0 2013-12-06 10:51:55  \n",
              "438026        0 2013-12-06 10:52:01  \n",
              "\n",
              "[438027 rows x 24 columns]"
            ],
            "text/html": [
              "\n",
              "  <div id=\"df-2f82956b-51a1-4a33-9fdd-72d29d53cc0f\">\n",
              "    <div class=\"colab-df-container\">\n",
              "      <div>\n",
              "<style scoped>\n",
              "    .dataframe tbody tr th:only-of-type {\n",
              "        vertical-align: middle;\n",
              "    }\n",
              "\n",
              "    .dataframe tbody tr th {\n",
              "        vertical-align: top;\n",
              "    }\n",
              "\n",
              "    .dataframe thead th {\n",
              "        text-align: right;\n",
              "    }\n",
              "</style>\n",
              "<table border=\"1\" class=\"dataframe\">\n",
              "  <thead>\n",
              "    <tr style=\"text-align: right;\">\n",
              "      <th></th>\n",
              "      <th>Unnamed: 0</th>\n",
              "      <th>trans_date_trans_time</th>\n",
              "      <th>cc_num</th>\n",
              "      <th>merchant</th>\n",
              "      <th>category</th>\n",
              "      <th>amt</th>\n",
              "      <th>first</th>\n",
              "      <th>last</th>\n",
              "      <th>gender</th>\n",
              "      <th>street</th>\n",
              "      <th>...</th>\n",
              "      <th>long</th>\n",
              "      <th>city_pop</th>\n",
              "      <th>job</th>\n",
              "      <th>dob</th>\n",
              "      <th>trans_num</th>\n",
              "      <th>unix_time</th>\n",
              "      <th>merch_lat</th>\n",
              "      <th>merch_long</th>\n",
              "      <th>is_fraud</th>\n",
              "      <th>time</th>\n",
              "    </tr>\n",
              "  </thead>\n",
              "  <tbody>\n",
              "    <tr>\n",
              "      <th>0</th>\n",
              "      <td>0</td>\n",
              "      <td>2020-06-21 12:14:25</td>\n",
              "      <td>2291163933867244</td>\n",
              "      <td>fraud_Kirlin and Sons</td>\n",
              "      <td>personal_care</td>\n",
              "      <td>2.86</td>\n",
              "      <td>Jeff</td>\n",
              "      <td>Elliott</td>\n",
              "      <td>M</td>\n",
              "      <td>351 Darlene Green</td>\n",
              "      <td>...</td>\n",
              "      <td>-80.9355</td>\n",
              "      <td>333497</td>\n",
              "      <td>Mechanical engineer</td>\n",
              "      <td>1968-03-19</td>\n",
              "      <td>2da90c7d74bd46a0caf3777415b3ebd3</td>\n",
              "      <td>1371816865</td>\n",
              "      <td>33.986391</td>\n",
              "      <td>-81.200714</td>\n",
              "      <td>0</td>\n",
              "      <td>2013-06-21 12:14:25</td>\n",
              "    </tr>\n",
              "    <tr>\n",
              "      <th>1</th>\n",
              "      <td>1</td>\n",
              "      <td>2020-06-21 12:14:33</td>\n",
              "      <td>3573030041201292</td>\n",
              "      <td>fraud_Sporer-Keebler</td>\n",
              "      <td>personal_care</td>\n",
              "      <td>29.84</td>\n",
              "      <td>Joanne</td>\n",
              "      <td>Williams</td>\n",
              "      <td>F</td>\n",
              "      <td>3638 Marsh Union</td>\n",
              "      <td>...</td>\n",
              "      <td>-110.4360</td>\n",
              "      <td>302</td>\n",
              "      <td>Sales professional, IT</td>\n",
              "      <td>1990-01-17</td>\n",
              "      <td>324cc204407e99f51b0d6ca0055005e7</td>\n",
              "      <td>1371816873</td>\n",
              "      <td>39.450498</td>\n",
              "      <td>-109.960431</td>\n",
              "      <td>0</td>\n",
              "      <td>2013-06-21 12:14:33</td>\n",
              "    </tr>\n",
              "    <tr>\n",
              "      <th>2</th>\n",
              "      <td>2</td>\n",
              "      <td>2020-06-21 12:14:53</td>\n",
              "      <td>3598215285024754</td>\n",
              "      <td>fraud_Swaniawski, Nitzsche and Welch</td>\n",
              "      <td>health_fitness</td>\n",
              "      <td>41.28</td>\n",
              "      <td>Ashley</td>\n",
              "      <td>Lopez</td>\n",
              "      <td>F</td>\n",
              "      <td>9333 Valentine Point</td>\n",
              "      <td>...</td>\n",
              "      <td>-73.5365</td>\n",
              "      <td>34496</td>\n",
              "      <td>Librarian, public</td>\n",
              "      <td>1970-10-21</td>\n",
              "      <td>c81755dbbbea9d5c77f094348a7579be</td>\n",
              "      <td>1371816893</td>\n",
              "      <td>40.495810</td>\n",
              "      <td>-74.196111</td>\n",
              "      <td>0</td>\n",
              "      <td>2013-06-21 12:14:53</td>\n",
              "    </tr>\n",
              "    <tr>\n",
              "      <th>3</th>\n",
              "      <td>3</td>\n",
              "      <td>2020-06-21 12:15:15</td>\n",
              "      <td>3591919803438423</td>\n",
              "      <td>fraud_Haley Group</td>\n",
              "      <td>misc_pos</td>\n",
              "      <td>60.05</td>\n",
              "      <td>Brian</td>\n",
              "      <td>Williams</td>\n",
              "      <td>M</td>\n",
              "      <td>32941 Krystal Mill Apt. 552</td>\n",
              "      <td>...</td>\n",
              "      <td>-80.8191</td>\n",
              "      <td>54767</td>\n",
              "      <td>Set designer</td>\n",
              "      <td>1987-07-25</td>\n",
              "      <td>2159175b9efe66dc301f149d3d5abf8c</td>\n",
              "      <td>1371816915</td>\n",
              "      <td>28.812398</td>\n",
              "      <td>-80.883061</td>\n",
              "      <td>0</td>\n",
              "      <td>2013-06-21 12:15:15</td>\n",
              "    </tr>\n",
              "    <tr>\n",
              "      <th>4</th>\n",
              "      <td>4</td>\n",
              "      <td>2020-06-21 12:15:17</td>\n",
              "      <td>3526826139003047</td>\n",
              "      <td>fraud_Johnston-Casper</td>\n",
              "      <td>travel</td>\n",
              "      <td>3.19</td>\n",
              "      <td>Nathan</td>\n",
              "      <td>Massey</td>\n",
              "      <td>M</td>\n",
              "      <td>5783 Evan Roads Apt. 465</td>\n",
              "      <td>...</td>\n",
              "      <td>-85.0170</td>\n",
              "      <td>1126</td>\n",
              "      <td>Furniture designer</td>\n",
              "      <td>1955-07-06</td>\n",
              "      <td>57ff021bd3f328f8738bb535c302a31b</td>\n",
              "      <td>1371816917</td>\n",
              "      <td>44.959148</td>\n",
              "      <td>-85.884734</td>\n",
              "      <td>0</td>\n",
              "      <td>2013-06-21 12:15:17</td>\n",
              "    </tr>\n",
              "    <tr>\n",
              "      <th>...</th>\n",
              "      <td>...</td>\n",
              "      <td>...</td>\n",
              "      <td>...</td>\n",
              "      <td>...</td>\n",
              "      <td>...</td>\n",
              "      <td>...</td>\n",
              "      <td>...</td>\n",
              "      <td>...</td>\n",
              "      <td>...</td>\n",
              "      <td>...</td>\n",
              "      <td>...</td>\n",
              "      <td>...</td>\n",
              "      <td>...</td>\n",
              "      <td>...</td>\n",
              "      <td>...</td>\n",
              "      <td>...</td>\n",
              "      <td>...</td>\n",
              "      <td>...</td>\n",
              "      <td>...</td>\n",
              "      <td>...</td>\n",
              "      <td>...</td>\n",
              "    </tr>\n",
              "    <tr>\n",
              "      <th>438022</th>\n",
              "      <td>438022</td>\n",
              "      <td>2020-12-06 10:51:12</td>\n",
              "      <td>38295635583927</td>\n",
              "      <td>fraud_Cole PLC</td>\n",
              "      <td>grocery_pos</td>\n",
              "      <td>103.95</td>\n",
              "      <td>Candice</td>\n",
              "      <td>Brown</td>\n",
              "      <td>F</td>\n",
              "      <td>9412 Harris Mews</td>\n",
              "      <td>...</td>\n",
              "      <td>-99.8473</td>\n",
              "      <td>178</td>\n",
              "      <td>Warden/ranger</td>\n",
              "      <td>1983-06-14</td>\n",
              "      <td>01098b850a9cb825df1539290bbf1f30</td>\n",
              "      <td>1386327072</td>\n",
              "      <td>32.564689</td>\n",
              "      <td>-100.196288</td>\n",
              "      <td>0</td>\n",
              "      <td>2013-12-06 10:51:12</td>\n",
              "    </tr>\n",
              "    <tr>\n",
              "      <th>438023</th>\n",
              "      <td>438023</td>\n",
              "      <td>2020-12-06 10:51:39</td>\n",
              "      <td>4914700582394237</td>\n",
              "      <td>fraud_Bogisich Inc</td>\n",
              "      <td>grocery_pos</td>\n",
              "      <td>66.30</td>\n",
              "      <td>John</td>\n",
              "      <td>Williams</td>\n",
              "      <td>M</td>\n",
              "      <td>8929 Phillips Corners Suite 259</td>\n",
              "      <td>...</td>\n",
              "      <td>-80.1381</td>\n",
              "      <td>4589</td>\n",
              "      <td>Bookseller</td>\n",
              "      <td>1956-05-01</td>\n",
              "      <td>4b0ee6efd5927213d9be0590e6e40230</td>\n",
              "      <td>1386327099</td>\n",
              "      <td>40.299846</td>\n",
              "      <td>-79.836543</td>\n",
              "      <td>0</td>\n",
              "      <td>2013-12-06 10:51:39</td>\n",
              "    </tr>\n",
              "    <tr>\n",
              "      <th>438024</th>\n",
              "      <td>438024</td>\n",
              "      <td>2020-12-06 10:51:39</td>\n",
              "      <td>3587960728692500</td>\n",
              "      <td>fraud_Emard Inc</td>\n",
              "      <td>gas_transport</td>\n",
              "      <td>43.92</td>\n",
              "      <td>Kathy</td>\n",
              "      <td>Hughes</td>\n",
              "      <td>F</td>\n",
              "      <td>02110 Lucas Freeway Suite 517</td>\n",
              "      <td>...</td>\n",
              "      <td>-95.6045</td>\n",
              "      <td>1075</td>\n",
              "      <td>Teacher, early years/pre</td>\n",
              "      <td>1997-01-02</td>\n",
              "      <td>1e3e31f24fc7eace04675041b73d57b4</td>\n",
              "      <td>1386327099</td>\n",
              "      <td>42.374396</td>\n",
              "      <td>-96.533738</td>\n",
              "      <td>0</td>\n",
              "      <td>2013-12-06 10:51:39</td>\n",
              "    </tr>\n",
              "    <tr>\n",
              "      <th>438025</th>\n",
              "      <td>438025</td>\n",
              "      <td>2020-12-06 10:51:55</td>\n",
              "      <td>180036456789979</td>\n",
              "      <td>fraud_Schmitt Inc</td>\n",
              "      <td>gas_transport</td>\n",
              "      <td>40.29</td>\n",
              "      <td>Mackenzie</td>\n",
              "      <td>Salazar</td>\n",
              "      <td>F</td>\n",
              "      <td>982 Melissa Lock</td>\n",
              "      <td>...</td>\n",
              "      <td>-91.0685</td>\n",
              "      <td>878</td>\n",
              "      <td>Risk analyst</td>\n",
              "      <td>1974-11-20</td>\n",
              "      <td>0807ff25566a2fb4763aaab9f758a1ec</td>\n",
              "      <td>1386327115</td>\n",
              "      <td>43.084161</td>\n",
              "      <td>-91.764143</td>\n",
              "      <td>0</td>\n",
              "      <td>2013-12-06 10:51:55</td>\n",
              "    </tr>\n",
              "    <tr>\n",
              "      <th>438026</th>\n",
              "      <td>438026</td>\n",
              "      <td>2020-12-06 10:52:01</td>\n",
              "      <td>340953839692349</td>\n",
              "      <td>fraud_Deckow-O'Conner</td>\n",
              "      <td>grocery_pos</td>\n",
              "      <td>58.13</td>\n",
              "      <td>Tyler</td>\n",
              "      <td>Wright</td>\n",
              "      <td>M</td>\n",
              "      <td>615 Clarke Spring Apt. 172</td>\n",
              "      <td>...</td>\n",
              "      <td>-82.9832</td>\n",
              "      <td>134056</td>\n",
              "      <td>Doctor, hospital</td>\n",
              "      <td>1980-05-18</td>\n",
              "      <td>eb8b2a05c1a61ba305215879c5f2d2c9</td>\n",
              "      <td>1386327121</td>\n",
              "      <td>42.524937</td>\n",
              "      <td>-83.758962</td>\n",
              "      <td>0</td>\n",
              "      <td>2013-12-06 10:52:01</td>\n",
              "    </tr>\n",
              "  </tbody>\n",
              "</table>\n",
              "<p>438027 rows × 24 columns</p>\n",
              "</div>\n",
              "      <button class=\"colab-df-convert\" onclick=\"convertToInteractive('df-2f82956b-51a1-4a33-9fdd-72d29d53cc0f')\"\n",
              "              title=\"Convert this dataframe to an interactive table.\"\n",
              "              style=\"display:none;\">\n",
              "        \n",
              "  <svg xmlns=\"http://www.w3.org/2000/svg\" height=\"24px\"viewBox=\"0 0 24 24\"\n",
              "       width=\"24px\">\n",
              "    <path d=\"M0 0h24v24H0V0z\" fill=\"none\"/>\n",
              "    <path d=\"M18.56 5.44l.94 2.06.94-2.06 2.06-.94-2.06-.94-.94-2.06-.94 2.06-2.06.94zm-11 1L8.5 8.5l.94-2.06 2.06-.94-2.06-.94L8.5 2.5l-.94 2.06-2.06.94zm10 10l.94 2.06.94-2.06 2.06-.94-2.06-.94-.94-2.06-.94 2.06-2.06.94z\"/><path d=\"M17.41 7.96l-1.37-1.37c-.4-.4-.92-.59-1.43-.59-.52 0-1.04.2-1.43.59L10.3 9.45l-7.72 7.72c-.78.78-.78 2.05 0 2.83L4 21.41c.39.39.9.59 1.41.59.51 0 1.02-.2 1.41-.59l7.78-7.78 2.81-2.81c.8-.78.8-2.07 0-2.86zM5.41 20L4 18.59l7.72-7.72 1.47 1.35L5.41 20z\"/>\n",
              "  </svg>\n",
              "      </button>\n",
              "      \n",
              "  <style>\n",
              "    .colab-df-container {\n",
              "      display:flex;\n",
              "      flex-wrap:wrap;\n",
              "      gap: 12px;\n",
              "    }\n",
              "\n",
              "    .colab-df-convert {\n",
              "      background-color: #E8F0FE;\n",
              "      border: none;\n",
              "      border-radius: 50%;\n",
              "      cursor: pointer;\n",
              "      display: none;\n",
              "      fill: #1967D2;\n",
              "      height: 32px;\n",
              "      padding: 0 0 0 0;\n",
              "      width: 32px;\n",
              "    }\n",
              "\n",
              "    .colab-df-convert:hover {\n",
              "      background-color: #E2EBFA;\n",
              "      box-shadow: 0px 1px 2px rgba(60, 64, 67, 0.3), 0px 1px 3px 1px rgba(60, 64, 67, 0.15);\n",
              "      fill: #174EA6;\n",
              "    }\n",
              "\n",
              "    [theme=dark] .colab-df-convert {\n",
              "      background-color: #3B4455;\n",
              "      fill: #D2E3FC;\n",
              "    }\n",
              "\n",
              "    [theme=dark] .colab-df-convert:hover {\n",
              "      background-color: #434B5C;\n",
              "      box-shadow: 0px 1px 3px 1px rgba(0, 0, 0, 0.15);\n",
              "      filter: drop-shadow(0px 1px 2px rgba(0, 0, 0, 0.3));\n",
              "      fill: #FFFFFF;\n",
              "    }\n",
              "  </style>\n",
              "\n",
              "      <script>\n",
              "        const buttonEl =\n",
              "          document.querySelector('#df-2f82956b-51a1-4a33-9fdd-72d29d53cc0f button.colab-df-convert');\n",
              "        buttonEl.style.display =\n",
              "          google.colab.kernel.accessAllowed ? 'block' : 'none';\n",
              "\n",
              "        async function convertToInteractive(key) {\n",
              "          const element = document.querySelector('#df-2f82956b-51a1-4a33-9fdd-72d29d53cc0f');\n",
              "          const dataTable =\n",
              "            await google.colab.kernel.invokeFunction('convertToInteractive',\n",
              "                                                     [key], {});\n",
              "          if (!dataTable) return;\n",
              "\n",
              "          const docLinkHtml = 'Like what you see? Visit the ' +\n",
              "            '<a target=\"_blank\" href=https://colab.research.google.com/notebooks/data_table.ipynb>data table notebook</a>'\n",
              "            + ' to learn more about interactive tables.';\n",
              "          element.innerHTML = '';\n",
              "          dataTable['output_type'] = 'display_data';\n",
              "          await google.colab.output.renderOutput(dataTable, element);\n",
              "          const docLink = document.createElement('div');\n",
              "          docLink.innerHTML = docLinkHtml;\n",
              "          element.appendChild(docLink);\n",
              "        }\n",
              "      </script>\n",
              "    </div>\n",
              "  </div>\n",
              "  "
            ]
          },
          "metadata": {},
          "execution_count": 54
        }
      ]
    },
    {
      "cell_type": "code",
      "source": [
        "\n",
        "data['Dates'] = pd.to_datetime(data['time']).dt.date\n",
        "data['Time'] = pd.to_datetime(data['time']).dt.time"
      ],
      "metadata": {
        "id": "jkmeKXQbAj4d"
      },
      "execution_count": null,
      "outputs": []
    },
    {
      "cell_type": "code",
      "source": [
        "data"
      ],
      "metadata": {
        "colab": {
          "base_uri": "https://localhost:8080/",
          "height": 974
        },
        "id": "bAoHXeW8AwcS",
        "outputId": "5e7da473-a781-4f42-89be-14149dae0879"
      },
      "execution_count": null,
      "outputs": [
        {
          "output_type": "execute_result",
          "data": {
            "text/plain": [
              "        Unnamed: 0 trans_date_trans_time            cc_num  \\\n",
              "0                0   2020-06-21 12:14:25  2291163933867244   \n",
              "1                1   2020-06-21 12:14:33  3573030041201292   \n",
              "2                2   2020-06-21 12:14:53  3598215285024754   \n",
              "3                3   2020-06-21 12:15:15  3591919803438423   \n",
              "4                4   2020-06-21 12:15:17  3526826139003047   \n",
              "...            ...                   ...               ...   \n",
              "438022      438022   2020-12-06 10:51:12    38295635583927   \n",
              "438023      438023   2020-12-06 10:51:39  4914700582394237   \n",
              "438024      438024   2020-12-06 10:51:39  3587960728692500   \n",
              "438025      438025   2020-12-06 10:51:55   180036456789979   \n",
              "438026      438026   2020-12-06 10:52:01   340953839692349   \n",
              "\n",
              "                                    merchant        category     amt  \\\n",
              "0                      fraud_Kirlin and Sons   personal_care    2.86   \n",
              "1                       fraud_Sporer-Keebler   personal_care   29.84   \n",
              "2       fraud_Swaniawski, Nitzsche and Welch  health_fitness   41.28   \n",
              "3                          fraud_Haley Group        misc_pos   60.05   \n",
              "4                      fraud_Johnston-Casper          travel    3.19   \n",
              "...                                      ...             ...     ...   \n",
              "438022                        fraud_Cole PLC     grocery_pos  103.95   \n",
              "438023                    fraud_Bogisich Inc     grocery_pos   66.30   \n",
              "438024                       fraud_Emard Inc   gas_transport   43.92   \n",
              "438025                     fraud_Schmitt Inc   gas_transport   40.29   \n",
              "438026                 fraud_Deckow-O'Conner     grocery_pos   58.13   \n",
              "\n",
              "            first      last gender                           street  ...  \\\n",
              "0            Jeff   Elliott      M                351 Darlene Green  ...   \n",
              "1          Joanne  Williams      F                 3638 Marsh Union  ...   \n",
              "2          Ashley     Lopez      F             9333 Valentine Point  ...   \n",
              "3           Brian  Williams      M      32941 Krystal Mill Apt. 552  ...   \n",
              "4          Nathan    Massey      M         5783 Evan Roads Apt. 465  ...   \n",
              "...           ...       ...    ...                              ...  ...   \n",
              "438022    Candice     Brown      F                 9412 Harris Mews  ...   \n",
              "438023       John  Williams      M  8929 Phillips Corners Suite 259  ...   \n",
              "438024      Kathy    Hughes      F    02110 Lucas Freeway Suite 517  ...   \n",
              "438025  Mackenzie   Salazar      F                 982 Melissa Lock  ...   \n",
              "438026      Tyler    Wright      M       615 Clarke Spring Apt. 172  ...   \n",
              "\n",
              "                             job         dob  \\\n",
              "0            Mechanical engineer  1968-03-19   \n",
              "1         Sales professional, IT  1990-01-17   \n",
              "2              Librarian, public  1970-10-21   \n",
              "3                   Set designer  1987-07-25   \n",
              "4             Furniture designer  1955-07-06   \n",
              "...                          ...         ...   \n",
              "438022             Warden/ranger  1983-06-14   \n",
              "438023                Bookseller  1956-05-01   \n",
              "438024  Teacher, early years/pre  1997-01-02   \n",
              "438025              Risk analyst  1974-11-20   \n",
              "438026          Doctor, hospital  1980-05-18   \n",
              "\n",
              "                               trans_num   unix_time  merch_lat  merch_long  \\\n",
              "0       2da90c7d74bd46a0caf3777415b3ebd3  1371816865  33.986391  -81.200714   \n",
              "1       324cc204407e99f51b0d6ca0055005e7  1371816873  39.450498 -109.960431   \n",
              "2       c81755dbbbea9d5c77f094348a7579be  1371816893  40.495810  -74.196111   \n",
              "3       2159175b9efe66dc301f149d3d5abf8c  1371816915  28.812398  -80.883061   \n",
              "4       57ff021bd3f328f8738bb535c302a31b  1371816917  44.959148  -85.884734   \n",
              "...                                  ...         ...        ...         ...   \n",
              "438022  01098b850a9cb825df1539290bbf1f30  1386327072  32.564689 -100.196288   \n",
              "438023  4b0ee6efd5927213d9be0590e6e40230  1386327099  40.299846  -79.836543   \n",
              "438024  1e3e31f24fc7eace04675041b73d57b4  1386327099  42.374396  -96.533738   \n",
              "438025  0807ff25566a2fb4763aaab9f758a1ec  1386327115  43.084161  -91.764143   \n",
              "438026  eb8b2a05c1a61ba305215879c5f2d2c9  1386327121  42.524937  -83.758962   \n",
              "\n",
              "       is_fraud                time       Dates      Time  \n",
              "0             0 2013-06-21 12:14:25  2013-06-21  12:14:25  \n",
              "1             0 2013-06-21 12:14:33  2013-06-21  12:14:33  \n",
              "2             0 2013-06-21 12:14:53  2013-06-21  12:14:53  \n",
              "3             0 2013-06-21 12:15:15  2013-06-21  12:15:15  \n",
              "4             0 2013-06-21 12:15:17  2013-06-21  12:15:17  \n",
              "...         ...                 ...         ...       ...  \n",
              "438022        0 2013-12-06 10:51:12  2013-12-06  10:51:12  \n",
              "438023        0 2013-12-06 10:51:39  2013-12-06  10:51:39  \n",
              "438024        0 2013-12-06 10:51:39  2013-12-06  10:51:39  \n",
              "438025        0 2013-12-06 10:51:55  2013-12-06  10:51:55  \n",
              "438026        0 2013-12-06 10:52:01  2013-12-06  10:52:01  \n",
              "\n",
              "[438027 rows x 26 columns]"
            ],
            "text/html": [
              "\n",
              "  <div id=\"df-9e93f17c-e2b0-40a0-8be6-2fc57d9b6939\">\n",
              "    <div class=\"colab-df-container\">\n",
              "      <div>\n",
              "<style scoped>\n",
              "    .dataframe tbody tr th:only-of-type {\n",
              "        vertical-align: middle;\n",
              "    }\n",
              "\n",
              "    .dataframe tbody tr th {\n",
              "        vertical-align: top;\n",
              "    }\n",
              "\n",
              "    .dataframe thead th {\n",
              "        text-align: right;\n",
              "    }\n",
              "</style>\n",
              "<table border=\"1\" class=\"dataframe\">\n",
              "  <thead>\n",
              "    <tr style=\"text-align: right;\">\n",
              "      <th></th>\n",
              "      <th>Unnamed: 0</th>\n",
              "      <th>trans_date_trans_time</th>\n",
              "      <th>cc_num</th>\n",
              "      <th>merchant</th>\n",
              "      <th>category</th>\n",
              "      <th>amt</th>\n",
              "      <th>first</th>\n",
              "      <th>last</th>\n",
              "      <th>gender</th>\n",
              "      <th>street</th>\n",
              "      <th>...</th>\n",
              "      <th>job</th>\n",
              "      <th>dob</th>\n",
              "      <th>trans_num</th>\n",
              "      <th>unix_time</th>\n",
              "      <th>merch_lat</th>\n",
              "      <th>merch_long</th>\n",
              "      <th>is_fraud</th>\n",
              "      <th>time</th>\n",
              "      <th>Dates</th>\n",
              "      <th>Time</th>\n",
              "    </tr>\n",
              "  </thead>\n",
              "  <tbody>\n",
              "    <tr>\n",
              "      <th>0</th>\n",
              "      <td>0</td>\n",
              "      <td>2020-06-21 12:14:25</td>\n",
              "      <td>2291163933867244</td>\n",
              "      <td>fraud_Kirlin and Sons</td>\n",
              "      <td>personal_care</td>\n",
              "      <td>2.86</td>\n",
              "      <td>Jeff</td>\n",
              "      <td>Elliott</td>\n",
              "      <td>M</td>\n",
              "      <td>351 Darlene Green</td>\n",
              "      <td>...</td>\n",
              "      <td>Mechanical engineer</td>\n",
              "      <td>1968-03-19</td>\n",
              "      <td>2da90c7d74bd46a0caf3777415b3ebd3</td>\n",
              "      <td>1371816865</td>\n",
              "      <td>33.986391</td>\n",
              "      <td>-81.200714</td>\n",
              "      <td>0</td>\n",
              "      <td>2013-06-21 12:14:25</td>\n",
              "      <td>2013-06-21</td>\n",
              "      <td>12:14:25</td>\n",
              "    </tr>\n",
              "    <tr>\n",
              "      <th>1</th>\n",
              "      <td>1</td>\n",
              "      <td>2020-06-21 12:14:33</td>\n",
              "      <td>3573030041201292</td>\n",
              "      <td>fraud_Sporer-Keebler</td>\n",
              "      <td>personal_care</td>\n",
              "      <td>29.84</td>\n",
              "      <td>Joanne</td>\n",
              "      <td>Williams</td>\n",
              "      <td>F</td>\n",
              "      <td>3638 Marsh Union</td>\n",
              "      <td>...</td>\n",
              "      <td>Sales professional, IT</td>\n",
              "      <td>1990-01-17</td>\n",
              "      <td>324cc204407e99f51b0d6ca0055005e7</td>\n",
              "      <td>1371816873</td>\n",
              "      <td>39.450498</td>\n",
              "      <td>-109.960431</td>\n",
              "      <td>0</td>\n",
              "      <td>2013-06-21 12:14:33</td>\n",
              "      <td>2013-06-21</td>\n",
              "      <td>12:14:33</td>\n",
              "    </tr>\n",
              "    <tr>\n",
              "      <th>2</th>\n",
              "      <td>2</td>\n",
              "      <td>2020-06-21 12:14:53</td>\n",
              "      <td>3598215285024754</td>\n",
              "      <td>fraud_Swaniawski, Nitzsche and Welch</td>\n",
              "      <td>health_fitness</td>\n",
              "      <td>41.28</td>\n",
              "      <td>Ashley</td>\n",
              "      <td>Lopez</td>\n",
              "      <td>F</td>\n",
              "      <td>9333 Valentine Point</td>\n",
              "      <td>...</td>\n",
              "      <td>Librarian, public</td>\n",
              "      <td>1970-10-21</td>\n",
              "      <td>c81755dbbbea9d5c77f094348a7579be</td>\n",
              "      <td>1371816893</td>\n",
              "      <td>40.495810</td>\n",
              "      <td>-74.196111</td>\n",
              "      <td>0</td>\n",
              "      <td>2013-06-21 12:14:53</td>\n",
              "      <td>2013-06-21</td>\n",
              "      <td>12:14:53</td>\n",
              "    </tr>\n",
              "    <tr>\n",
              "      <th>3</th>\n",
              "      <td>3</td>\n",
              "      <td>2020-06-21 12:15:15</td>\n",
              "      <td>3591919803438423</td>\n",
              "      <td>fraud_Haley Group</td>\n",
              "      <td>misc_pos</td>\n",
              "      <td>60.05</td>\n",
              "      <td>Brian</td>\n",
              "      <td>Williams</td>\n",
              "      <td>M</td>\n",
              "      <td>32941 Krystal Mill Apt. 552</td>\n",
              "      <td>...</td>\n",
              "      <td>Set designer</td>\n",
              "      <td>1987-07-25</td>\n",
              "      <td>2159175b9efe66dc301f149d3d5abf8c</td>\n",
              "      <td>1371816915</td>\n",
              "      <td>28.812398</td>\n",
              "      <td>-80.883061</td>\n",
              "      <td>0</td>\n",
              "      <td>2013-06-21 12:15:15</td>\n",
              "      <td>2013-06-21</td>\n",
              "      <td>12:15:15</td>\n",
              "    </tr>\n",
              "    <tr>\n",
              "      <th>4</th>\n",
              "      <td>4</td>\n",
              "      <td>2020-06-21 12:15:17</td>\n",
              "      <td>3526826139003047</td>\n",
              "      <td>fraud_Johnston-Casper</td>\n",
              "      <td>travel</td>\n",
              "      <td>3.19</td>\n",
              "      <td>Nathan</td>\n",
              "      <td>Massey</td>\n",
              "      <td>M</td>\n",
              "      <td>5783 Evan Roads Apt. 465</td>\n",
              "      <td>...</td>\n",
              "      <td>Furniture designer</td>\n",
              "      <td>1955-07-06</td>\n",
              "      <td>57ff021bd3f328f8738bb535c302a31b</td>\n",
              "      <td>1371816917</td>\n",
              "      <td>44.959148</td>\n",
              "      <td>-85.884734</td>\n",
              "      <td>0</td>\n",
              "      <td>2013-06-21 12:15:17</td>\n",
              "      <td>2013-06-21</td>\n",
              "      <td>12:15:17</td>\n",
              "    </tr>\n",
              "    <tr>\n",
              "      <th>...</th>\n",
              "      <td>...</td>\n",
              "      <td>...</td>\n",
              "      <td>...</td>\n",
              "      <td>...</td>\n",
              "      <td>...</td>\n",
              "      <td>...</td>\n",
              "      <td>...</td>\n",
              "      <td>...</td>\n",
              "      <td>...</td>\n",
              "      <td>...</td>\n",
              "      <td>...</td>\n",
              "      <td>...</td>\n",
              "      <td>...</td>\n",
              "      <td>...</td>\n",
              "      <td>...</td>\n",
              "      <td>...</td>\n",
              "      <td>...</td>\n",
              "      <td>...</td>\n",
              "      <td>...</td>\n",
              "      <td>...</td>\n",
              "      <td>...</td>\n",
              "    </tr>\n",
              "    <tr>\n",
              "      <th>438022</th>\n",
              "      <td>438022</td>\n",
              "      <td>2020-12-06 10:51:12</td>\n",
              "      <td>38295635583927</td>\n",
              "      <td>fraud_Cole PLC</td>\n",
              "      <td>grocery_pos</td>\n",
              "      <td>103.95</td>\n",
              "      <td>Candice</td>\n",
              "      <td>Brown</td>\n",
              "      <td>F</td>\n",
              "      <td>9412 Harris Mews</td>\n",
              "      <td>...</td>\n",
              "      <td>Warden/ranger</td>\n",
              "      <td>1983-06-14</td>\n",
              "      <td>01098b850a9cb825df1539290bbf1f30</td>\n",
              "      <td>1386327072</td>\n",
              "      <td>32.564689</td>\n",
              "      <td>-100.196288</td>\n",
              "      <td>0</td>\n",
              "      <td>2013-12-06 10:51:12</td>\n",
              "      <td>2013-12-06</td>\n",
              "      <td>10:51:12</td>\n",
              "    </tr>\n",
              "    <tr>\n",
              "      <th>438023</th>\n",
              "      <td>438023</td>\n",
              "      <td>2020-12-06 10:51:39</td>\n",
              "      <td>4914700582394237</td>\n",
              "      <td>fraud_Bogisich Inc</td>\n",
              "      <td>grocery_pos</td>\n",
              "      <td>66.30</td>\n",
              "      <td>John</td>\n",
              "      <td>Williams</td>\n",
              "      <td>M</td>\n",
              "      <td>8929 Phillips Corners Suite 259</td>\n",
              "      <td>...</td>\n",
              "      <td>Bookseller</td>\n",
              "      <td>1956-05-01</td>\n",
              "      <td>4b0ee6efd5927213d9be0590e6e40230</td>\n",
              "      <td>1386327099</td>\n",
              "      <td>40.299846</td>\n",
              "      <td>-79.836543</td>\n",
              "      <td>0</td>\n",
              "      <td>2013-12-06 10:51:39</td>\n",
              "      <td>2013-12-06</td>\n",
              "      <td>10:51:39</td>\n",
              "    </tr>\n",
              "    <tr>\n",
              "      <th>438024</th>\n",
              "      <td>438024</td>\n",
              "      <td>2020-12-06 10:51:39</td>\n",
              "      <td>3587960728692500</td>\n",
              "      <td>fraud_Emard Inc</td>\n",
              "      <td>gas_transport</td>\n",
              "      <td>43.92</td>\n",
              "      <td>Kathy</td>\n",
              "      <td>Hughes</td>\n",
              "      <td>F</td>\n",
              "      <td>02110 Lucas Freeway Suite 517</td>\n",
              "      <td>...</td>\n",
              "      <td>Teacher, early years/pre</td>\n",
              "      <td>1997-01-02</td>\n",
              "      <td>1e3e31f24fc7eace04675041b73d57b4</td>\n",
              "      <td>1386327099</td>\n",
              "      <td>42.374396</td>\n",
              "      <td>-96.533738</td>\n",
              "      <td>0</td>\n",
              "      <td>2013-12-06 10:51:39</td>\n",
              "      <td>2013-12-06</td>\n",
              "      <td>10:51:39</td>\n",
              "    </tr>\n",
              "    <tr>\n",
              "      <th>438025</th>\n",
              "      <td>438025</td>\n",
              "      <td>2020-12-06 10:51:55</td>\n",
              "      <td>180036456789979</td>\n",
              "      <td>fraud_Schmitt Inc</td>\n",
              "      <td>gas_transport</td>\n",
              "      <td>40.29</td>\n",
              "      <td>Mackenzie</td>\n",
              "      <td>Salazar</td>\n",
              "      <td>F</td>\n",
              "      <td>982 Melissa Lock</td>\n",
              "      <td>...</td>\n",
              "      <td>Risk analyst</td>\n",
              "      <td>1974-11-20</td>\n",
              "      <td>0807ff25566a2fb4763aaab9f758a1ec</td>\n",
              "      <td>1386327115</td>\n",
              "      <td>43.084161</td>\n",
              "      <td>-91.764143</td>\n",
              "      <td>0</td>\n",
              "      <td>2013-12-06 10:51:55</td>\n",
              "      <td>2013-12-06</td>\n",
              "      <td>10:51:55</td>\n",
              "    </tr>\n",
              "    <tr>\n",
              "      <th>438026</th>\n",
              "      <td>438026</td>\n",
              "      <td>2020-12-06 10:52:01</td>\n",
              "      <td>340953839692349</td>\n",
              "      <td>fraud_Deckow-O'Conner</td>\n",
              "      <td>grocery_pos</td>\n",
              "      <td>58.13</td>\n",
              "      <td>Tyler</td>\n",
              "      <td>Wright</td>\n",
              "      <td>M</td>\n",
              "      <td>615 Clarke Spring Apt. 172</td>\n",
              "      <td>...</td>\n",
              "      <td>Doctor, hospital</td>\n",
              "      <td>1980-05-18</td>\n",
              "      <td>eb8b2a05c1a61ba305215879c5f2d2c9</td>\n",
              "      <td>1386327121</td>\n",
              "      <td>42.524937</td>\n",
              "      <td>-83.758962</td>\n",
              "      <td>0</td>\n",
              "      <td>2013-12-06 10:52:01</td>\n",
              "      <td>2013-12-06</td>\n",
              "      <td>10:52:01</td>\n",
              "    </tr>\n",
              "  </tbody>\n",
              "</table>\n",
              "<p>438027 rows × 26 columns</p>\n",
              "</div>\n",
              "      <button class=\"colab-df-convert\" onclick=\"convertToInteractive('df-9e93f17c-e2b0-40a0-8be6-2fc57d9b6939')\"\n",
              "              title=\"Convert this dataframe to an interactive table.\"\n",
              "              style=\"display:none;\">\n",
              "        \n",
              "  <svg xmlns=\"http://www.w3.org/2000/svg\" height=\"24px\"viewBox=\"0 0 24 24\"\n",
              "       width=\"24px\">\n",
              "    <path d=\"M0 0h24v24H0V0z\" fill=\"none\"/>\n",
              "    <path d=\"M18.56 5.44l.94 2.06.94-2.06 2.06-.94-2.06-.94-.94-2.06-.94 2.06-2.06.94zm-11 1L8.5 8.5l.94-2.06 2.06-.94-2.06-.94L8.5 2.5l-.94 2.06-2.06.94zm10 10l.94 2.06.94-2.06 2.06-.94-2.06-.94-.94-2.06-.94 2.06-2.06.94z\"/><path d=\"M17.41 7.96l-1.37-1.37c-.4-.4-.92-.59-1.43-.59-.52 0-1.04.2-1.43.59L10.3 9.45l-7.72 7.72c-.78.78-.78 2.05 0 2.83L4 21.41c.39.39.9.59 1.41.59.51 0 1.02-.2 1.41-.59l7.78-7.78 2.81-2.81c.8-.78.8-2.07 0-2.86zM5.41 20L4 18.59l7.72-7.72 1.47 1.35L5.41 20z\"/>\n",
              "  </svg>\n",
              "      </button>\n",
              "      \n",
              "  <style>\n",
              "    .colab-df-container {\n",
              "      display:flex;\n",
              "      flex-wrap:wrap;\n",
              "      gap: 12px;\n",
              "    }\n",
              "\n",
              "    .colab-df-convert {\n",
              "      background-color: #E8F0FE;\n",
              "      border: none;\n",
              "      border-radius: 50%;\n",
              "      cursor: pointer;\n",
              "      display: none;\n",
              "      fill: #1967D2;\n",
              "      height: 32px;\n",
              "      padding: 0 0 0 0;\n",
              "      width: 32px;\n",
              "    }\n",
              "\n",
              "    .colab-df-convert:hover {\n",
              "      background-color: #E2EBFA;\n",
              "      box-shadow: 0px 1px 2px rgba(60, 64, 67, 0.3), 0px 1px 3px 1px rgba(60, 64, 67, 0.15);\n",
              "      fill: #174EA6;\n",
              "    }\n",
              "\n",
              "    [theme=dark] .colab-df-convert {\n",
              "      background-color: #3B4455;\n",
              "      fill: #D2E3FC;\n",
              "    }\n",
              "\n",
              "    [theme=dark] .colab-df-convert:hover {\n",
              "      background-color: #434B5C;\n",
              "      box-shadow: 0px 1px 3px 1px rgba(0, 0, 0, 0.15);\n",
              "      filter: drop-shadow(0px 1px 2px rgba(0, 0, 0, 0.3));\n",
              "      fill: #FFFFFF;\n",
              "    }\n",
              "  </style>\n",
              "\n",
              "      <script>\n",
              "        const buttonEl =\n",
              "          document.querySelector('#df-9e93f17c-e2b0-40a0-8be6-2fc57d9b6939 button.colab-df-convert');\n",
              "        buttonEl.style.display =\n",
              "          google.colab.kernel.accessAllowed ? 'block' : 'none';\n",
              "\n",
              "        async function convertToInteractive(key) {\n",
              "          const element = document.querySelector('#df-9e93f17c-e2b0-40a0-8be6-2fc57d9b6939');\n",
              "          const dataTable =\n",
              "            await google.colab.kernel.invokeFunction('convertToInteractive',\n",
              "                                                     [key], {});\n",
              "          if (!dataTable) return;\n",
              "\n",
              "          const docLinkHtml = 'Like what you see? Visit the ' +\n",
              "            '<a target=\"_blank\" href=https://colab.research.google.com/notebooks/data_table.ipynb>data table notebook</a>'\n",
              "            + ' to learn more about interactive tables.';\n",
              "          element.innerHTML = '';\n",
              "          dataTable['output_type'] = 'display_data';\n",
              "          await google.colab.output.renderOutput(dataTable, element);\n",
              "          const docLink = document.createElement('div');\n",
              "          docLink.innerHTML = docLinkHtml;\n",
              "          element.appendChild(docLink);\n",
              "        }\n",
              "      </script>\n",
              "    </div>\n",
              "  </div>\n",
              "  "
            ]
          },
          "metadata": {},
          "execution_count": 56
        }
      ]
    },
    {
      "cell_type": "code",
      "source": [
        "def hr_func(ts):\n",
        "    return ts.hour\n",
        "\n",
        "data['Hour'] = data['Time'].apply(hr_func)"
      ],
      "metadata": {
        "id": "e8eOPnXEIkA7"
      },
      "execution_count": null,
      "outputs": []
    },
    {
      "cell_type": "code",
      "execution_count": null,
      "metadata": {
        "id": "yaChdNcYH6oB",
        "outputId": "98e026fb-a27c-4be6-ce5c-141da539762e",
        "colab": {
          "base_uri": "https://localhost:8080/",
          "height": 206
        }
      },
      "outputs": [
        {
          "output_type": "execute_result",
          "data": {
            "text/plain": [
              "   Hour  is_fraud   Min      Max  Transactions         Sum        Mean  \\\n",
              "0     0         0  1.00  1891.39         14247  1047526.46   73.526108   \n",
              "1     0         1  6.12  1115.75           171    59315.76  346.875789   \n",
              "2     1         0  1.00  3887.64         14382  1089262.07   75.737872   \n",
              "3     1         1  5.60  1116.06           157    60410.96  384.783185   \n",
              "4     2         0  1.00  3288.68         14233  1080715.71   75.930282   \n",
              "\n",
              "   Median            Var  \n",
              "0   60.63    7393.717928  \n",
              "1  301.37  100007.320680  \n",
              "2   60.87    9922.482861  \n",
              "3  315.72   97173.443042  \n",
              "4   61.85    9487.896714  "
            ],
            "text/html": [
              "\n",
              "  <div id=\"df-bdf9387f-ee57-4d29-bb9d-7d803f43216c\">\n",
              "    <div class=\"colab-df-container\">\n",
              "      <div>\n",
              "<style scoped>\n",
              "    .dataframe tbody tr th:only-of-type {\n",
              "        vertical-align: middle;\n",
              "    }\n",
              "\n",
              "    .dataframe tbody tr th {\n",
              "        vertical-align: top;\n",
              "    }\n",
              "\n",
              "    .dataframe thead th {\n",
              "        text-align: right;\n",
              "    }\n",
              "</style>\n",
              "<table border=\"1\" class=\"dataframe\">\n",
              "  <thead>\n",
              "    <tr style=\"text-align: right;\">\n",
              "      <th></th>\n",
              "      <th>Hour</th>\n",
              "      <th>is_fraud</th>\n",
              "      <th>Min</th>\n",
              "      <th>Max</th>\n",
              "      <th>Transactions</th>\n",
              "      <th>Sum</th>\n",
              "      <th>Mean</th>\n",
              "      <th>Median</th>\n",
              "      <th>Var</th>\n",
              "    </tr>\n",
              "  </thead>\n",
              "  <tbody>\n",
              "    <tr>\n",
              "      <th>0</th>\n",
              "      <td>0</td>\n",
              "      <td>0</td>\n",
              "      <td>1.00</td>\n",
              "      <td>1891.39</td>\n",
              "      <td>14247</td>\n",
              "      <td>1047526.46</td>\n",
              "      <td>73.526108</td>\n",
              "      <td>60.63</td>\n",
              "      <td>7393.717928</td>\n",
              "    </tr>\n",
              "    <tr>\n",
              "      <th>1</th>\n",
              "      <td>0</td>\n",
              "      <td>1</td>\n",
              "      <td>6.12</td>\n",
              "      <td>1115.75</td>\n",
              "      <td>171</td>\n",
              "      <td>59315.76</td>\n",
              "      <td>346.875789</td>\n",
              "      <td>301.37</td>\n",
              "      <td>100007.320680</td>\n",
              "    </tr>\n",
              "    <tr>\n",
              "      <th>2</th>\n",
              "      <td>1</td>\n",
              "      <td>0</td>\n",
              "      <td>1.00</td>\n",
              "      <td>3887.64</td>\n",
              "      <td>14382</td>\n",
              "      <td>1089262.07</td>\n",
              "      <td>75.737872</td>\n",
              "      <td>60.87</td>\n",
              "      <td>9922.482861</td>\n",
              "    </tr>\n",
              "    <tr>\n",
              "      <th>3</th>\n",
              "      <td>1</td>\n",
              "      <td>1</td>\n",
              "      <td>5.60</td>\n",
              "      <td>1116.06</td>\n",
              "      <td>157</td>\n",
              "      <td>60410.96</td>\n",
              "      <td>384.783185</td>\n",
              "      <td>315.72</td>\n",
              "      <td>97173.443042</td>\n",
              "    </tr>\n",
              "    <tr>\n",
              "      <th>4</th>\n",
              "      <td>2</td>\n",
              "      <td>0</td>\n",
              "      <td>1.00</td>\n",
              "      <td>3288.68</td>\n",
              "      <td>14233</td>\n",
              "      <td>1080715.71</td>\n",
              "      <td>75.930282</td>\n",
              "      <td>61.85</td>\n",
              "      <td>9487.896714</td>\n",
              "    </tr>\n",
              "  </tbody>\n",
              "</table>\n",
              "</div>\n",
              "      <button class=\"colab-df-convert\" onclick=\"convertToInteractive('df-bdf9387f-ee57-4d29-bb9d-7d803f43216c')\"\n",
              "              title=\"Convert this dataframe to an interactive table.\"\n",
              "              style=\"display:none;\">\n",
              "        \n",
              "  <svg xmlns=\"http://www.w3.org/2000/svg\" height=\"24px\"viewBox=\"0 0 24 24\"\n",
              "       width=\"24px\">\n",
              "    <path d=\"M0 0h24v24H0V0z\" fill=\"none\"/>\n",
              "    <path d=\"M18.56 5.44l.94 2.06.94-2.06 2.06-.94-2.06-.94-.94-2.06-.94 2.06-2.06.94zm-11 1L8.5 8.5l.94-2.06 2.06-.94-2.06-.94L8.5 2.5l-.94 2.06-2.06.94zm10 10l.94 2.06.94-2.06 2.06-.94-2.06-.94-.94-2.06-.94 2.06-2.06.94z\"/><path d=\"M17.41 7.96l-1.37-1.37c-.4-.4-.92-.59-1.43-.59-.52 0-1.04.2-1.43.59L10.3 9.45l-7.72 7.72c-.78.78-.78 2.05 0 2.83L4 21.41c.39.39.9.59 1.41.59.51 0 1.02-.2 1.41-.59l7.78-7.78 2.81-2.81c.8-.78.8-2.07 0-2.86zM5.41 20L4 18.59l7.72-7.72 1.47 1.35L5.41 20z\"/>\n",
              "  </svg>\n",
              "      </button>\n",
              "      \n",
              "  <style>\n",
              "    .colab-df-container {\n",
              "      display:flex;\n",
              "      flex-wrap:wrap;\n",
              "      gap: 12px;\n",
              "    }\n",
              "\n",
              "    .colab-df-convert {\n",
              "      background-color: #E8F0FE;\n",
              "      border: none;\n",
              "      border-radius: 50%;\n",
              "      cursor: pointer;\n",
              "      display: none;\n",
              "      fill: #1967D2;\n",
              "      height: 32px;\n",
              "      padding: 0 0 0 0;\n",
              "      width: 32px;\n",
              "    }\n",
              "\n",
              "    .colab-df-convert:hover {\n",
              "      background-color: #E2EBFA;\n",
              "      box-shadow: 0px 1px 2px rgba(60, 64, 67, 0.3), 0px 1px 3px 1px rgba(60, 64, 67, 0.15);\n",
              "      fill: #174EA6;\n",
              "    }\n",
              "\n",
              "    [theme=dark] .colab-df-convert {\n",
              "      background-color: #3B4455;\n",
              "      fill: #D2E3FC;\n",
              "    }\n",
              "\n",
              "    [theme=dark] .colab-df-convert:hover {\n",
              "      background-color: #434B5C;\n",
              "      box-shadow: 0px 1px 3px 1px rgba(0, 0, 0, 0.15);\n",
              "      filter: drop-shadow(0px 1px 2px rgba(0, 0, 0, 0.3));\n",
              "      fill: #FFFFFF;\n",
              "    }\n",
              "  </style>\n",
              "\n",
              "      <script>\n",
              "        const buttonEl =\n",
              "          document.querySelector('#df-bdf9387f-ee57-4d29-bb9d-7d803f43216c button.colab-df-convert');\n",
              "        buttonEl.style.display =\n",
              "          google.colab.kernel.accessAllowed ? 'block' : 'none';\n",
              "\n",
              "        async function convertToInteractive(key) {\n",
              "          const element = document.querySelector('#df-bdf9387f-ee57-4d29-bb9d-7d803f43216c');\n",
              "          const dataTable =\n",
              "            await google.colab.kernel.invokeFunction('convertToInteractive',\n",
              "                                                     [key], {});\n",
              "          if (!dataTable) return;\n",
              "\n",
              "          const docLinkHtml = 'Like what you see? Visit the ' +\n",
              "            '<a target=\"_blank\" href=https://colab.research.google.com/notebooks/data_table.ipynb>data table notebook</a>'\n",
              "            + ' to learn more about interactive tables.';\n",
              "          element.innerHTML = '';\n",
              "          dataTable['output_type'] = 'display_data';\n",
              "          await google.colab.output.renderOutput(dataTable, element);\n",
              "          const docLink = document.createElement('div');\n",
              "          docLink.innerHTML = docLinkHtml;\n",
              "          element.appendChild(docLink);\n",
              "        }\n",
              "      </script>\n",
              "    </div>\n",
              "  </div>\n",
              "  "
            ]
          },
          "metadata": {},
          "execution_count": 63
        }
      ],
      "source": [
        "\n",
        "# Create a temp data frame With Hour ,is_fraud\t\n",
        "tmp = data.groupby(['Hour', 'is_fraud'])['amt'].aggregate(['min', 'max', 'count', 'sum', 'mean', 'median', 'var']).reset_index()\n",
        "df = pd.DataFrame(tmp)\n",
        "df.columns = ['Hour', 'is_fraud', 'Min', 'Max', 'Transactions', 'Sum', 'Mean', 'Median', 'Var']\n",
        "df.head()\n"
      ]
    },
    {
      "cell_type": "code",
      "execution_count": null,
      "metadata": {
        "id": "YymixTMAH6oC",
        "outputId": "e068dfb9-73b9-4e62-b087-cd9f0617f6e6",
        "colab": {
          "base_uri": "https://localhost:8080/",
          "height": 328
        }
      },
      "outputs": [
        {
          "output_type": "display_data",
          "data": {
            "text/plain": [
              "<Figure size 1296x432 with 2 Axes>"
            ],
            "image/png": "[encoded data removed]"
          },
          "metadata": {
            "needs_background": "light"
          }
        }
      ],
      "source": [
        "# Plot Total  Tran Amount Vs Hour : For Normal and Fraud Transactions \n",
        "\n",
        "fig, (ax1, ax2) = plt.subplots(ncols=2, figsize=(18,6))\n",
        "s = sns.lineplot(ax = ax1, x=\"Hour\", y=\"Sum\", data=df.loc[df.is_fraud==0])\n",
        "s = sns.lineplot(ax = ax2, x=\"Hour\", y=\"Sum\", data=df.loc[df.is_fraud==1], color=\"red\")\n",
        "plt.suptitle(\"Total Amount\")\n",
        "plt.show();"
      ]
    },
    {
      "cell_type": "code",
      "execution_count": null,
      "metadata": {
        "id": "LheSbHNOH6oC",
        "outputId": "4a80531a-d157-41a9-db50-5068f1b7e946",
        "colab": {
          "base_uri": "https://localhost:8080/",
          "height": 326
        }
      },
      "outputs": [
        {
          "output_type": "display_data",
          "data": {
            "text/plain": [
              "<Figure size 1296x432 with 2 Axes>"
            ],
            "image/png": "[encoded data removed]"
          },
          "metadata": {
            "needs_background": "light"
          }
        }
      ],
      "source": [
        "# Plot Count for Transactions  Vs Hour : For Normal and Fraud Transactions \n",
        "\n",
        "fig, (ax1, ax2) = plt.subplots(ncols=2, figsize=(18,6))\n",
        "s = sns.lineplot(ax = ax1, x=\"Hour\", y=\"Transactions\", data=df.loc[df.is_fraud==0])\n",
        "s = sns.lineplot(ax = ax2, x=\"Hour\", y=\"Transactions\", data=df.loc[df.is_fraud==1], color=\"red\")\n",
        "plt.suptitle(\"Total Number of Transactions\")\n",
        "plt.show();"
      ]
    },
    {
      "cell_type": "code",
      "execution_count": null,
      "metadata": {
        "id": "CSOKUPTBH6oD",
        "outputId": "b9cd64c4-034e-42df-cead-628cacced8cf",
        "colab": {
          "base_uri": "https://localhost:8080/",
          "height": 328
        }
      },
      "outputs": [
        {
          "output_type": "display_data",
          "data": {
            "text/plain": [
              "<Figure size 1296x432 with 2 Axes>"
            ],
            "image/png": "[encoded data removed]"
          },
          "metadata": {
            "needs_background": "light"
          }
        }
      ],
      "source": [
        "# Plot Total  Avg  Amount Vs Hour : For Normal and Fraud Transactions \n",
        "\n",
        "fig, (ax1, ax2) = plt.subplots(ncols=2, figsize=(18,6))\n",
        "s = sns.lineplot(ax = ax1, x=\"Hour\", y=\"Mean\", data=df.loc[df.is_fraud==0])\n",
        "s = sns.lineplot(ax = ax2, x=\"Hour\", y=\"Mean\", data=df.loc[df.is_fraud==1], color=\"red\")\n",
        "plt.suptitle(\"Average Amount of Transactions\")\n",
        "plt.show();\n",
        "\n"
      ]
    },
    {
      "cell_type": "code",
      "execution_count": null,
      "metadata": {
        "id": "i5fwTLSfH6oD",
        "outputId": "cbfb075d-2df4-464c-99d3-a17e610f3297",
        "colab": {
          "base_uri": "https://localhost:8080/",
          "height": 326
        }
      },
      "outputs": [
        {
          "output_type": "display_data",
          "data": {
            "text/plain": [
              "<Figure size 1296x432 with 2 Axes>"
            ],
            "image/png": "[encoded data removed]"
          },
          "metadata": {
            "needs_background": "light"
          }
        }
      ],
      "source": [
        "# Plot Max Amt of Transactions vs Hour for good Transactions Vs Fraud ones \n",
        "\n",
        "fig, (ax1, ax2) = plt.subplots(ncols=2, figsize=(18,6))\n",
        "s = sns.lineplot(ax = ax1, x=\"Hour\", y=\"Max\", data=df.loc[df.is_fraud==0])\n",
        "s = sns.lineplot(ax = ax2, x=\"Hour\", y=\"Max\", data=df.loc[df.is_fraud==1], color=\"red\")\n",
        "plt.suptitle(\"Maximum Amount of Transactions\")\n",
        "plt.show();\n",
        "\n"
      ]
    },
    {
      "cell_type": "code",
      "execution_count": null,
      "metadata": {
        "id": "8TbRzO_MH6oE",
        "outputId": "dcf28fe3-24f8-41c2-bb01-cdb8ef200b7f",
        "colab": {
          "base_uri": "https://localhost:8080/",
          "height": 331
        }
      },
      "outputs": [
        {
          "output_type": "display_data",
          "data": {
            "text/plain": [
              "<Figure size 1296x432 with 2 Axes>"
            ],
            "image/png": "[encoded data removed]"
          },
          "metadata": {
            "needs_background": "light"
          }
        }
      ],
      "source": [
        "# Plot Median Amt of Transactions vs Hour  \n",
        "\n",
        "fig, (ax1, ax2) = plt.subplots(ncols=2, figsize=(18,6))\n",
        "s = sns.lineplot(ax = ax1, x=\"Hour\", y=\"Median\", data=df.loc[df.is_fraud==0])\n",
        "s = sns.lineplot(ax = ax2, x=\"Hour\", y=\"Median\", data=df.loc[df.is_fraud==1], color=\"red\")\n",
        "plt.suptitle(\"Median Amount of Transactions\")\n",
        "plt.show();"
      ]
    },
    {
      "cell_type": "code",
      "execution_count": null,
      "metadata": {
        "id": "GpWlLI-RH6oE",
        "outputId": "ab2dd42c-7faf-4a9a-c3ac-3fbaf9669c84",
        "colab": {
          "base_uri": "https://localhost:8080/",
          "height": 328
        }
      },
      "outputs": [
        {
          "output_type": "display_data",
          "data": {
            "text/plain": [
              "<Figure size 1296x432 with 2 Axes>"
            ],
            "image/png": "[encoded data removed]"
          },
          "metadata": {
            "needs_background": "light"
          }
        }
      ],
      "source": [
        "# Plot Minimum Amt of Transactions vs Hour  \n",
        "\n",
        "fig, (ax1, ax2) = plt.subplots(ncols=2, figsize=(18,6))\n",
        "s = sns.lineplot(ax = ax1, x=\"Hour\", y=\"Min\", data=df.loc[df.is_fraud==0])\n",
        "s = sns.lineplot(ax = ax2, x=\"Hour\", y=\"Min\", data=df.loc[df.is_fraud==1], color=\"red\")\n",
        "plt.suptitle(\"Minimum Amount of Transactions\")\n",
        "plt.show();"
      ]
    },
    {
      "cell_type": "code",
      "execution_count": null,
      "metadata": {
        "id": "XMXjAGXXH6oF",
        "outputId": "3b76095e-6948-470f-c263-e95de555407d",
        "colab": {
          "base_uri": "https://localhost:8080/",
          "height": 389
        }
      },
      "outputs": [
        {
          "output_type": "display_data",
          "data": {
            "text/plain": [
              "<Figure size 864x432 with 2 Axes>"
            ],
            "image/png": "[encoded data removed]"
          },
          "metadata": {}
        }
      ],
      "source": [
        "# Box plots on Amount Vs class\n",
        "\n",
        "fig, (ax1, ax2) = plt.subplots(ncols=2, figsize=(12,6))\n",
        "s = sns.boxplot(ax = ax1, x=\"is_fraud\", y=\"amt\", hue=\"is_fraud\",data=data, palette=\"PRGn\",showfliers=True)\n",
        "s = sns.boxplot(ax = ax2, x=\"is_fraud\", y=\"amt\", hue=\"is_fraud\",data=data, palette=\"PRGn\",showfliers=False)\n",
        "plt.show();\n"
      ]
    },
    {
      "cell_type": "code",
      "execution_count": null,
      "metadata": {
        "id": "_VbhOVdLH6oH"
      },
      "outputs": [],
      "source": []
    }
  ],
  "metadata": {
    "kernelspec": {
      "display_name": "Python 3",
      "language": "python",
      "name": "python3"
    },
    "language_info": {
      "codemirror_mode": {
        "name": "ipython",
        "version": 3
      },
      "file_extension": ".py",
      "mimetype": "text/x-python",
      "name": "python",
      "nbconvert_exporter": "python",
      "pygments_lexer": "ipython3",
      "version": "3.8.3"
    },
    "colab": {
      "provenance": []
    },
    "gpuClass": "standard"
  },
  "nbformat": 4,
  "nbformat_minor": 0
}