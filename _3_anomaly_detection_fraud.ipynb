{
 "cells": [
  {
   "cell_type": "markdown",
   "metadata": {
    "id": "tqoDpDsUIbHi"
   },
   "source": [
    "**Anomaly Detection - Credit Card Fraud Analysis**"
   ]
  },
  {
   "cell_type": "code",
   "execution_count": null,
   "metadata": {
    "colab": {
     "base_uri": "https://localhost:8080/"
    },
    "id": "JI6l6vR4IbHp",
    "outputId": "283efac3-7560-4852-e82d-662ff1713fb8"
   },
   "outputs": [
    {
     "name": "stdout",
     "output_type": "stream",
     "text": [
      "Looking in indexes: https://pypi.org/simple, https://us-python.pkg.dev/colab-wheels/public/simple/\n",
      "Requirement already satisfied: plotly in /usr/local/lib/python3.8/dist-packages (5.5.0)\n",
      "Requirement already satisfied: tenacity>=6.2.0 in /usr/local/lib/python3.8/dist-packages (from plotly) (8.1.0)\n",
      "Requirement already satisfied: six in /usr/local/lib/python3.8/dist-packages (from plotly) (1.15.0)\n"
     ]
    }
   ],
   "source": [
    "!pip install plotly"
   ]
  },
  {
   "cell_type": "code",
   "execution_count": null,
   "metadata": {
    "id": "j-yhT2voIbHr"
   },
   "outputs": [],
   "source": [
    "\n",
    "\n",
    "import numpy as np\n",
    "import pandas as pd\n",
    "import sklearn\n",
    "import scipy\n",
    "import matplotlib.pyplot as plt\n",
    "import seaborn as sns\n",
    "from sklearn.metrics import classification_report,accuracy_score\n",
    "from sklearn.ensemble import IsolationForest\n",
    "from sklearn.neighbors import LocalOutlierFactor\n",
    "from sklearn.svm import OneClassSVM\n",
    "from pylab import rcParams\n",
    "rcParams['figure.figsize'] = 14, 8\n",
    "RANDOM_SEED = 42\n",
    "LABELS = [\"Normal\", \"Fraud\"]\n"
   ]
  },
  {
   "cell_type": "code",
   "execution_count": null,
   "metadata": {
    "colab": {
     "base_uri": "https://localhost:8080/",
     "height": 525
    },
    "id": "3LW2qtFYIbHr",
    "outputId": "7ed27774-780a-43b5-fca7-316ac3b06c67"
   },
   "outputs": [
    {
     "data": {
      "text/html": [
       "\n",
       "  <div id=\"df-8d1900bc-5257-441d-987e-984375de8b5c\">\n",
       "    <div class=\"colab-df-container\">\n",
       "      <div>\n",
       "<style scoped>\n",
       "    .dataframe tbody tr th:only-of-type {\n",
       "        vertical-align: middle;\n",
       "    }\n",
       "\n",
       "    .dataframe tbody tr th {\n",
       "        vertical-align: top;\n",
       "    }\n",
       "\n",
       "    .dataframe thead th {\n",
       "        text-align: right;\n",
       "    }\n",
       "</style>\n",
       "<table border=\"1\" class=\"dataframe\">\n",
       "  <thead>\n",
       "    <tr style=\"text-align: right;\">\n",
       "      <th></th>\n",
       "      <th>Unnamed: 0</th>\n",
       "      <th>trans_date_trans_time</th>\n",
       "      <th>cc_num</th>\n",
       "      <th>merchant</th>\n",
       "      <th>category</th>\n",
       "      <th>amt</th>\n",
       "      <th>first</th>\n",
       "      <th>last</th>\n",
       "      <th>gender</th>\n",
       "      <th>street</th>\n",
       "      <th>...</th>\n",
       "      <th>lat</th>\n",
       "      <th>long</th>\n",
       "      <th>city_pop</th>\n",
       "      <th>job</th>\n",
       "      <th>dob</th>\n",
       "      <th>trans_num</th>\n",
       "      <th>unix_time</th>\n",
       "      <th>merch_lat</th>\n",
       "      <th>merch_long</th>\n",
       "      <th>is_fraud</th>\n",
       "    </tr>\n",
       "  </thead>\n",
       "  <tbody>\n",
       "    <tr>\n",
       "      <th>0</th>\n",
       "      <td>0</td>\n",
       "      <td>2020-06-21 12:14:25</td>\n",
       "      <td>2291163933867244</td>\n",
       "      <td>fraud_Kirlin and Sons</td>\n",
       "      <td>personal_care</td>\n",
       "      <td>2.86</td>\n",
       "      <td>Jeff</td>\n",
       "      <td>Elliott</td>\n",
       "      <td>M</td>\n",
       "      <td>351 Darlene Green</td>\n",
       "      <td>...</td>\n",
       "      <td>33.9659</td>\n",
       "      <td>-80.9355</td>\n",
       "      <td>333497</td>\n",
       "      <td>Mechanical engineer</td>\n",
       "      <td>1968-03-19</td>\n",
       "      <td>2da90c7d74bd46a0caf3777415b3ebd3</td>\n",
       "      <td>1.371817e+09</td>\n",
       "      <td>33.986391</td>\n",
       "      <td>-81.200714</td>\n",
       "      <td>0.0</td>\n",
       "    </tr>\n",
       "    <tr>\n",
       "      <th>1</th>\n",
       "      <td>1</td>\n",
       "      <td>2020-06-21 12:14:33</td>\n",
       "      <td>3573030041201292</td>\n",
       "      <td>fraud_Sporer-Keebler</td>\n",
       "      <td>personal_care</td>\n",
       "      <td>29.84</td>\n",
       "      <td>Joanne</td>\n",
       "      <td>Williams</td>\n",
       "      <td>F</td>\n",
       "      <td>3638 Marsh Union</td>\n",
       "      <td>...</td>\n",
       "      <td>40.3207</td>\n",
       "      <td>-110.4360</td>\n",
       "      <td>302</td>\n",
       "      <td>Sales professional, IT</td>\n",
       "      <td>1990-01-17</td>\n",
       "      <td>324cc204407e99f51b0d6ca0055005e7</td>\n",
       "      <td>1.371817e+09</td>\n",
       "      <td>39.450498</td>\n",
       "      <td>-109.960431</td>\n",
       "      <td>0.0</td>\n",
       "    </tr>\n",
       "    <tr>\n",
       "      <th>2</th>\n",
       "      <td>2</td>\n",
       "      <td>2020-06-21 12:14:53</td>\n",
       "      <td>3598215285024754</td>\n",
       "      <td>fraud_Swaniawski, Nitzsche and Welch</td>\n",
       "      <td>health_fitness</td>\n",
       "      <td>41.28</td>\n",
       "      <td>Ashley</td>\n",
       "      <td>Lopez</td>\n",
       "      <td>F</td>\n",
       "      <td>9333 Valentine Point</td>\n",
       "      <td>...</td>\n",
       "      <td>40.6729</td>\n",
       "      <td>-73.5365</td>\n",
       "      <td>34496</td>\n",
       "      <td>Librarian, public</td>\n",
       "      <td>1970-10-21</td>\n",
       "      <td>c81755dbbbea9d5c77f094348a7579be</td>\n",
       "      <td>1.371817e+09</td>\n",
       "      <td>40.495810</td>\n",
       "      <td>-74.196111</td>\n",
       "      <td>0.0</td>\n",
       "    </tr>\n",
       "    <tr>\n",
       "      <th>3</th>\n",
       "      <td>3</td>\n",
       "      <td>2020-06-21 12:15:15</td>\n",
       "      <td>3591919803438423</td>\n",
       "      <td>fraud_Haley Group</td>\n",
       "      <td>misc_pos</td>\n",
       "      <td>60.05</td>\n",
       "      <td>Brian</td>\n",
       "      <td>Williams</td>\n",
       "      <td>M</td>\n",
       "      <td>32941 Krystal Mill Apt. 552</td>\n",
       "      <td>...</td>\n",
       "      <td>28.5697</td>\n",
       "      <td>-80.8191</td>\n",
       "      <td>54767</td>\n",
       "      <td>Set designer</td>\n",
       "      <td>1987-07-25</td>\n",
       "      <td>2159175b9efe66dc301f149d3d5abf8c</td>\n",
       "      <td>1.371817e+09</td>\n",
       "      <td>28.812398</td>\n",
       "      <td>-80.883061</td>\n",
       "      <td>0.0</td>\n",
       "    </tr>\n",
       "    <tr>\n",
       "      <th>4</th>\n",
       "      <td>4</td>\n",
       "      <td>2020-06-21 12:15:17</td>\n",
       "      <td>3526826139003047</td>\n",
       "      <td>fraud_Johnston-Casper</td>\n",
       "      <td>travel</td>\n",
       "      <td>3.19</td>\n",
       "      <td>Nathan</td>\n",
       "      <td>Massey</td>\n",
       "      <td>M</td>\n",
       "      <td>5783 Evan Roads Apt. 465</td>\n",
       "      <td>...</td>\n",
       "      <td>44.2529</td>\n",
       "      <td>-85.0170</td>\n",
       "      <td>1126</td>\n",
       "      <td>Furniture designer</td>\n",
       "      <td>1955-07-06</td>\n",
       "      <td>57ff021bd3f328f8738bb535c302a31b</td>\n",
       "      <td>1.371817e+09</td>\n",
       "      <td>44.959148</td>\n",
       "      <td>-85.884734</td>\n",
       "      <td>0.0</td>\n",
       "    </tr>\n",
       "  </tbody>\n",
       "</table>\n",
       "<p>5 rows × 23 columns</p>\n",
       "</div>\n",
       "      <button class=\"colab-df-convert\" onclick=\"convertToInteractive('df-8d1900bc-5257-441d-987e-984375de8b5c')\"\n",
       "              title=\"Convert this dataframe to an interactive table.\"\n",
       "              style=\"display:none;\">\n",
       "        \n",
       "  <svg xmlns=\"http://www.w3.org/2000/svg\" height=\"24px\"viewBox=\"0 0 24 24\"\n",
       "       width=\"24px\">\n",
       "    <path d=\"M0 0h24v24H0V0z\" fill=\"none\"/>\n",
       "    <path d=\"M18.56 5.44l.94 2.06.94-2.06 2.06-.94-2.06-.94-.94-2.06-.94 2.06-2.06.94zm-11 1L8.5 8.5l.94-2.06 2.06-.94-2.06-.94L8.5 2.5l-.94 2.06-2.06.94zm10 10l.94 2.06.94-2.06 2.06-.94-2.06-.94-.94-2.06-.94 2.06-2.06.94z\"/><path d=\"M17.41 7.96l-1.37-1.37c-.4-.4-.92-.59-1.43-.59-.52 0-1.04.2-1.43.59L10.3 9.45l-7.72 7.72c-.78.78-.78 2.05 0 2.83L4 21.41c.39.39.9.59 1.41.59.51 0 1.02-.2 1.41-.59l7.78-7.78 2.81-2.81c.8-.78.8-2.07 0-2.86zM5.41 20L4 18.59l7.72-7.72 1.47 1.35L5.41 20z\"/>\n",
       "  </svg>\n",
       "      </button>\n",
       "      \n",
       "  <style>\n",
       "    .colab-df-container {\n",
       "      display:flex;\n",
       "      flex-wrap:wrap;\n",
       "      gap: 12px;\n",
       "    }\n",
       "\n",
       "    .colab-df-convert {\n",
       "      background-color: #E8F0FE;\n",
       "      border: none;\n",
       "      border-radius: 50%;\n",
       "      cursor: pointer;\n",
       "      display: none;\n",
       "      fill: #1967D2;\n",
       "      height: 32px;\n",
       "      padding: 0 0 0 0;\n",
       "      width: 32px;\n",
       "    }\n",
       "\n",
       "    .colab-df-convert:hover {\n",
       "      background-color: #E2EBFA;\n",
       "      box-shadow: 0px 1px 2px rgba(60, 64, 67, 0.3), 0px 1px 3px 1px rgba(60, 64, 67, 0.15);\n",
       "      fill: #174EA6;\n",
       "    }\n",
       "\n",
       "    [theme=dark] .colab-df-convert {\n",
       "      background-color: #3B4455;\n",
       "      fill: #D2E3FC;\n",
       "    }\n",
       "\n",
       "    [theme=dark] .colab-df-convert:hover {\n",
       "      background-color: #434B5C;\n",
       "      box-shadow: 0px 1px 3px 1px rgba(0, 0, 0, 0.15);\n",
       "      filter: drop-shadow(0px 1px 2px rgba(0, 0, 0, 0.3));\n",
       "      fill: #FFFFFF;\n",
       "    }\n",
       "  </style>\n",
       "\n",
       "      <script>\n",
       "        const buttonEl =\n",
       "          document.querySelector('#df-8d1900bc-5257-441d-987e-984375de8b5c button.colab-df-convert');\n",
       "        buttonEl.style.display =\n",
       "          google.colab.kernel.accessAllowed ? 'block' : 'none';\n",
       "\n",
       "        async function convertToInteractive(key) {\n",
       "          const element = document.querySelector('#df-8d1900bc-5257-441d-987e-984375de8b5c');\n",
       "          const dataTable =\n",
       "            await google.colab.kernel.invokeFunction('convertToInteractive',\n",
       "                                                     [key], {});\n",
       "          if (!dataTable) return;\n",
       "\n",
       "          const docLinkHtml = 'Like what you see? Visit the ' +\n",
       "            '<a target=\"_blank\" href=https://colab.research.google.com/notebooks/data_table.ipynb>data table notebook</a>'\n",
       "            + ' to learn more about interactive tables.';\n",
       "          element.innerHTML = '';\n",
       "          dataTable['output_type'] = 'display_data';\n",
       "          await google.colab.output.renderOutput(dataTable, element);\n",
       "          const docLink = document.createElement('div');\n",
       "          docLink.innerHTML = docLinkHtml;\n",
       "          element.appendChild(docLink);\n",
       "        }\n",
       "      </script>\n",
       "    </div>\n",
       "  </div>\n",
       "  "
      ],
      "text/plain": [
       "   Unnamed: 0 trans_date_trans_time            cc_num  \\\n",
       "0           0   2020-06-21 12:14:25  2291163933867244   \n",
       "1           1   2020-06-21 12:14:33  3573030041201292   \n",
       "2           2   2020-06-21 12:14:53  3598215285024754   \n",
       "3           3   2020-06-21 12:15:15  3591919803438423   \n",
       "4           4   2020-06-21 12:15:17  3526826139003047   \n",
       "\n",
       "                               merchant        category    amt   first  \\\n",
       "0                 fraud_Kirlin and Sons   personal_care   2.86    Jeff   \n",
       "1                  fraud_Sporer-Keebler   personal_care  29.84  Joanne   \n",
       "2  fraud_Swaniawski, Nitzsche and Welch  health_fitness  41.28  Ashley   \n",
       "3                     fraud_Haley Group        misc_pos  60.05   Brian   \n",
       "4                 fraud_Johnston-Casper          travel   3.19  Nathan   \n",
       "\n",
       "       last gender                       street  ...      lat      long  \\\n",
       "0   Elliott      M            351 Darlene Green  ...  33.9659  -80.9355   \n",
       "1  Williams      F             3638 Marsh Union  ...  40.3207 -110.4360   \n",
       "2     Lopez      F         9333 Valentine Point  ...  40.6729  -73.5365   \n",
       "3  Williams      M  32941 Krystal Mill Apt. 552  ...  28.5697  -80.8191   \n",
       "4    Massey      M     5783 Evan Roads Apt. 465  ...  44.2529  -85.0170   \n",
       "\n",
       "   city_pop                     job         dob  \\\n",
       "0    333497     Mechanical engineer  1968-03-19   \n",
       "1       302  Sales professional, IT  1990-01-17   \n",
       "2     34496       Librarian, public  1970-10-21   \n",
       "3     54767            Set designer  1987-07-25   \n",
       "4      1126      Furniture designer  1955-07-06   \n",
       "\n",
       "                          trans_num     unix_time  merch_lat  merch_long  \\\n",
       "0  2da90c7d74bd46a0caf3777415b3ebd3  1.371817e+09  33.986391  -81.200714   \n",
       "1  324cc204407e99f51b0d6ca0055005e7  1.371817e+09  39.450498 -109.960431   \n",
       "2  c81755dbbbea9d5c77f094348a7579be  1.371817e+09  40.495810  -74.196111   \n",
       "3  2159175b9efe66dc301f149d3d5abf8c  1.371817e+09  28.812398  -80.883061   \n",
       "4  57ff021bd3f328f8738bb535c302a31b  1.371817e+09  44.959148  -85.884734   \n",
       "\n",
       "   is_fraud  \n",
       "0       0.0  \n",
       "1       0.0  \n",
       "2       0.0  \n",
       "3       0.0  \n",
       "4       0.0  \n",
       "\n",
       "[5 rows x 23 columns]"
      ]
     },
     "execution_count": 35,
     "metadata": {},
     "output_type": "execute_result"
    }
   ],
   "source": [
    "df = pd.read_csv('/content/fraud.csv')\n",
    "df.head()"
   ]
  },
  {
   "cell_type": "code",
   "execution_count": null,
   "metadata": {
    "id": "Y1YKMTJfa2ZU"
   },
   "outputs": [],
   "source": [
    "df=df.drop(['Unnamed: 0'], axis=1)"
   ]
  },
  {
   "cell_type": "code",
   "execution_count": null,
   "metadata": {
    "colab": {
     "base_uri": "https://localhost:8080/"
    },
    "id": "f_owKZdopRIJ",
    "outputId": "d8e498bd-96e4-4ada-9fcd-43df2f3791a8"
   },
   "outputs": [
    {
     "name": "stdout",
     "output_type": "stream",
     "text": [
      "<class 'pandas.core.frame.DataFrame'>\n",
      "RangeIndex: 11697 entries, 0 to 11696\n",
      "Data columns (total 22 columns):\n",
      " #   Column                 Non-Null Count  Dtype\n",
      "---  ------                 --------------  -----\n",
      " 0   trans_date_trans_time  11697 non-null  int64\n",
      " 1   cc_num                 11697 non-null  int64\n",
      " 2   merchant               11697 non-null  int64\n",
      " 3   category               11697 non-null  int64\n",
      " 4   amt                    11697 non-null  int64\n",
      " 5   first                  11697 non-null  int64\n",
      " 6   last                   11697 non-null  int64\n",
      " 7   gender                 11697 non-null  int64\n",
      " 8   street                 11697 non-null  int64\n",
      " 9   city                   11697 non-null  int64\n",
      " 10  state                  11697 non-null  int64\n",
      " 11  zip                    11697 non-null  int64\n",
      " 12  lat                    11697 non-null  int64\n",
      " 13  long                   11697 non-null  int64\n",
      " 14  city_pop               11697 non-null  int64\n",
      " 15  job                    11697 non-null  int64\n",
      " 16  dob                    11697 non-null  int64\n",
      " 17  trans_num              11697 non-null  int64\n",
      " 18  unix_time              11697 non-null  int64\n",
      " 19  merch_lat              11697 non-null  int64\n",
      " 20  merch_long             11697 non-null  int64\n",
      " 21  is_fraud               11697 non-null  int64\n",
      "dtypes: int64(22)\n",
      "memory usage: 2.0 MB\n",
      "None\n"
     ]
    }
   ],
   "source": [
    "from sklearn.preprocessing import LabelEncoder #encoder package of sklearn\n",
    "le = LabelEncoder() #le variable has been assigned a labelencoder function\n",
    "\n",
    "for col in df.columns:\n",
    "    df[col] = le.fit_transform(df[col].astype(str))\n",
    "\n",
    "print (df.info())"
   ]
  },
  {
   "cell_type": "code",
   "execution_count": null,
   "metadata": {
    "colab": {
     "base_uri": "https://localhost:8080/"
    },
    "id": "tV-tRka5IbHs",
    "outputId": "b5621e51-ec5a-41b3-e360-71c1f9f94f70"
   },
   "outputs": [
    {
     "data": {
      "text/plain": [
       "(1170, 22)"
      ]
     },
     "execution_count": 38,
     "metadata": {},
     "output_type": "execute_result"
    }
   ],
   "source": [
    "df1= df.sample(frac = 0.1,random_state=1)\n",
    "df1.shape"
   ]
  },
  {
   "cell_type": "code",
   "execution_count": null,
   "metadata": {
    "id": "QpVBGNmHa1CC"
   },
   "outputs": [],
   "source": []
  },
  {
   "cell_type": "code",
   "execution_count": null,
   "metadata": {
    "colab": {
     "base_uri": "https://localhost:8080/"
    },
    "id": "mekN7p2tIbHs",
    "outputId": "f50f277c-5f6d-4cb1-ed73-0c97e1d6597a"
   },
   "outputs": [
    {
     "data": {
      "text/plain": [
       "trans_date_trans_time    0\n",
       "cc_num                   0\n",
       "merchant                 0\n",
       "category                 0\n",
       "amt                      0\n",
       "first                    0\n",
       "last                     0\n",
       "gender                   0\n",
       "street                   0\n",
       "city                     0\n",
       "state                    0\n",
       "zip                      0\n",
       "lat                      0\n",
       "long                     0\n",
       "city_pop                 0\n",
       "job                      0\n",
       "dob                      0\n",
       "trans_num                0\n",
       "unix_time                0\n",
       "merch_lat                0\n",
       "merch_long               0\n",
       "is_fraud                 0\n",
       "dtype: int64"
      ]
     },
     "execution_count": 39,
     "metadata": {},
     "output_type": "execute_result"
    }
   ],
   "source": [
    "# Checking the missing values \n",
    "df.isnull().sum()"
   ]
  },
  {
   "cell_type": "markdown",
   "metadata": {
    "id": "iaeYrzKVIbHs"
   },
   "source": [
    "From the above table - There are no missing values in the dataset"
   ]
  },
  {
   "cell_type": "code",
   "execution_count": null,
   "metadata": {
    "colab": {
     "base_uri": "https://localhost:8080/",
     "height": 394
    },
    "id": "d5bRvCcxIbHt",
    "outputId": "c03403be-3b8c-43ef-8873-a4111f5f5de7"
   },
   "outputs": [
    {
     "data": {
      "text/html": [
       "\n",
       "  <div id=\"df-afadac31-a460-412a-8c40-76e01daa7473\">\n",
       "    <div class=\"colab-df-container\">\n",
       "      <div>\n",
       "<style scoped>\n",
       "    .dataframe tbody tr th:only-of-type {\n",
       "        vertical-align: middle;\n",
       "    }\n",
       "\n",
       "    .dataframe tbody tr th {\n",
       "        vertical-align: top;\n",
       "    }\n",
       "\n",
       "    .dataframe thead th {\n",
       "        text-align: right;\n",
       "    }\n",
       "</style>\n",
       "<table border=\"1\" class=\"dataframe\">\n",
       "  <thead>\n",
       "    <tr style=\"text-align: right;\">\n",
       "      <th></th>\n",
       "      <th>trans_date_trans_time</th>\n",
       "      <th>cc_num</th>\n",
       "      <th>merchant</th>\n",
       "      <th>category</th>\n",
       "      <th>amt</th>\n",
       "      <th>first</th>\n",
       "      <th>last</th>\n",
       "      <th>gender</th>\n",
       "      <th>street</th>\n",
       "      <th>city</th>\n",
       "      <th>...</th>\n",
       "      <th>lat</th>\n",
       "      <th>long</th>\n",
       "      <th>city_pop</th>\n",
       "      <th>job</th>\n",
       "      <th>dob</th>\n",
       "      <th>trans_num</th>\n",
       "      <th>unix_time</th>\n",
       "      <th>merch_lat</th>\n",
       "      <th>merch_long</th>\n",
       "      <th>is_fraud</th>\n",
       "    </tr>\n",
       "  </thead>\n",
       "  <tbody>\n",
       "    <tr>\n",
       "      <th>count</th>\n",
       "      <td>11697.000000</td>\n",
       "      <td>11697.000000</td>\n",
       "      <td>11697.000000</td>\n",
       "      <td>11697.000000</td>\n",
       "      <td>11697.000000</td>\n",
       "      <td>11697.000000</td>\n",
       "      <td>11697.000000</td>\n",
       "      <td>11697.000000</td>\n",
       "      <td>11697.000000</td>\n",
       "      <td>11697.000000</td>\n",
       "      <td>...</td>\n",
       "      <td>11697.000000</td>\n",
       "      <td>11697.000000</td>\n",
       "      <td>11697.000000</td>\n",
       "      <td>11697.000000</td>\n",
       "      <td>11697.000000</td>\n",
       "      <td>11697.000000</td>\n",
       "      <td>11697.000000</td>\n",
       "      <td>11697.000000</td>\n",
       "      <td>11697.000000</td>\n",
       "      <td>11697.000000</td>\n",
       "    </tr>\n",
       "    <tr>\n",
       "      <th>mean</th>\n",
       "      <td>5718.969479</td>\n",
       "      <td>451.177225</td>\n",
       "      <td>345.241173</td>\n",
       "      <td>6.397367</td>\n",
       "      <td>3750.754125</td>\n",
       "      <td>170.531846</td>\n",
       "      <td>244.953407</td>\n",
       "      <td>0.445670</td>\n",
       "      <td>449.051552</td>\n",
       "      <td>418.297854</td>\n",
       "      <td>...</td>\n",
       "      <td>439.302984</td>\n",
       "      <td>447.928785</td>\n",
       "      <td>406.101137</td>\n",
       "      <td>239.447722</td>\n",
       "      <td>490.833889</td>\n",
       "      <td>5848.000000</td>\n",
       "      <td>5718.969479</td>\n",
       "      <td>5847.409849</td>\n",
       "      <td>5848.000000</td>\n",
       "      <td>0.002650</td>\n",
       "    </tr>\n",
       "    <tr>\n",
       "      <th>std</th>\n",
       "      <td>3302.417726</td>\n",
       "      <td>261.413036</td>\n",
       "      <td>202.787532</td>\n",
       "      <td>3.912136</td>\n",
       "      <td>2080.049564</td>\n",
       "      <td>94.757875</td>\n",
       "      <td>133.631772</td>\n",
       "      <td>0.497061</td>\n",
       "      <td>259.216150</td>\n",
       "      <td>241.386412</td>\n",
       "      <td>...</td>\n",
       "      <td>260.779262</td>\n",
       "      <td>256.537649</td>\n",
       "      <td>235.375901</td>\n",
       "      <td>134.466686</td>\n",
       "      <td>252.040884</td>\n",
       "      <td>3376.777384</td>\n",
       "      <td>3302.417726</td>\n",
       "      <td>3376.133079</td>\n",
       "      <td>3376.777384</td>\n",
       "      <td>0.053051</td>\n",
       "    </tr>\n",
       "    <tr>\n",
       "      <th>min</th>\n",
       "      <td>0.000000</td>\n",
       "      <td>0.000000</td>\n",
       "      <td>0.000000</td>\n",
       "      <td>0.000000</td>\n",
       "      <td>0.000000</td>\n",
       "      <td>0.000000</td>\n",
       "      <td>0.000000</td>\n",
       "      <td>0.000000</td>\n",
       "      <td>0.000000</td>\n",
       "      <td>0.000000</td>\n",
       "      <td>...</td>\n",
       "      <td>0.000000</td>\n",
       "      <td>0.000000</td>\n",
       "      <td>0.000000</td>\n",
       "      <td>0.000000</td>\n",
       "      <td>0.000000</td>\n",
       "      <td>0.000000</td>\n",
       "      <td>0.000000</td>\n",
       "      <td>0.000000</td>\n",
       "      <td>0.000000</td>\n",
       "      <td>0.000000</td>\n",
       "    </tr>\n",
       "    <tr>\n",
       "      <th>25%</th>\n",
       "      <td>2862.000000</td>\n",
       "      <td>224.000000</td>\n",
       "      <td>167.000000</td>\n",
       "      <td>3.000000</td>\n",
       "      <td>2076.000000</td>\n",
       "      <td>85.000000</td>\n",
       "      <td>135.000000</td>\n",
       "      <td>0.000000</td>\n",
       "      <td>228.000000</td>\n",
       "      <td>206.000000</td>\n",
       "      <td>...</td>\n",
       "      <td>208.000000</td>\n",
       "      <td>232.000000</td>\n",
       "      <td>205.000000</td>\n",
       "      <td>121.000000</td>\n",
       "      <td>293.000000</td>\n",
       "      <td>2924.000000</td>\n",
       "      <td>2862.000000</td>\n",
       "      <td>2924.000000</td>\n",
       "      <td>2924.000000</td>\n",
       "      <td>0.000000</td>\n",
       "    </tr>\n",
       "    <tr>\n",
       "      <th>50%</th>\n",
       "      <td>5713.000000</td>\n",
       "      <td>445.000000</td>\n",
       "      <td>347.000000</td>\n",
       "      <td>6.000000</td>\n",
       "      <td>3802.000000</td>\n",
       "      <td>174.000000</td>\n",
       "      <td>248.000000</td>\n",
       "      <td>0.000000</td>\n",
       "      <td>448.000000</td>\n",
       "      <td>412.000000</td>\n",
       "      <td>...</td>\n",
       "      <td>434.000000</td>\n",
       "      <td>445.000000</td>\n",
       "      <td>403.000000</td>\n",
       "      <td>237.000000</td>\n",
       "      <td>509.000000</td>\n",
       "      <td>5848.000000</td>\n",
       "      <td>5713.000000</td>\n",
       "      <td>5848.000000</td>\n",
       "      <td>5848.000000</td>\n",
       "      <td>0.000000</td>\n",
       "    </tr>\n",
       "    <tr>\n",
       "      <th>75%</th>\n",
       "      <td>8578.000000</td>\n",
       "      <td>683.000000</td>\n",
       "      <td>521.000000</td>\n",
       "      <td>10.000000</td>\n",
       "      <td>5565.000000</td>\n",
       "      <td>246.000000</td>\n",
       "      <td>362.000000</td>\n",
       "      <td>1.000000</td>\n",
       "      <td>669.000000</td>\n",
       "      <td>633.000000</td>\n",
       "      <td>...</td>\n",
       "      <td>663.000000</td>\n",
       "      <td>673.000000</td>\n",
       "      <td>615.000000</td>\n",
       "      <td>358.000000</td>\n",
       "      <td>701.000000</td>\n",
       "      <td>8772.000000</td>\n",
       "      <td>8578.000000</td>\n",
       "      <td>8771.000000</td>\n",
       "      <td>8772.000000</td>\n",
       "      <td>0.000000</td>\n",
       "    </tr>\n",
       "    <tr>\n",
       "      <th>max</th>\n",
       "      <td>11448.000000</td>\n",
       "      <td>905.000000</td>\n",
       "      <td>692.000000</td>\n",
       "      <td>13.000000</td>\n",
       "      <td>7279.000000</td>\n",
       "      <td>337.000000</td>\n",
       "      <td>464.000000</td>\n",
       "      <td>1.000000</td>\n",
       "      <td>905.000000</td>\n",
       "      <td>834.000000</td>\n",
       "      <td>...</td>\n",
       "      <td>892.000000</td>\n",
       "      <td>892.000000</td>\n",
       "      <td>820.000000</td>\n",
       "      <td>474.000000</td>\n",
       "      <td>891.000000</td>\n",
       "      <td>11696.000000</td>\n",
       "      <td>11448.000000</td>\n",
       "      <td>11694.000000</td>\n",
       "      <td>11696.000000</td>\n",
       "      <td>2.000000</td>\n",
       "    </tr>\n",
       "  </tbody>\n",
       "</table>\n",
       "<p>8 rows × 22 columns</p>\n",
       "</div>\n",
       "      <button class=\"colab-df-convert\" onclick=\"convertToInteractive('df-afadac31-a460-412a-8c40-76e01daa7473')\"\n",
       "              title=\"Convert this dataframe to an interactive table.\"\n",
       "              style=\"display:none;\">\n",
       "        \n",
       "  <svg xmlns=\"http://www.w3.org/2000/svg\" height=\"24px\"viewBox=\"0 0 24 24\"\n",
       "       width=\"24px\">\n",
       "    <path d=\"M0 0h24v24H0V0z\" fill=\"none\"/>\n",
       "    <path d=\"M18.56 5.44l.94 2.06.94-2.06 2.06-.94-2.06-.94-.94-2.06-.94 2.06-2.06.94zm-11 1L8.5 8.5l.94-2.06 2.06-.94-2.06-.94L8.5 2.5l-.94 2.06-2.06.94zm10 10l.94 2.06.94-2.06 2.06-.94-2.06-.94-.94-2.06-.94 2.06-2.06.94z\"/><path d=\"M17.41 7.96l-1.37-1.37c-.4-.4-.92-.59-1.43-.59-.52 0-1.04.2-1.43.59L10.3 9.45l-7.72 7.72c-.78.78-.78 2.05 0 2.83L4 21.41c.39.39.9.59 1.41.59.51 0 1.02-.2 1.41-.59l7.78-7.78 2.81-2.81c.8-.78.8-2.07 0-2.86zM5.41 20L4 18.59l7.72-7.72 1.47 1.35L5.41 20z\"/>\n",
       "  </svg>\n",
       "      </button>\n",
       "      \n",
       "  <style>\n",
       "    .colab-df-container {\n",
       "      display:flex;\n",
       "      flex-wrap:wrap;\n",
       "      gap: 12px;\n",
       "    }\n",
       "\n",
       "    .colab-df-convert {\n",
       "      background-color: #E8F0FE;\n",
       "      border: none;\n",
       "      border-radius: 50%;\n",
       "      cursor: pointer;\n",
       "      display: none;\n",
       "      fill: #1967D2;\n",
       "      height: 32px;\n",
       "      padding: 0 0 0 0;\n",
       "      width: 32px;\n",
       "    }\n",
       "\n",
       "    .colab-df-convert:hover {\n",
       "      background-color: #E2EBFA;\n",
       "      box-shadow: 0px 1px 2px rgba(60, 64, 67, 0.3), 0px 1px 3px 1px rgba(60, 64, 67, 0.15);\n",
       "      fill: #174EA6;\n",
       "    }\n",
       "\n",
       "    [theme=dark] .colab-df-convert {\n",
       "      background-color: #3B4455;\n",
       "      fill: #D2E3FC;\n",
       "    }\n",
       "\n",
       "    [theme=dark] .colab-df-convert:hover {\n",
       "      background-color: #434B5C;\n",
       "      box-shadow: 0px 1px 3px 1px rgba(0, 0, 0, 0.15);\n",
       "      filter: drop-shadow(0px 1px 2px rgba(0, 0, 0, 0.3));\n",
       "      fill: #FFFFFF;\n",
       "    }\n",
       "  </style>\n",
       "\n",
       "      <script>\n",
       "        const buttonEl =\n",
       "          document.querySelector('#df-afadac31-a460-412a-8c40-76e01daa7473 button.colab-df-convert');\n",
       "        buttonEl.style.display =\n",
       "          google.colab.kernel.accessAllowed ? 'block' : 'none';\n",
       "\n",
       "        async function convertToInteractive(key) {\n",
       "          const element = document.querySelector('#df-afadac31-a460-412a-8c40-76e01daa7473');\n",
       "          const dataTable =\n",
       "            await google.colab.kernel.invokeFunction('convertToInteractive',\n",
       "                                                     [key], {});\n",
       "          if (!dataTable) return;\n",
       "\n",
       "          const docLinkHtml = 'Like what you see? Visit the ' +\n",
       "            '<a target=\"_blank\" href=https://colab.research.google.com/notebooks/data_table.ipynb>data table notebook</a>'\n",
       "            + ' to learn more about interactive tables.';\n",
       "          element.innerHTML = '';\n",
       "          dataTable['output_type'] = 'display_data';\n",
       "          await google.colab.output.renderOutput(dataTable, element);\n",
       "          const docLink = document.createElement('div');\n",
       "          docLink.innerHTML = docLinkHtml;\n",
       "          element.appendChild(docLink);\n",
       "        }\n",
       "      </script>\n",
       "    </div>\n",
       "  </div>\n",
       "  "
      ],
      "text/plain": [
       "       trans_date_trans_time        cc_num      merchant      category  \\\n",
       "count           11697.000000  11697.000000  11697.000000  11697.000000   \n",
       "mean             5718.969479    451.177225    345.241173      6.397367   \n",
       "std              3302.417726    261.413036    202.787532      3.912136   \n",
       "min                 0.000000      0.000000      0.000000      0.000000   \n",
       "25%              2862.000000    224.000000    167.000000      3.000000   \n",
       "50%              5713.000000    445.000000    347.000000      6.000000   \n",
       "75%              8578.000000    683.000000    521.000000     10.000000   \n",
       "max             11448.000000    905.000000    692.000000     13.000000   \n",
       "\n",
       "                amt         first          last        gender        street  \\\n",
       "count  11697.000000  11697.000000  11697.000000  11697.000000  11697.000000   \n",
       "mean    3750.754125    170.531846    244.953407      0.445670    449.051552   \n",
       "std     2080.049564     94.757875    133.631772      0.497061    259.216150   \n",
       "min        0.000000      0.000000      0.000000      0.000000      0.000000   \n",
       "25%     2076.000000     85.000000    135.000000      0.000000    228.000000   \n",
       "50%     3802.000000    174.000000    248.000000      0.000000    448.000000   \n",
       "75%     5565.000000    246.000000    362.000000      1.000000    669.000000   \n",
       "max     7279.000000    337.000000    464.000000      1.000000    905.000000   \n",
       "\n",
       "               city  ...           lat          long      city_pop  \\\n",
       "count  11697.000000  ...  11697.000000  11697.000000  11697.000000   \n",
       "mean     418.297854  ...    439.302984    447.928785    406.101137   \n",
       "std      241.386412  ...    260.779262    256.537649    235.375901   \n",
       "min        0.000000  ...      0.000000      0.000000      0.000000   \n",
       "25%      206.000000  ...    208.000000    232.000000    205.000000   \n",
       "50%      412.000000  ...    434.000000    445.000000    403.000000   \n",
       "75%      633.000000  ...    663.000000    673.000000    615.000000   \n",
       "max      834.000000  ...    892.000000    892.000000    820.000000   \n",
       "\n",
       "                job           dob     trans_num     unix_time     merch_lat  \\\n",
       "count  11697.000000  11697.000000  11697.000000  11697.000000  11697.000000   \n",
       "mean     239.447722    490.833889   5848.000000   5718.969479   5847.409849   \n",
       "std      134.466686    252.040884   3376.777384   3302.417726   3376.133079   \n",
       "min        0.000000      0.000000      0.000000      0.000000      0.000000   \n",
       "25%      121.000000    293.000000   2924.000000   2862.000000   2924.000000   \n",
       "50%      237.000000    509.000000   5848.000000   5713.000000   5848.000000   \n",
       "75%      358.000000    701.000000   8772.000000   8578.000000   8771.000000   \n",
       "max      474.000000    891.000000  11696.000000  11448.000000  11694.000000   \n",
       "\n",
       "         merch_long      is_fraud  \n",
       "count  11697.000000  11697.000000  \n",
       "mean    5848.000000      0.002650  \n",
       "std     3376.777384      0.053051  \n",
       "min        0.000000      0.000000  \n",
       "25%     2924.000000      0.000000  \n",
       "50%     5848.000000      0.000000  \n",
       "75%     8772.000000      0.000000  \n",
       "max    11696.000000      2.000000  \n",
       "\n",
       "[8 rows x 22 columns]"
      ]
     },
     "execution_count": 40,
     "metadata": {},
     "output_type": "execute_result"
    }
   ],
   "source": [
    "df.describe()"
   ]
  },
  {
   "cell_type": "code",
   "execution_count": null,
   "metadata": {
    "colab": {
     "base_uri": "https://localhost:8080/",
     "height": 514
    },
    "id": "9NuqIP0eIbHt",
    "outputId": "df259687-cd45-48e5-ca3d-849297833867"
   },
   "outputs": [
    {
     "data": {
      "image/png": "[encoded data removed]",
      "text/plain": [
       "<Figure size 1008x576 with 1 Axes>"
      ]
     },
     "metadata": {
      "needs_background": "light"
     },
     "output_type": "display_data"
    }
   ],
   "source": [
    "#Determine the number of fraud and valid transactions in the entire dataset\n",
    "\n",
    "count_classes = pd.value_counts(df['is_fraud'], sort = True)\n",
    "count_classes.plot(kind = 'bar', rot=0)\n",
    "plt.title(\"Transaction Class Distribution\")\n",
    "plt.xticks(range(2), LABELS)\n",
    "plt.xlabel(\"is_fraud\")\n",
    "plt.ylabel(\"Frequency\");"
   ]
  },
  {
   "cell_type": "code",
   "execution_count": null,
   "metadata": {
    "id": "HaGAO9jMIbHt"
   },
   "outputs": [],
   "source": [
    "#Assigning the transaction class \"0 = NORMAL  & 1 = FRAUD\"\n",
    "Normal = df[df['is_fraud']==0]\n",
    "Fraud = df[df['is_fraud']==1]"
   ]
  },
  {
   "cell_type": "code",
   "execution_count": null,
   "metadata": {
    "colab": {
     "base_uri": "https://localhost:8080/"
    },
    "id": "szbt9yT9IbHu",
    "outputId": "43844f77-3bf1-44fd-a23b-de4b03b4030f"
   },
   "outputs": [
    {
     "data": {
      "text/plain": [
       "(11667, 22)"
      ]
     },
     "execution_count": 43,
     "metadata": {},
     "output_type": "execute_result"
    }
   ],
   "source": [
    "Normal.shape"
   ]
  },
  {
   "cell_type": "code",
   "execution_count": null,
   "metadata": {
    "colab": {
     "base_uri": "https://localhost:8080/"
    },
    "id": "F7xlTLPIIbHu",
    "outputId": "c1e932ff-14dd-498c-faf2-7f13f95279ca"
   },
   "outputs": [
    {
     "data": {
      "text/plain": [
       "(29, 22)"
      ]
     },
     "execution_count": 44,
     "metadata": {},
     "output_type": "execute_result"
    }
   ],
   "source": [
    "Fraud.shape"
   ]
  },
  {
   "cell_type": "code",
   "execution_count": null,
   "metadata": {
    "colab": {
     "base_uri": "https://localhost:8080/"
    },
    "id": "dZ9EWHgzIbHu",
    "outputId": "3ca2f681-eed3-4967-f715-74731ad6f335"
   },
   "outputs": [
    {
     "data": {
      "text/plain": [
       "count    11667.000000\n",
       "mean      3748.797891\n",
       "std       2079.377167\n",
       "min          0.000000\n",
       "25%       2076.000000\n",
       "50%       3801.000000\n",
       "75%       5560.000000\n",
       "max       7279.000000\n",
       "Name: amt, dtype: float64"
      ]
     },
     "execution_count": 45,
     "metadata": {},
     "output_type": "execute_result"
    }
   ],
   "source": [
    "#How different are the amount of money used in different transaction classes?\n",
    "\n",
    "Normal.amt.describe()"
   ]
  },
  {
   "cell_type": "code",
   "execution_count": null,
   "metadata": {
    "colab": {
     "base_uri": "https://localhost:8080/"
    },
    "id": "zMQFveTWIbHv",
    "outputId": "46101855-798d-4613-f1a1-7ec810ec9d37"
   },
   "outputs": [
    {
     "data": {
      "text/plain": [
       "count      29.000000\n",
       "mean     4447.586207\n",
       "std      2247.694319\n",
       "min       384.000000\n",
       "25%      2645.000000\n",
       "50%      5296.000000\n",
       "75%      6368.000000\n",
       "max      7255.000000\n",
       "Name: amt, dtype: float64"
      ]
     },
     "execution_count": 46,
     "metadata": {},
     "output_type": "execute_result"
    }
   ],
   "source": [
    "#How different are the amount of money used in different transaction classes?\n",
    "\n",
    "Fraud.amt.describe()"
   ]
  },
  {
   "cell_type": "code",
   "execution_count": null,
   "metadata": {
    "colab": {
     "base_uri": "https://localhost:8080/",
     "height": 554
    },
    "id": "BI-kBKKbIbHv",
    "outputId": "023dab6c-5708-4f7d-a79d-2754c15ef23d"
   },
   "outputs": [
    {
     "data": {
      "image/png": "[encoded data removed]",
      "text/plain": [
       "<Figure size 1008x576 with 2 Axes>"
      ]
     },
     "metadata": {
      "needs_background": "light"
     },
     "output_type": "display_data"
    }
   ],
   "source": [
    "#Let's have a more graphical representation of the data\n",
    "\n",
    "f, (ax1, ax2) = plt.subplots(2, 1, sharex=True)\n",
    "f.suptitle('Amount per transaction by class')\n",
    "bins = 50\n",
    "ax1.hist(Fraud.amt, bins = bins)\n",
    "ax1.set_title('Fraud')\n",
    "ax2.hist(Normal.amt, bins = bins)\n",
    "ax2.set_title('Normal')\n",
    "plt.xlabel('Amount ($)')\n",
    "plt.ylabel('Number of Transactions')\n",
    "plt.xlim((0, 20000))\n",
    "plt.yscale('log')\n",
    "plt.show();"
   ]
  },
  {
   "cell_type": "markdown",
   "metadata": {
    "id": "GVRc2p2vIbHv"
   },
   "source": [
    "**Do fraudulent transactions occur more often during certain time frame ? Let us find out with a visual representation.**"
   ]
  },
  {
   "cell_type": "code",
   "execution_count": null,
   "metadata": {
    "colab": {
     "base_uri": "https://localhost:8080/",
     "height": 554
    },
    "id": "kHNV-_WTIbHw",
    "outputId": "f2ddadc8-7811-48d7-fbf7-e9703cf702c8"
   },
   "outputs": [
    {
     "data": {
      "image/png": "[encoded data removed]",
      "text/plain": [
       "<Figure size 1008x576 with 2 Axes>"
      ]
     },
     "metadata": {
      "needs_background": "light"
     },
     "output_type": "display_data"
    }
   ],
   "source": [
    "#Graphical representation of the data\n",
    "\n",
    "f, (ax1, ax2) = plt.subplots(2, 1, sharex=True)\n",
    "f.suptitle('Time of transaction vs Amount by class')\n",
    "ax1.scatter(Fraud.unix_time, Fraud.amt)\n",
    "ax1.set_title('Fraud')\n",
    "ax2.scatter(Normal.unix_time, Normal.amt)\n",
    "ax2.set_title('Normal')\n",
    "plt.xlabel('Time')\n",
    "plt.ylabel('Amount')\n",
    "plt.show();"
   ]
  },
  {
   "cell_type": "code",
   "execution_count": null,
   "metadata": {
    "colab": {
     "base_uri": "https://localhost:8080/"
    },
    "id": "yKJUn1tJIbHw",
    "outputId": "53de3e05-080b-44c4-e623-3a7d09b3bcdc"
   },
   "outputs": [
    {
     "data": {
      "text/plain": [
       "(1170, 22)"
      ]
     },
     "execution_count": 49,
     "metadata": {},
     "output_type": "execute_result"
    }
   ],
   "source": [
    "df1.shape"
   ]
  },
  {
   "cell_type": "code",
   "execution_count": null,
   "metadata": {
    "id": "oQf9QXCWIbHx"
   },
   "outputs": [],
   "source": [
    "#Determine the number of fraud and valid transactions in the dataset.\n",
    "\n",
    "Fraud = df1[df1['is_fraud']==1]\n",
    "Valid = df1[df1['is_fraud']==0]\n",
    "outlier_fraction = len(Fraud)/float(len(Valid))"
   ]
  },
  {
   "cell_type": "code",
   "execution_count": null,
   "metadata": {
    "colab": {
     "base_uri": "https://localhost:8080/"
    },
    "id": "gNGKP71IIbHx",
    "outputId": "62c2234a-8d77-4835-8636-2ad216c1a6fd"
   },
   "outputs": [
    {
     "name": "stdout",
     "output_type": "stream",
     "text": [
      "0.003430531732418525\n",
      "Fraud Cases : 4\n",
      "Valid Cases : 1166\n"
     ]
    }
   ],
   "source": [
    "#Now let us print the outlier fraction and no of Fraud and Valid Transaction cases\n",
    "\n",
    "print(outlier_fraction)\n",
    "print(\"Fraud Cases : {}\".format(len(Fraud)))\n",
    "print(\"Valid Cases : {}\".format(len(Valid)))"
   ]
  },
  {
   "cell_type": "code",
   "execution_count": null,
   "metadata": {
    "colab": {
     "base_uri": "https://localhost:8080/",
     "height": 643
    },
    "id": "glrvvSp7IbHx",
    "outputId": "29a2efcd-0c9d-4df2-a206-83e921344be0"
   },
   "outputs": [
    {
     "data": {
      "image/png": "[encoded data removed]",
      "text/plain": [
       "<Figure size 864x648 with 2 Axes>"
      ]
     },
     "metadata": {
      "needs_background": "light"
     },
     "output_type": "display_data"
    }
   ],
   "source": [
    "#Correlation Matrix\n",
    "\n",
    "correlation_matrix = df1.corr()\n",
    "fig = plt.figure(figsize=(12,9))\n",
    "sns.heatmap(correlation_matrix,vmax=0.8,square = True)\n",
    "plt.show()"
   ]
  },
  {
   "cell_type": "markdown",
   "metadata": {
    "id": "4HadhHAXIbHx"
   },
   "source": [
    "\n"
   ]
  },
  {
   "cell_type": "code",
   "execution_count": null,
   "metadata": {
    "colab": {
     "base_uri": "https://localhost:8080/"
    },
    "id": "XL9lpLktIbHy",
    "outputId": "38a2ea5c-04a6-48c9-d02e-a60a80eb1e2e"
   },
   "outputs": [
    {
     "name": "stdout",
     "output_type": "stream",
     "text": [
      "(1170, 21)\n",
      "(1170,)\n"
     ]
    }
   ],
   "source": [
    "#Get all the columns from the dataframe\n",
    "\n",
    "columns = df1.columns.tolist()\n",
    "# Filter the columns to remove data we do not want \n",
    "columns = [c for c in columns if c not in [\"is_fraud\"]]\n",
    "# Store the variable we are predicting \n",
    "target = \"is_fraud\"\n",
    "# Define a random state \n",
    "state = np.random.RandomState(42)\n",
    "X = df1[columns]\n",
    "Y = df1[target]\n",
    "X_outliers = state.uniform(low=0, high=1, size=(X.shape[0], X.shape[1]))\n",
    "# Print the shapes of X & Y\n",
    "print(X.shape)\n",
    "print(Y.shape)"
   ]
  },
  {
   "cell_type": "markdown",
   "metadata": {
    "id": "4jJ9UN9PIbHy"
   },
   "source": [
    "Define the outlier detection methods"
   ]
  },
  {
   "cell_type": "code",
   "execution_count": null,
   "metadata": {
    "colab": {
     "base_uri": "https://localhost:8080/"
    },
    "id": "tJlKRYmAgTJ-",
    "outputId": "764aa200-bf65-49c8-fcf6-e7ab9009ecf0"
   },
   "outputs": [
    {
     "name": "stdout",
     "output_type": "stream",
     "text": [
      "Looking in indexes: https://pypi.org/simple, https://us-python.pkg.dev/colab-wheels/public/simple/\n",
      "Requirement already satisfied: scikit-learn in /usr/local/lib/python3.8/dist-packages (1.2.0)\n",
      "Requirement already satisfied: numpy>=1.17.3 in /usr/local/lib/python3.8/dist-packages (from scikit-learn) (1.21.6)\n",
      "Requirement already satisfied: scipy>=1.3.2 in /usr/local/lib/python3.8/dist-packages (from scikit-learn) (1.7.3)\n",
      "Requirement already satisfied: threadpoolctl>=2.0.0 in /usr/local/lib/python3.8/dist-packages (from scikit-learn) (3.1.0)\n",
      "Requirement already satisfied: joblib>=1.1.1 in /usr/local/lib/python3.8/dist-packages (from scikit-learn) (1.2.0)\n"
     ]
    }
   ],
   "source": [
    "!pip install -U scikit-learn\n"
   ]
  },
  {
   "cell_type": "code",
   "execution_count": null,
   "metadata": {
    "colab": {
     "base_uri": "https://localhost:8080/"
    },
    "id": "f2aRsLtfl0eL",
    "outputId": "88f74e44-1cac-4b22-a56e-e60fcd6afa7f"
   },
   "outputs": [
    {
     "name": "stdout",
     "output_type": "stream",
     "text": [
      "Name: scikit-learn\n",
      "Version: 1.2.0\n",
      "Summary: A set of python modules for machine learning and data mining\n",
      "Home-page: http://scikit-learn.org\n",
      "Author: None\n",
      "Author-email: None\n",
      "License: new BSD\n",
      "Location: /usr/local/lib/python3.8/dist-packages\n",
      "Requires: joblib, threadpoolctl, numpy, scipy\n",
      "Required-by: yellowbrick, sklearn-pandas, qudida, mlxtend, lightgbm, librosa, imbalanced-learn, fastai\n",
      "absl-py==1.3.0\n",
      "aeppl==0.0.33\n",
      "aesara==2.7.9\n",
      "aiohttp==3.8.3\n",
      "aiosignal==1.3.1\n",
      "alabaster==0.7.12\n",
      "albumentations==1.2.1\n",
      "altair==4.2.0\n",
      "appdirs==1.4.4\n",
      "arviz==0.12.1\n",
      "astor==0.8.1\n",
      "astropy==4.3.1\n",
      "astunparse==1.6.3\n",
      "async-timeout==4.0.2\n",
      "atari-py==0.2.9\n",
      "atomicwrites==1.4.1\n",
      "attrs==22.1.0\n",
      "audioread==3.0.0\n",
      "autograd==1.5\n",
      "Babel==2.11.0\n",
      "backcall==0.2.0\n",
      "beautifulsoup4==4.6.3\n",
      "bleach==5.0.1\n",
      "blis==0.7.9\n",
      "bokeh==2.3.3\n",
      "branca==0.6.0\n",
      "bs4==0.0.1\n",
      "CacheControl==0.12.11\n",
      "cachetools==5.2.0\n",
      "catalogue==2.0.8\n",
      "certifi==2022.9.24\n",
      "cffi==1.15.1\n",
      "cftime==1.6.2\n",
      "chardet==3.0.4\n",
      "charset-normalizer==2.1.1\n",
      "click==7.1.2\n",
      "clikit==0.6.2\n",
      "cloudpickle==1.5.0\n",
      "cmake==3.22.6\n",
      "cmdstanpy==1.0.8\n",
      "colorcet==3.0.1\n",
      "colorlover==0.3.0\n",
      "community==1.0.0b1\n",
      "confection==0.0.3\n",
      "cons==0.4.5\n",
      "contextlib2==0.5.5\n",
      "convertdate==2.4.0\n",
      "crashtest==0.3.1\n",
      "crcmod==1.7\n",
      "cufflinks==0.17.3\n",
      "cupy-cuda11x==11.0.0\n",
      "cvxopt==1.3.0\n",
      "cvxpy==1.2.2\n",
      "cycler==0.11.0\n",
      "cymem==2.0.7\n",
      "Cython==0.29.32\n",
      "daft==0.0.4\n",
      "dask==2022.2.1\n",
      "datascience==0.17.5\n",
      "db-dtypes==1.0.4\n",
      "debugpy==1.0.0\n",
      "decorator==4.4.2\n",
      "defusedxml==0.7.1\n",
      "descartes==1.1.0\n",
      "dill==0.3.6\n",
      "distributed==2022.2.1\n",
      "dlib==19.24.0\n",
      "dm-tree==0.1.7\n",
      "dnspython==2.2.1\n",
      "docutils==0.17.1\n",
      "dopamine-rl==1.0.5\n",
      "earthengine-api==0.1.334\n",
      "easydict==1.10\n",
      "ecos==2.0.10\n",
      "editdistance==0.5.3\n",
      "en-core-web-sm @ https://github.com/explosion/spacy-models/releases/download/en_core_web_sm-3.4.1/en_core_web_sm-3.4.1-py3-none-any.whl\n",
      "entrypoints==0.4\n",
      "ephem==4.1.3\n",
      "et-xmlfile==1.1.0\n",
      "etils==0.9.0\n",
      "etuples==0.3.8\n",
      "fa2==0.3.5\n",
      "fastai==2.7.10\n",
      "fastcore==1.5.27\n",
      "fastdownload==0.0.7\n",
      "fastdtw==0.3.4\n",
      "fastjsonschema==2.16.2\n",
      "fastprogress==1.0.3\n",
      "fastrlock==0.8.1\n",
      "feather-format==0.4.1\n",
      "filelock==3.8.0\n",
      "firebase-admin==5.3.0\n",
      "fix-yahoo-finance==0.0.22\n",
      "Flask==1.1.4\n",
      "flatbuffers==1.12\n",
      "folium==0.12.1.post1\n",
      "frozenlist==1.3.3\n",
      "fsspec==2022.11.0\n",
      "future==0.16.0\n",
      "gast==0.4.0\n",
      "GDAL==2.2.2\n",
      "gdown==4.4.0\n",
      "gensim==3.6.0\n",
      "geographiclib==1.52\n",
      "geopy==1.17.0\n",
      "gin-config==0.5.0\n",
      "glob2==0.7\n",
      "google==2.0.3\n",
      "google-api-core==2.8.2\n",
      "google-api-python-client==1.12.11\n",
      "google-auth==2.15.0\n",
      "google-auth-httplib2==0.0.4\n",
      "google-auth-oauthlib==0.4.6\n",
      "google-cloud-bigquery==3.3.6\n",
      "google-cloud-bigquery-storage==2.16.2\n",
      "google-cloud-core==2.3.2\n",
      "google-cloud-datastore==2.9.0\n",
      "google-cloud-firestore==2.7.2\n",
      "google-cloud-language==2.6.1\n",
      "google-cloud-storage==2.5.0\n",
      "google-cloud-translate==3.8.4\n",
      "google-colab @ file:///colabtools/dist/google-colab-1.0.0.tar.gz\n",
      "google-crc32c==1.5.0\n",
      "google-pasta==0.2.0\n",
      "google-resumable-media==2.4.0\n",
      "googleapis-common-protos==1.57.0\n",
      "googledrivedownloader==0.4\n",
      "graphviz==0.10.1\n",
      "greenlet==2.0.1\n",
      "grpcio==1.51.1\n",
      "grpcio-status==1.48.2\n",
      "gspread==3.4.2\n",
      "gspread-dataframe==3.0.8\n",
      "gym==0.25.2\n",
      "gym-notices==0.0.8\n",
      "h5py==3.1.0\n",
      "HeapDict==1.0.1\n",
      "hijri-converter==2.2.4\n",
      "holidays==0.17.2\n",
      "holoviews==1.14.9\n",
      "html5lib==1.0.1\n",
      "httpimport==0.5.18\n",
      "httplib2==0.17.4\n",
      "httpstan==4.6.1\n",
      "humanize==0.5.1\n",
      "hyperopt==0.1.2\n",
      "idna==2.10\n",
      "imageio==2.9.0\n",
      "imagesize==1.4.1\n",
      "imbalanced-learn==0.8.1\n",
      "imblearn==0.0\n",
      "imgaug==0.4.0\n",
      "importlib-metadata==4.13.0\n",
      "importlib-resources==5.10.0\n",
      "imutils==0.5.4\n",
      "inflect==2.1.0\n",
      "intel-openmp==2022.2.1\n",
      "intervaltree==2.1.0\n",
      "ipykernel==5.3.4\n",
      "ipython==7.9.0\n",
      "ipython-genutils==0.2.0\n",
      "ipython-sql==0.3.9\n",
      "ipywidgets==7.7.1\n",
      "itsdangerous==1.1.0\n",
      "jax==0.3.25\n",
      "jaxlib @ https://storage.googleapis.com/jax-releases/cuda11/jaxlib-0.3.25+cuda11.cudnn805-cp38-cp38-manylinux2014_x86_64.whl\n",
      "jieba==0.42.1\n",
      "Jinja2==2.11.3\n",
      "joblib==1.2.0\n",
      "jpeg4py==0.1.4\n",
      "jsonschema==4.3.3\n",
      "jupyter-client==6.1.12\n",
      "jupyter-console==6.1.0\n",
      "jupyter-core==5.1.0\n",
      "jupyterlab-widgets==3.0.3\n",
      "kaggle==1.5.12\n",
      "kapre==0.3.7\n",
      "keras==2.9.0\n",
      "Keras-Preprocessing==1.1.2\n",
      "keras-vis==0.4.1\n",
      "kiwisolver==1.4.4\n",
      "korean-lunar-calendar==0.3.1\n",
      "langcodes==3.3.0\n",
      "libclang==14.0.6\n",
      "librosa==0.8.1\n",
      "lightgbm==2.2.3\n",
      "llvmlite==0.39.1\n",
      "lmdb==0.99\n",
      "locket==1.0.0\n",
      "logical-unification==0.4.5\n",
      "LunarCalendar==0.0.9\n",
      "lxml==4.9.1\n",
      "Markdown==3.4.1\n",
      "MarkupSafe==2.0.1\n",
      "marshmallow==3.19.0\n",
      "matplotlib==3.2.2\n",
      "matplotlib-venn==0.11.7\n",
      "miniKanren==1.0.3\n",
      "missingno==0.5.1\n",
      "mistune==0.8.4\n",
      "mizani==0.7.3\n",
      "mkl==2019.0\n",
      "mlxtend==0.14.0\n",
      "more-itertools==9.0.0\n",
      "moviepy==0.2.3.5\n",
      "mpmath==1.2.1\n",
      "msgpack==1.0.4\n",
      "multidict==6.0.3\n",
      "multipledispatch==0.6.0\n",
      "multitasking==0.0.11\n",
      "murmurhash==1.0.9\n",
      "music21==5.5.0\n",
      "natsort==5.5.0\n",
      "nbconvert==5.6.1\n",
      "nbformat==5.7.0\n",
      "netCDF4==1.6.2\n",
      "networkx==2.8.8\n",
      "nibabel==3.0.2\n",
      "nltk==3.7\n",
      "notebook==5.7.16\n",
      "numba==0.56.4\n",
      "numexpr==2.8.4\n",
      "numpy==1.21.6\n",
      "oauth2client==4.1.3\n",
      "oauthlib==3.2.2\n",
      "okgrade==0.4.3\n",
      "opencv-contrib-python==4.6.0.66\n",
      "opencv-python==4.6.0.66\n",
      "opencv-python-headless==4.6.0.66\n",
      "openpyxl==3.0.10\n",
      "opt-einsum==3.3.0\n",
      "osqp==0.6.2.post0\n",
      "packaging==21.3\n",
      "palettable==3.3.0\n",
      "pandas==1.3.5\n",
      "pandas-datareader==0.9.0\n",
      "pandas-gbq==0.17.9\n",
      "pandas-profiling==1.4.1\n",
      "pandocfilters==1.5.0\n",
      "panel==0.12.1\n",
      "param==1.12.2\n",
      "parso==0.8.3\n",
      "partd==1.3.0\n",
      "pastel==0.2.1\n",
      "pathlib==1.0.1\n",
      "pathy==0.10.0\n",
      "patsy==0.5.3\n",
      "pep517==0.13.0\n",
      "pexpect==4.8.0\n",
      "pickleshare==0.7.5\n",
      "Pillow==7.1.2\n",
      "pip-tools==6.2.0\n",
      "platformdirs==2.5.4\n",
      "plotly==5.5.0\n",
      "plotnine==0.8.0\n",
      "pluggy==0.7.1\n",
      "pooch==1.6.0\n",
      "portpicker==1.3.9\n",
      "prefetch-generator==1.0.3\n",
      "preshed==3.0.8\n",
      "prettytable==3.5.0\n",
      "progressbar2==3.38.0\n",
      "prometheus-client==0.15.0\n",
      "promise==2.3\n",
      "prompt-toolkit==2.0.10\n",
      "prophet==1.1.1\n",
      "proto-plus==1.22.1\n",
      "protobuf==3.19.6\n",
      "psutil==5.4.8\n",
      "psycopg2==2.9.5\n",
      "ptyprocess==0.7.0\n",
      "py==1.11.0\n",
      "pyarrow==9.0.0\n",
      "pyasn1==0.4.8\n",
      "pyasn1-modules==0.2.8\n",
      "pycocotools==2.0.6\n",
      "pycparser==2.21\n",
      "pyct==0.4.8\n",
      "pydantic==1.10.2\n",
      "pydata-google-auth==1.4.0\n",
      "pydot==1.3.0\n",
      "pydot-ng==2.0.0\n",
      "pydotplus==2.0.2\n",
      "PyDrive==1.3.1\n",
      "pyemd==0.5.1\n",
      "pyerfa==2.0.0.1\n",
      "Pygments==2.6.1\n",
      "pygobject==3.26.1\n",
      "pylev==1.4.0\n",
      "pymc==4.1.4\n",
      "PyMeeus==0.5.11\n",
      "pymongo==4.3.3\n",
      "pymystem3==0.2.0\n",
      "PyOpenGL==3.1.6\n",
      "pyparsing==3.0.9\n",
      "pyrsistent==0.19.2\n",
      "pysimdjson==3.2.0\n",
      "pysndfile==1.3.8\n",
      "PySocks==1.7.1\n",
      "pystan==3.3.0\n",
      "pytest==3.6.4\n",
      "python-apt==0.0.0\n",
      "python-dateutil==2.8.2\n",
      "python-louvain==0.16\n",
      "python-slugify==7.0.0\n",
      "python-utils==3.4.5\n",
      "pytz==2022.6\n",
      "pyviz-comms==2.2.1\n",
      "PyWavelets==1.4.1\n",
      "PyYAML==6.0\n",
      "pyzmq==23.2.1\n",
      "qdldl==0.1.5.post2\n",
      "qudida==0.0.4\n",
      "regex==2022.6.2\n",
      "requests==2.23.0\n",
      "requests-oauthlib==1.3.1\n",
      "resampy==0.4.2\n",
      "rpy2==3.5.5\n",
      "rsa==4.9\n",
      "scikit-image==0.18.3\n",
      "scikit-learn==1.2.0\n",
      "scipy==1.7.3\n",
      "screen-resolution-extra==0.0.0\n",
      "scs==3.2.2\n",
      "seaborn==0.11.2\n",
      "Send2Trash==1.8.0\n",
      "setuptools-git==1.2\n",
      "Shapely==1.8.5.post1\n",
      "six==1.15.0\n",
      "sklearn-pandas==1.8.0\n",
      "smart-open==5.2.1\n",
      "snowballstemmer==2.2.0\n",
      "sortedcontainers==2.4.0\n",
      "soundfile==0.11.0\n",
      "spacy==3.4.3\n",
      "spacy-legacy==3.0.10\n",
      "spacy-loggers==1.0.3\n",
      "Sphinx==1.8.6\n",
      "sphinxcontrib-serializinghtml==1.1.5\n",
      "sphinxcontrib-websupport==1.2.4\n",
      "SQLAlchemy==1.4.44\n",
      "sqlparse==0.4.3\n",
      "srsly==2.4.5\n",
      "statsmodels==0.12.2\n",
      "sympy==1.7.1\n",
      "tables==3.7.0\n",
      "tabulate==0.8.10\n",
      "tblib==1.7.0\n",
      "tenacity==8.1.0\n",
      "tensorboard==2.9.1\n",
      "tensorboard-data-server==0.6.1\n",
      "tensorboard-plugin-wit==1.8.1\n",
      "tensorflow==2.9.2\n",
      "tensorflow-datasets==4.6.0\n",
      "tensorflow-estimator==2.9.0\n",
      "tensorflow-gcs-config==2.9.1\n",
      "tensorflow-hub==0.12.0\n",
      "tensorflow-io-gcs-filesystem==0.28.0\n",
      "tensorflow-metadata==1.11.0\n",
      "tensorflow-probability==0.17.0\n",
      "termcolor==2.1.1\n",
      "terminado==0.13.3\n",
      "testpath==0.6.0\n",
      "text-unidecode==1.3\n",
      "textblob==0.15.3\n",
      "thinc==8.1.5\n",
      "threadpoolctl==3.1.0\n",
      "tifffile==2022.10.10\n",
      "toml==0.10.2\n",
      "tomli==2.0.1\n",
      "toolz==0.12.0\n",
      "torch @ https://download.pytorch.org/whl/cu116/torch-1.13.0%2Bcu116-cp38-cp38-linux_x86_64.whl\n",
      "torchaudio @ https://download.pytorch.org/whl/cu116/torchaudio-0.13.0%2Bcu116-cp38-cp38-linux_x86_64.whl\n",
      "torchsummary==1.5.1\n",
      "torchtext==0.14.0\n",
      "torchvision @ https://download.pytorch.org/whl/cu116/torchvision-0.14.0%2Bcu116-cp38-cp38-linux_x86_64.whl\n",
      "tornado==6.0.4\n",
      "tqdm==4.64.1\n",
      "traitlets==5.6.0\n",
      "tweepy==3.10.0\n",
      "typeguard==2.7.1\n",
      "typer==0.7.0\n",
      "typing-extensions==4.4.0\n",
      "tzlocal==1.5.1\n",
      "uritemplate==3.0.1\n",
      "urllib3==1.24.3\n",
      "vega-datasets==0.9.0\n",
      "wasabi==0.10.1\n",
      "wcwidth==0.2.5\n",
      "webargs==8.2.0\n",
      "webencodings==0.5.1\n",
      "Werkzeug==1.0.1\n",
      "widgetsnbextension==3.6.1\n",
      "wordcloud==1.8.2.2\n",
      "wrapt==1.14.1\n",
      "xarray==0.20.2\n",
      "xarray-einstats==0.3.0\n",
      "xgboost==0.90\n",
      "xkit==0.0.0\n",
      "xlrd==1.2.0\n",
      "xlwt==1.3.0\n",
      "yarl==1.8.2\n",
      "yellowbrick==1.5\n",
      "zict==2.2.0\n",
      "zipp==3.11.0\n",
      "\n",
      "System:\n",
      "    python: 3.8.16 (default, Dec  7 2022, 01:12:13)  [GCC 7.5.0]\n",
      "executable: /usr/bin/python3\n",
      "   machine: Linux-5.10.133+-x86_64-with-glibc2.27\n",
      "\n",
      "Python dependencies:\n",
      "      sklearn: 1.2.0\n",
      "          pip: 21.1.3\n",
      "   setuptools: 57.4.0\n",
      "        numpy: 1.21.6\n",
      "        scipy: 1.7.3\n",
      "       Cython: 0.29.32\n",
      "       pandas: 1.3.5\n",
      "   matplotlib: 3.2.2\n",
      "       joblib: 1.2.0\n",
      "threadpoolctl: 3.1.0\n",
      "\n",
      "Built with OpenMP: True\n",
      "\n",
      "threadpoolctl info:\n",
      "       user_api: openmp\n",
      "   internal_api: openmp\n",
      "         prefix: libgomp\n",
      "       filepath: /usr/local/lib/python3.8/dist-packages/scikit_learn.libs/libgomp-a34b3233.so.1.0.0\n",
      "        version: None\n",
      "    num_threads: 2\n",
      "\n",
      "       user_api: blas\n",
      "   internal_api: openblas\n",
      "         prefix: libopenblas\n",
      "       filepath: /usr/local/lib/python3.8/dist-packages/numpy.libs/libopenblasp-r0-2d23e62b.3.17.so\n",
      "        version: 0.3.17\n",
      "threading_layer: pthreads\n",
      "   architecture: Haswell\n",
      "    num_threads: 2\n",
      "\n",
      "       user_api: blas\n",
      "   internal_api: openblas\n",
      "         prefix: libopenblas\n",
      "       filepath: /usr/local/lib/python3.8/dist-packages/scipy.libs/libopenblasp-r0-8b9e111f.3.17.so\n",
      "        version: 0.3.17\n",
      "threading_layer: pthreads\n",
      "   architecture: Haswell\n",
      "    num_threads: 2\n"
     ]
    }
   ],
   "source": [
    "!python -m pip show scikit-learn  # to see which version and where scikit-learn is installed\n",
    "!python -m pip freeze  # to see all packages installed in the active virtualenv\n",
    "!python -c \"import sklearn; sklearn.show_versions()\""
   ]
  },
  {
   "cell_type": "code",
   "execution_count": null,
   "metadata": {
    "id": "rz_Z3WtBIbHy"
   },
   "outputs": [],
   "source": [
    "#Define the outlier detection methods\n",
    "\n",
    "classifiers = {\n",
    "    \"Isolation Forest\":IsolationForest(n_estimators=100, max_samples=len(X), \n",
    "                                       contamination=outlier_fraction,random_state=state, verbose=0),\n",
    "    \"Local Outlier Factor\":LocalOutlierFactor(n_neighbors=20, algorithm='auto', \n",
    "                                              leaf_size=30, metric='minkowski',\n",
    "                                              p=2, metric_params=None, contamination=outlier_fraction),\n",
    "    \"Support Vector Machine\":OneClassSVM(kernel='rbf', degree=3, gamma='scale',nu=0.05,max_iter=-1)\n",
    "   \n",
    "}"
   ]
  },
  {
   "cell_type": "markdown",
   "metadata": {
    "id": "SsDueqNKIbHy"
   },
   "source": [
    "Fit the model"
   ]
  },
  {
   "cell_type": "code",
   "execution_count": null,
   "metadata": {
    "colab": {
     "base_uri": "https://localhost:8080/"
    },
    "id": "iHbUhls2IbHz",
    "outputId": "793d0d76-3dcb-443d-d50a-694fa4959227"
   },
   "outputs": [
    {
     "name": "stderr",
     "output_type": "stream",
     "text": [
      "/usr/local/lib/python3.8/dist-packages/sklearn/base.py:409: UserWarning: X does not have valid feature names, but IsolationForest was fitted with feature names\n",
      "  warnings.warn(\n"
     ]
    },
    {
     "name": "stdout",
     "output_type": "stream",
     "text": [
      "Isolation Forest: 9\n",
      "Accuracy Score :\n",
      "0.9923076923076923\n",
      "Classification Report :\n",
      "              precision    recall  f1-score   support\n",
      "\n",
      "           0       1.00      1.00      1.00      1166\n",
      "           1       0.00      0.00      0.00         4\n",
      "\n",
      "    accuracy                           0.99      1170\n",
      "   macro avg       0.50      0.50      0.50      1170\n",
      "weighted avg       0.99      0.99      0.99      1170\n",
      "\n",
      "Local Outlier Factor: 9\n",
      "Accuracy Score :\n",
      "0.9923076923076923\n",
      "Classification Report :\n",
      "              precision    recall  f1-score   support\n",
      "\n",
      "           0       1.00      1.00      1.00      1166\n",
      "           1       0.00      0.00      0.00         4\n",
      "\n",
      "    accuracy                           0.99      1170\n",
      "   macro avg       0.50      0.50      0.50      1170\n",
      "weighted avg       0.99      0.99      0.99      1170\n",
      "\n",
      "Support Vector Machine: 62\n",
      "Accuracy Score :\n",
      "0.947008547008547\n",
      "Classification Report :\n",
      "              precision    recall  f1-score   support\n",
      "\n",
      "           0       1.00      0.95      0.97      1166\n",
      "           1       0.02      0.25      0.03         4\n",
      "\n",
      "    accuracy                           0.95      1170\n",
      "   macro avg       0.51      0.60      0.50      1170\n",
      "weighted avg       0.99      0.95      0.97      1170\n",
      "\n"
     ]
    }
   ],
   "source": [
    "#Fit the model\n",
    "\n",
    "n_outliers = len(Fraud)\n",
    "for i, (clf_name,clf) in enumerate(classifiers.items()):\n",
    "    #Fit the data and tag outliers\n",
    "    if clf_name == \"Local Outlier Factor\":\n",
    "        y_pred = clf.fit_predict(X)\n",
    "        scores_prediction = clf.negative_outlier_factor_\n",
    "    elif clf_name == \"Support Vector Machine\":\n",
    "        clf.fit(X)\n",
    "        y_pred = clf.predict(X)\n",
    "    else:    \n",
    "        clf.fit(X)\n",
    "        scores_prediction = clf.decision_function(X)\n",
    "        y_pred = clf.predict(X)\n",
    "    #Reshape the prediction values to 0 for Valid transactions , 1 for Fraud transactions\n",
    "    y_pred[y_pred == 1] = 0\n",
    "    y_pred[y_pred == -1] = 1\n",
    "    n_errors = (y_pred != Y).sum()\n",
    "    # Run Classification Metrics\n",
    "    print(\"{}: {}\".format(clf_name,n_errors))\n",
    "    print(\"Accuracy Score :\")\n",
    "    print(accuracy_score(Y,y_pred))\n",
    "    print(\"Classification Report :\")\n",
    "    print(classification_report(Y,y_pred))"
   ]
  }
 ],
 "metadata": {
  "accelerator": "GPU",
  "colab": {
   "provenance": []
  },
  "gpuClass": "standard",
  "kernelspec": {
   "display_name": "Python 3 (ipykernel)",
   "language": "python",
   "name": "python3"
  },
  "language_info": {
   "codemirror_mode": {
    "name": "ipython",
    "version": 3
   },
   "file_extension": ".py",
   "mimetype": "text/x-python",
   "name": "python",
   "nbconvert_exporter": "python",
   "pygments_lexer": "ipython3",
   "version": "3.9.13"
  }
 },
 "nbformat": 4,
 "nbformat_minor": 1
}
